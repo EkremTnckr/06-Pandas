{
 "cells": [
  {
   "cell_type": "markdown",
   "id": "18aacafa",
   "metadata": {},
   "source": [
    "# <font color='green'> <b>Text Data - String Methods</b><font color='black'>"
   ]
  },
  {
   "cell_type": "markdown",
   "id": "4b384c0f",
   "metadata": {},
   "source": [
    "**str.lower():** Bir stringi küçük harfe dönüştürür\n",
    "\n",
    "**str.upper():** Bir stringi büyük harfe dönüştürür\n",
    "\n",
    "**str.capitalize():** İlk karakteri büyük harfe dönüştürür\n",
    "\n",
    "**str.title():** Her kelimenin ilk karakterini büyük harfe dönüştürür\n",
    "\n",
    "**str.swapcase():** Büyük harfleri küçük, küçük harfleri büyük harfe dönüştürür\n",
    "\n",
    "**str.isalpha():** Tüm karakterlerin alfabede yer alıp almadığını kontrol ederek True veya False değeri döndürür\n",
    "\n",
    "**str.isnumeric():** Tüm karakterlerin sayısal değer içerip içermediğini kontrol ederek True veya False değeri döndürür\n",
    "\n",
    "**str.isalnum():** Tüm karakterlerin harf veya sayısal değer içerip içermediğini kontrol ederek True veya False değeri döndürür\n",
    "\n",
    "**str.endswith():** Bir stringin belirtilen değerle bittiğini kontrol ederek True veya False değeri döndürür\n",
    "\n",
    "**str.startswith():** Bir stringin belirtilen değerle başladığını kontrol ederek True veya False değeri döndürür\n",
    "\n",
    "**str.contains():** Bir alt dizinin bir dizede bulunup bulunmadığını kontrol ederek her bir öğe için True veya False değeri döndürür\n",
    "\n",
    "**str.strip():** Bir stringin başındaki ve sonundaki boşlukları temizler ve kırpılmış bir versiyonunu döndürür\n",
    "\n",
    "**str.replace():** Belirtilen bir değeri başka bir değerle değiştirilmiş bir string döndürür \n",
    "\n",
    "**str.split():** Bir stringi belirtilen ayraçta böler ve bir liste döndürür\n",
    "\n",
    "**str.find():** Bir stringde belirtilen bir değeri arar ve bulunduğu konumun indeksini döndürür\n",
    "\n",
    "**str.findall():** Bir desendeki tüm örneklerin bir listesini döndürür\n",
    "\n",
    "**str.join():** Bir iterable ın öğelerini bir stringe dönüştürür\n",
    "\n",
    "[SOURCE01](https://docs.python.org/3/library/stdtypes.html#string-methods),\n",
    "[SOURCE02](https://pandas.pydata.org/pandas-docs/stable/user_guide/text.html),\n",
    "[SOURCE03](https://www.aboutdatablog.com/post/10-most-useful-string-functions-in-pandas),\n",
    "[SOURCE04](https://www.tutorialspoint.com/python_pandas/python_pandas_working_with_text_data.htm) &\n",
    "[Video](https://www.youtube.com/watch?v=6JNwK6hEneg)"
   ]
  },
  {
   "cell_type": "code",
   "execution_count": 1,
   "id": "ac27b953",
   "metadata": {
    "ExecuteTime": {
     "end_time": "2024-05-19T22:49:07.720354Z",
     "start_time": "2024-05-19T22:49:07.350444Z"
    }
   },
   "outputs": [],
   "source": [
    "import numpy as np\n",
    "import pandas as pd"
   ]
  },
  {
   "cell_type": "code",
   "execution_count": 2,
   "id": "696c168a",
   "metadata": {
    "ExecuteTime": {
     "end_time": "2024-05-19T22:49:07.725730Z",
     "start_time": "2024-05-19T22:49:07.722363Z"
    }
   },
   "outputs": [],
   "source": [
    "df = pd.DataFrame(data=[['Tyler DURDEN', 'HR', \"manager\", \"$180,000\", 55],\n",
    "                        ['MARIA puder', \"IT\", \"data analyst\", \"150000dolar\", 28],\n",
    "                        ['dorothy gale', \"HR\", \"recruiter\", \"$120,000\", 30],\n",
    "                        ['Edmond Dantes', \"IT\", \"data scientist\", \"$170,000\",\"-\"], \n",
    "                        ['Gregor SAMSA',\"IT\", \"frontend developer\", \"120000dolar\",32]],\n",
    "                  columns=[\"name\",\"dept\", \"job\", \"salary\", \"age\"])"
   ]
  },
  {
   "cell_type": "code",
   "execution_count": 3,
   "id": "99bde7b6",
   "metadata": {
    "ExecuteTime": {
     "end_time": "2024-05-19T22:49:07.739774Z",
     "start_time": "2024-05-19T22:49:07.727739Z"
    }
   },
   "outputs": [
    {
     "data": {
      "text/html": [
       "<div>\n",
       "<style scoped>\n",
       "    .dataframe tbody tr th:only-of-type {\n",
       "        vertical-align: middle;\n",
       "    }\n",
       "\n",
       "    .dataframe tbody tr th {\n",
       "        vertical-align: top;\n",
       "    }\n",
       "\n",
       "    .dataframe thead th {\n",
       "        text-align: right;\n",
       "    }\n",
       "</style>\n",
       "<table border=\"1\" class=\"dataframe\">\n",
       "  <thead>\n",
       "    <tr style=\"text-align: right;\">\n",
       "      <th></th>\n",
       "      <th>name</th>\n",
       "      <th>dept</th>\n",
       "      <th>job</th>\n",
       "      <th>salary</th>\n",
       "      <th>age</th>\n",
       "    </tr>\n",
       "  </thead>\n",
       "  <tbody>\n",
       "    <tr>\n",
       "      <th>0</th>\n",
       "      <td>Tyler DURDEN</td>\n",
       "      <td>HR</td>\n",
       "      <td>manager</td>\n",
       "      <td>$180,000</td>\n",
       "      <td>55</td>\n",
       "    </tr>\n",
       "    <tr>\n",
       "      <th>1</th>\n",
       "      <td>MARIA puder</td>\n",
       "      <td>IT</td>\n",
       "      <td>data analyst</td>\n",
       "      <td>150000dolar</td>\n",
       "      <td>28</td>\n",
       "    </tr>\n",
       "    <tr>\n",
       "      <th>2</th>\n",
       "      <td>dorothy gale</td>\n",
       "      <td>HR</td>\n",
       "      <td>recruiter</td>\n",
       "      <td>$120,000</td>\n",
       "      <td>30</td>\n",
       "    </tr>\n",
       "    <tr>\n",
       "      <th>3</th>\n",
       "      <td>Edmond Dantes</td>\n",
       "      <td>IT</td>\n",
       "      <td>data scientist</td>\n",
       "      <td>$170,000</td>\n",
       "      <td>-</td>\n",
       "    </tr>\n",
       "    <tr>\n",
       "      <th>4</th>\n",
       "      <td>Gregor SAMSA</td>\n",
       "      <td>IT</td>\n",
       "      <td>frontend developer</td>\n",
       "      <td>120000dolar</td>\n",
       "      <td>32</td>\n",
       "    </tr>\n",
       "  </tbody>\n",
       "</table>\n",
       "</div>"
      ],
      "text/plain": [
       "            name dept                 job       salary age\n",
       "0   Tyler DURDEN   HR             manager     $180,000  55\n",
       "1    MARIA puder   IT        data analyst  150000dolar  28\n",
       "2   dorothy gale   HR           recruiter     $120,000  30\n",
       "3  Edmond Dantes   IT      data scientist     $170,000   -\n",
       "4   Gregor SAMSA   IT  frontend developer  120000dolar  32"
      ]
     },
     "execution_count": 3,
     "metadata": {},
     "output_type": "execute_result"
    }
   ],
   "source": [
    "df"
   ]
  },
  {
   "cell_type": "code",
   "execution_count": 4,
   "id": "4eec6a30",
   "metadata": {
    "ExecuteTime": {
     "end_time": "2024-05-19T22:49:07.748827Z",
     "start_time": "2024-05-19T22:49:07.740780Z"
    }
   },
   "outputs": [
    {
     "name": "stdout",
     "output_type": "stream",
     "text": [
      "<class 'pandas.core.frame.DataFrame'>\n",
      "RangeIndex: 5 entries, 0 to 4\n",
      "Data columns (total 5 columns):\n",
      " #   Column  Non-Null Count  Dtype \n",
      "---  ------  --------------  ----- \n",
      " 0   name    5 non-null      object\n",
      " 1   dept    5 non-null      object\n",
      " 2   job     5 non-null      object\n",
      " 3   salary  5 non-null      object\n",
      " 4   age     5 non-null      object\n",
      "dtypes: object(5)\n",
      "memory usage: 332.0+ bytes\n"
     ]
    }
   ],
   "source": [
    "df.info()"
   ]
  },
  {
   "cell_type": "code",
   "execution_count": 5,
   "id": "c1c0cf50",
   "metadata": {
    "ExecuteTime": {
     "end_time": "2024-05-19T22:49:07.754267Z",
     "start_time": "2024-05-19T22:49:07.750023Z"
    }
   },
   "outputs": [
    {
     "data": {
      "text/plain": [
       "0     Tyler DURDEN\n",
       "1      MARIA puder\n",
       "2     dorothy gale\n",
       "3    Edmond Dantes\n",
       "4     Gregor SAMSA\n",
       "Name: name, dtype: object"
      ]
     },
     "execution_count": 5,
     "metadata": {},
     "output_type": "execute_result"
    }
   ],
   "source": [
    "df.name"
   ]
  },
  {
   "cell_type": "code",
   "execution_count": 6,
   "id": "0ad48e1c",
   "metadata": {
    "ExecuteTime": {
     "end_time": "2024-05-19T22:49:07.760716Z",
     "start_time": "2024-05-19T22:49:07.755275Z"
    }
   },
   "outputs": [
    {
     "data": {
      "text/plain": [
       "0     tyler durden\n",
       "1      maria puder\n",
       "2     dorothy gale\n",
       "3    edmond dantes\n",
       "4     gregor samsa\n",
       "Name: name, dtype: object"
      ]
     },
     "execution_count": 6,
     "metadata": {},
     "output_type": "execute_result"
    }
   ],
   "source": [
    "df.name.str.lower()"
   ]
  },
  {
   "cell_type": "code",
   "execution_count": 7,
   "id": "66e3e4b6",
   "metadata": {
    "ExecuteTime": {
     "end_time": "2024-05-19T22:49:07.767404Z",
     "start_time": "2024-05-19T22:49:07.761733Z"
    }
   },
   "outputs": [
    {
     "data": {
      "text/plain": [
       "0     TYLER DURDEN\n",
       "1      MARIA PUDER\n",
       "2     DOROTHY GALE\n",
       "3    EDMOND DANTES\n",
       "4     GREGOR SAMSA\n",
       "Name: name, dtype: object"
      ]
     },
     "execution_count": 7,
     "metadata": {},
     "output_type": "execute_result"
    }
   ],
   "source": [
    "df.name.str.upper()"
   ]
  },
  {
   "cell_type": "code",
   "execution_count": 8,
   "id": "c20f3507",
   "metadata": {
    "ExecuteTime": {
     "end_time": "2024-05-19T22:49:07.773826Z",
     "start_time": "2024-05-19T22:49:07.767908Z"
    }
   },
   "outputs": [
    {
     "data": {
      "text/plain": [
       "0     Tyler Durden\n",
       "1      Maria Puder\n",
       "2     Dorothy Gale\n",
       "3    Edmond Dantes\n",
       "4     Gregor Samsa\n",
       "Name: name, dtype: object"
      ]
     },
     "execution_count": 8,
     "metadata": {},
     "output_type": "execute_result"
    }
   ],
   "source": [
    "df.name.str.title()  # title -->her kelimenin ilk harfini buyuk yapar."
   ]
  },
  {
   "cell_type": "code",
   "execution_count": 9,
   "id": "808a3ff0",
   "metadata": {
    "ExecuteTime": {
     "end_time": "2024-05-19T22:49:07.781895Z",
     "start_time": "2024-05-19T22:49:07.776843Z"
    }
   },
   "outputs": [
    {
     "data": {
      "text/plain": [
       "0     Tyler durden\n",
       "1      Maria puder\n",
       "2     Dorothy gale\n",
       "3    Edmond dantes\n",
       "4     Gregor samsa\n",
       "Name: name, dtype: object"
      ]
     },
     "execution_count": 9,
     "metadata": {},
     "output_type": "execute_result"
    }
   ],
   "source": [
    "df.name.str.capitalize() # capitalize ilk kelimenin ilk harfi buytuk digerlerini kucuk yapar."
   ]
  },
  {
   "cell_type": "code",
   "execution_count": 10,
   "id": "606429b6",
   "metadata": {
    "ExecuteTime": {
     "end_time": "2024-05-19T22:49:07.788801Z",
     "start_time": "2024-05-19T22:49:07.782902Z"
    }
   },
   "outputs": [
    {
     "data": {
      "text/plain": [
       "0     tYLER durden\n",
       "1      maria PUDER\n",
       "2     DOROTHY GALE\n",
       "3    eDMOND dANTES\n",
       "4     gREGOR samsa\n",
       "Name: name, dtype: object"
      ]
     },
     "execution_count": 10,
     "metadata": {},
     "output_type": "execute_result"
    }
   ],
   "source": [
    "df.name.str.swapcase() # swapcase--> buyuk harfleri kucuk kucuk harfleri buyuk yapor."
   ]
  },
  {
   "cell_type": "code",
   "execution_count": 11,
   "id": "90cfb995",
   "metadata": {
    "ExecuteTime": {
     "end_time": "2024-05-19T22:49:07.795355Z",
     "start_time": "2024-05-19T22:49:07.789808Z"
    }
   },
   "outputs": [
    {
     "data": {
      "text/plain": [
       "0     True\n",
       "1    False\n",
       "2     True\n",
       "3    False\n",
       "4    False\n",
       "Name: job, dtype: bool"
      ]
     },
     "execution_count": 11,
     "metadata": {},
     "output_type": "execute_result"
    }
   ],
   "source": [
    "df.job.str.isalpha() # isalfa-->butun degerleri kontrol edip alfabade olup olmadiklarini kontrol ederek True veya False dondurur."
   ]
  },
  {
   "cell_type": "code",
   "execution_count": 12,
   "id": "3572b4e8",
   "metadata": {
    "ExecuteTime": {
     "end_time": "2024-05-19T22:49:07.801651Z",
     "start_time": "2024-05-19T22:49:07.796370Z"
    }
   },
   "outputs": [
    {
     "data": {
      "text/plain": [
       "0    False\n",
       "1     True\n",
       "2    False\n",
       "3    False\n",
       "4     True\n",
       "Name: salary, dtype: bool"
      ]
     },
     "execution_count": 12,
     "metadata": {},
     "output_type": "execute_result"
    }
   ],
   "source": [
    "df.salary.str.isalnum()"
   ]
  },
  {
   "cell_type": "code",
   "execution_count": 13,
   "id": "9fde99d1",
   "metadata": {
    "ExecuteTime": {
     "end_time": "2024-05-19T22:49:07.808319Z",
     "start_time": "2024-05-19T22:49:07.802658Z"
    }
   },
   "outputs": [
    {
     "data": {
      "text/plain": [
       "0      NaN\n",
       "1      NaN\n",
       "2      NaN\n",
       "3    False\n",
       "4      NaN\n",
       "Name: age, dtype: object"
      ]
     },
     "execution_count": 13,
     "metadata": {},
     "output_type": "execute_result"
    }
   ],
   "source": [
    "df.age.str.isnumeric() # numerik olan degerleri True , numerik olmayan degerleri false dondurur.\n",
    "                       #  - isareti object kategorsinde oldugundan string kabul etmiyor."
   ]
  },
  {
   "cell_type": "code",
   "execution_count": 14,
   "id": "2577ca61",
   "metadata": {
    "ExecuteTime": {
     "end_time": "2024-05-19T22:49:07.815500Z",
     "start_time": "2024-05-19T22:49:07.809329Z"
    }
   },
   "outputs": [
    {
     "data": {
      "text/plain": [
       "0     True\n",
       "1     True\n",
       "2     True\n",
       "3    False\n",
       "4     True\n",
       "Name: age, dtype: boolean"
      ]
     },
     "execution_count": 14,
     "metadata": {},
     "output_type": "execute_result"
    }
   ],
   "source": [
    "df.age.astype(\"string\").str.isnumeric()"
   ]
  },
  {
   "cell_type": "code",
   "execution_count": 15,
   "id": "d8411c06",
   "metadata": {
    "ExecuteTime": {
     "end_time": "2024-05-19T22:49:07.822372Z",
     "start_time": "2024-05-19T22:49:07.816508Z"
    }
   },
   "outputs": [
    {
     "data": {
      "text/plain": [
       "0      NaN\n",
       "1      NaN\n",
       "2      NaN\n",
       "3    False\n",
       "4      NaN\n",
       "Name: age, dtype: object"
      ]
     },
     "execution_count": 15,
     "metadata": {},
     "output_type": "execute_result"
    }
   ],
   "source": [
    "df.age.str.islower()"
   ]
  },
  {
   "cell_type": "code",
   "execution_count": 16,
   "id": "cb3c3aa6",
   "metadata": {
    "ExecuteTime": {
     "end_time": "2024-05-19T22:49:07.829018Z",
     "start_time": "2024-05-19T22:49:07.823686Z"
    }
   },
   "outputs": [
    {
     "data": {
      "text/plain": [
       "0    False\n",
       "1    False\n",
       "2    False\n",
       "3    False\n",
       "4    False\n",
       "Name: age, dtype: boolean"
      ]
     },
     "execution_count": 16,
     "metadata": {},
     "output_type": "execute_result"
    }
   ],
   "source": [
    "df.age.astype(\"string\").str.islower()"
   ]
  },
  {
   "cell_type": "code",
   "execution_count": 17,
   "id": "a4409ab3",
   "metadata": {
    "ExecuteTime": {
     "end_time": "2024-05-19T22:49:07.835368Z",
     "start_time": "2024-05-19T22:49:07.830025Z"
    }
   },
   "outputs": [
    {
     "data": {
      "text/plain": [
       "0    False\n",
       "1    False\n",
       "2    False\n",
       "3    False\n",
       "4    False\n",
       "Name: name, dtype: bool"
      ]
     },
     "execution_count": 17,
     "metadata": {},
     "output_type": "execute_result"
    }
   ],
   "source": [
    "df.name.str.isupper()"
   ]
  },
  {
   "cell_type": "code",
   "execution_count": null,
   "id": "0fbe246c",
   "metadata": {},
   "outputs": [],
   "source": []
  },
  {
   "cell_type": "code",
   "execution_count": 18,
   "id": "7269fc60",
   "metadata": {
    "ExecuteTime": {
     "end_time": "2024-05-19T22:49:07.843253Z",
     "start_time": "2024-05-19T22:49:07.836376Z"
    }
   },
   "outputs": [
    {
     "data": {
      "text/html": [
       "<div>\n",
       "<style scoped>\n",
       "    .dataframe tbody tr th:only-of-type {\n",
       "        vertical-align: middle;\n",
       "    }\n",
       "\n",
       "    .dataframe tbody tr th {\n",
       "        vertical-align: top;\n",
       "    }\n",
       "\n",
       "    .dataframe thead th {\n",
       "        text-align: right;\n",
       "    }\n",
       "</style>\n",
       "<table border=\"1\" class=\"dataframe\">\n",
       "  <thead>\n",
       "    <tr style=\"text-align: right;\">\n",
       "      <th></th>\n",
       "      <th>name</th>\n",
       "      <th>dept</th>\n",
       "      <th>job</th>\n",
       "      <th>salary</th>\n",
       "      <th>age</th>\n",
       "    </tr>\n",
       "  </thead>\n",
       "  <tbody>\n",
       "    <tr>\n",
       "      <th>0</th>\n",
       "      <td>Tyler DURDEN</td>\n",
       "      <td>HR</td>\n",
       "      <td>manager</td>\n",
       "      <td>$180,000</td>\n",
       "      <td>55</td>\n",
       "    </tr>\n",
       "    <tr>\n",
       "      <th>1</th>\n",
       "      <td>MARIA puder</td>\n",
       "      <td>IT</td>\n",
       "      <td>data analyst</td>\n",
       "      <td>150000dolar</td>\n",
       "      <td>28</td>\n",
       "    </tr>\n",
       "    <tr>\n",
       "      <th>2</th>\n",
       "      <td>dorothy gale</td>\n",
       "      <td>HR</td>\n",
       "      <td>recruiter</td>\n",
       "      <td>$120,000</td>\n",
       "      <td>30</td>\n",
       "    </tr>\n",
       "    <tr>\n",
       "      <th>3</th>\n",
       "      <td>Edmond Dantes</td>\n",
       "      <td>IT</td>\n",
       "      <td>data scientist</td>\n",
       "      <td>$170,000</td>\n",
       "      <td>-</td>\n",
       "    </tr>\n",
       "    <tr>\n",
       "      <th>4</th>\n",
       "      <td>Gregor SAMSA</td>\n",
       "      <td>IT</td>\n",
       "      <td>frontend developer</td>\n",
       "      <td>120000dolar</td>\n",
       "      <td>32</td>\n",
       "    </tr>\n",
       "  </tbody>\n",
       "</table>\n",
       "</div>"
      ],
      "text/plain": [
       "            name dept                 job       salary age\n",
       "0   Tyler DURDEN   HR             manager     $180,000  55\n",
       "1    MARIA puder   IT        data analyst  150000dolar  28\n",
       "2   dorothy gale   HR           recruiter     $120,000  30\n",
       "3  Edmond Dantes   IT      data scientist     $170,000   -\n",
       "4   Gregor SAMSA   IT  frontend developer  120000dolar  32"
      ]
     },
     "execution_count": 18,
     "metadata": {},
     "output_type": "execute_result"
    }
   ],
   "source": [
    "df"
   ]
  },
  {
   "cell_type": "code",
   "execution_count": 19,
   "id": "a4538696",
   "metadata": {
    "ExecuteTime": {
     "end_time": "2024-05-19T22:49:07.849789Z",
     "start_time": "2024-05-19T22:49:07.844266Z"
    }
   },
   "outputs": [
    {
     "data": {
      "text/plain": [
       "0    False\n",
       "1    False\n",
       "2    False\n",
       "3    False\n",
       "4     True\n",
       "Name: job, dtype: bool"
      ]
     },
     "execution_count": 19,
     "metadata": {},
     "output_type": "execute_result"
    }
   ],
   "source": [
    "df.job.str.startswith(\"f\")"
   ]
  },
  {
   "cell_type": "code",
   "execution_count": 20,
   "id": "41434924",
   "metadata": {
    "ExecuteTime": {
     "end_time": "2024-05-19T22:49:07.856152Z",
     "start_time": "2024-05-19T22:49:07.850795Z"
    }
   },
   "outputs": [
    {
     "data": {
      "text/plain": [
       "0    False\n",
       "1     True\n",
       "2    False\n",
       "3     True\n",
       "4    False\n",
       "Name: job, dtype: bool"
      ]
     },
     "execution_count": 20,
     "metadata": {},
     "output_type": "execute_result"
    }
   ],
   "source": [
    "df.job.str.endswith(\"st\")"
   ]
  },
  {
   "cell_type": "code",
   "execution_count": 21,
   "id": "e79b6f70",
   "metadata": {
    "ExecuteTime": {
     "end_time": "2024-05-19T22:49:07.863765Z",
     "start_time": "2024-05-19T22:49:07.858164Z"
    }
   },
   "outputs": [
    {
     "data": {
      "text/plain": [
       "0    False\n",
       "1     True\n",
       "2    False\n",
       "3     True\n",
       "4    False\n",
       "Name: job, dtype: bool"
      ]
     },
     "execution_count": 21,
     "metadata": {},
     "output_type": "execute_result"
    }
   ],
   "source": [
    "df.job.str.contains(\"data\")"
   ]
  },
  {
   "cell_type": "code",
   "execution_count": 22,
   "id": "0b3b435f",
   "metadata": {
    "ExecuteTime": {
     "end_time": "2024-05-19T22:49:07.872824Z",
     "start_time": "2024-05-19T22:49:07.864775Z"
    }
   },
   "outputs": [
    {
     "data": {
      "text/html": [
       "<div>\n",
       "<style scoped>\n",
       "    .dataframe tbody tr th:only-of-type {\n",
       "        vertical-align: middle;\n",
       "    }\n",
       "\n",
       "    .dataframe tbody tr th {\n",
       "        vertical-align: top;\n",
       "    }\n",
       "\n",
       "    .dataframe thead th {\n",
       "        text-align: right;\n",
       "    }\n",
       "</style>\n",
       "<table border=\"1\" class=\"dataframe\">\n",
       "  <thead>\n",
       "    <tr style=\"text-align: right;\">\n",
       "      <th></th>\n",
       "      <th>name</th>\n",
       "      <th>dept</th>\n",
       "      <th>job</th>\n",
       "      <th>salary</th>\n",
       "      <th>age</th>\n",
       "    </tr>\n",
       "  </thead>\n",
       "  <tbody>\n",
       "    <tr>\n",
       "      <th>1</th>\n",
       "      <td>MARIA puder</td>\n",
       "      <td>IT</td>\n",
       "      <td>data analyst</td>\n",
       "      <td>150000dolar</td>\n",
       "      <td>28</td>\n",
       "    </tr>\n",
       "    <tr>\n",
       "      <th>3</th>\n",
       "      <td>Edmond Dantes</td>\n",
       "      <td>IT</td>\n",
       "      <td>data scientist</td>\n",
       "      <td>$170,000</td>\n",
       "      <td>-</td>\n",
       "    </tr>\n",
       "  </tbody>\n",
       "</table>\n",
       "</div>"
      ],
      "text/plain": [
       "            name dept             job       salary age\n",
       "1    MARIA puder   IT    data analyst  150000dolar  28\n",
       "3  Edmond Dantes   IT  data scientist     $170,000   -"
      ]
     },
     "execution_count": 22,
     "metadata": {},
     "output_type": "execute_result"
    }
   ],
   "source": [
    "df[df.job.str.contains(\"data\")]  # contains--> iceriyor mu "
   ]
  },
  {
   "cell_type": "code",
   "execution_count": 23,
   "id": "0d1fa724",
   "metadata": {
    "ExecuteTime": {
     "end_time": "2024-05-19T22:49:07.878973Z",
     "start_time": "2024-05-19T22:49:07.874478Z"
    }
   },
   "outputs": [
    {
     "data": {
      "text/plain": [
       "0       $180,000\n",
       "1    150000dolar\n",
       "2       $120,000\n",
       "3       $170,000\n",
       "4    120000dolar\n",
       "Name: salary, dtype: object"
      ]
     },
     "execution_count": 23,
     "metadata": {},
     "output_type": "execute_result"
    }
   ],
   "source": [
    "df.salary"
   ]
  },
  {
   "cell_type": "code",
   "execution_count": 24,
   "id": "93e2ea33",
   "metadata": {
    "ExecuteTime": {
     "end_time": "2024-05-19T22:49:07.884802Z",
     "start_time": "2024-05-19T22:49:07.879984Z"
    }
   },
   "outputs": [
    {
     "data": {
      "text/plain": [
       "0    $180,000\n",
       "1      150000\n",
       "2    $120,000\n",
       "3    $170,000\n",
       "4      120000\n",
       "Name: salary, dtype: object"
      ]
     },
     "execution_count": 24,
     "metadata": {},
     "output_type": "execute_result"
    }
   ],
   "source": [
    "df.salary.str.rstrip(\"dolar\")"
   ]
  },
  {
   "cell_type": "code",
   "execution_count": 25,
   "id": "cf062cef",
   "metadata": {
    "ExecuteTime": {
     "end_time": "2024-05-19T22:49:07.893795Z",
     "start_time": "2024-05-19T22:49:07.885813Z"
    }
   },
   "outputs": [
    {
     "data": {
      "text/plain": [
       "0    [$180,000]\n",
       "1    [150000, ]\n",
       "2    [$120,000]\n",
       "3    [$170,000]\n",
       "4    [120000, ]\n",
       "Name: salary, dtype: object"
      ]
     },
     "execution_count": 25,
     "metadata": {},
     "output_type": "execute_result"
    }
   ],
   "source": [
    "df.salary.str.rsplit(\"dolar\")"
   ]
  },
  {
   "cell_type": "code",
   "execution_count": 26,
   "id": "ae64052a",
   "metadata": {
    "ExecuteTime": {
     "end_time": "2024-05-19T22:49:07.900256Z",
     "start_time": "2024-05-19T22:49:07.894807Z"
    }
   },
   "outputs": [
    {
     "data": {
      "text/plain": [
       "0    180,000\n",
       "1     150000\n",
       "2    120,000\n",
       "3    170,000\n",
       "4     120000\n",
       "Name: salary, dtype: object"
      ]
     },
     "execution_count": 26,
     "metadata": {},
     "output_type": "execute_result"
    }
   ],
   "source": [
    "df.salary.str.rstrip(\"dolar\").str.lstrip(\"$\")"
   ]
  },
  {
   "cell_type": "code",
   "execution_count": 27,
   "id": "118898d1",
   "metadata": {
    "ExecuteTime": {
     "end_time": "2024-05-19T22:49:07.909408Z",
     "start_time": "2024-05-19T22:49:07.903267Z"
    }
   },
   "outputs": [
    {
     "data": {
      "text/plain": [
       "0    180,000\n",
       "1     150000\n",
       "2    120,000\n",
       "3    170,000\n",
       "4     120000\n",
       "Name: salary, dtype: object"
      ]
     },
     "execution_count": 27,
     "metadata": {},
     "output_type": "execute_result"
    }
   ],
   "source": [
    "df.salary.str.strip(\"dolar$\") # sayilar yanindaki $ isaretini temizleyelim"
   ]
  },
  {
   "cell_type": "code",
   "execution_count": 28,
   "id": "c4e60475",
   "metadata": {
    "ExecuteTime": {
     "end_time": "2024-05-19T22:49:07.915214Z",
     "start_time": "2024-05-19T22:49:07.910713Z"
    }
   },
   "outputs": [
    {
     "data": {
      "text/plain": [
       "0    180,000\n",
       "1     150000\n",
       "2    120,000\n",
       "3    170,000\n",
       "4     120000\n",
       "Name: salary, dtype: object"
      ]
     },
     "execution_count": 28,
     "metadata": {},
     "output_type": "execute_result"
    }
   ],
   "source": [
    "df.salary.str.strip(\"dolar$,\")   # strip() baştan ve sondan değişiklik yapar"
   ]
  },
  {
   "cell_type": "code",
   "execution_count": 29,
   "id": "d9eab6b6",
   "metadata": {
    "ExecuteTime": {
     "end_time": "2024-05-19T22:49:07.922112Z",
     "start_time": "2024-05-19T22:49:07.916222Z"
    }
   },
   "outputs": [
    {
     "data": {
      "text/plain": [
       "0    180000\n",
       "1    150000\n",
       "2    120000\n",
       "3    170000\n",
       "4    120000\n",
       "Name: salary, dtype: object"
      ]
     },
     "execution_count": 29,
     "metadata": {},
     "output_type": "execute_result"
    }
   ],
   "source": [
    "df.salary.str.strip(\"dolar$\").str.replace(\",\", \"\")"
   ]
  },
  {
   "cell_type": "code",
   "execution_count": 30,
   "id": "a5f2bc08",
   "metadata": {
    "ExecuteTime": {
     "end_time": "2024-05-19T22:49:07.928472Z",
     "start_time": "2024-05-19T22:49:07.923121Z"
    }
   },
   "outputs": [
    {
     "data": {
      "text/plain": [
       "0    180,000\n",
       "1     150000\n",
       "2    120,000\n",
       "3    170,000\n",
       "4     120000\n",
       "Name: salary, dtype: object"
      ]
     },
     "execution_count": 30,
     "metadata": {},
     "output_type": "execute_result"
    }
   ],
   "source": [
    "df.salary.str.strip(\"dolar$\").replace(\",\", \"\")"
   ]
  },
  {
   "cell_type": "code",
   "execution_count": 31,
   "id": "1115f170",
   "metadata": {
    "ExecuteTime": {
     "end_time": "2024-05-19T22:49:07.936003Z",
     "start_time": "2024-05-19T22:49:07.930486Z"
    }
   },
   "outputs": [
    {
     "data": {
      "text/plain": [
       "0    180000.0\n",
       "1    150000.0\n",
       "2    120000.0\n",
       "3    170000.0\n",
       "4    120000.0\n",
       "Name: salary, dtype: float64"
      ]
     },
     "execution_count": 31,
     "metadata": {},
     "output_type": "execute_result"
    }
   ],
   "source": [
    "df.salary.str.strip(\"dolar$\").str.replace(\",\", \"\").astype(float)"
   ]
  },
  {
   "cell_type": "code",
   "execution_count": 32,
   "id": "cb285173",
   "metadata": {
    "ExecuteTime": {
     "end_time": "2024-05-19T22:49:07.945122Z",
     "start_time": "2024-05-19T22:49:07.939017Z"
    }
   },
   "outputs": [],
   "source": [
    "df.salary = df.salary.str.strip(\"dolar$\").str.replace(\",\", \"\").astype(float)"
   ]
  },
  {
   "cell_type": "code",
   "execution_count": 37,
   "id": "499cfcfa",
   "metadata": {
    "ExecuteTime": {
     "end_time": "2024-05-19T22:49:37.752806Z",
     "start_time": "2024-05-19T22:49:37.748137Z"
    }
   },
   "outputs": [
    {
     "data": {
      "text/plain": [
       "0    180000.0\n",
       "1    150000.0\n",
       "2    120000.0\n",
       "3    170000.0\n",
       "4    120000.0\n",
       "Name: salary, dtype: float64"
      ]
     },
     "execution_count": 37,
     "metadata": {},
     "output_type": "execute_result"
    }
   ],
   "source": [
    "df.salary"
   ]
  },
  {
   "cell_type": "code",
   "execution_count": 33,
   "id": "e7857bad",
   "metadata": {
    "ExecuteTime": {
     "end_time": "2024-05-19T22:49:07.949116Z",
     "start_time": "2024-05-19T22:49:07.946128Z"
    }
   },
   "outputs": [],
   "source": [
    "# df.str.replace(\"a\", \"\")   # str ile sütunlar üzerinde işlem yapabiliriz hata verir "
   ]
  },
  {
   "cell_type": "code",
   "execution_count": 34,
   "id": "22a696a3",
   "metadata": {
    "ExecuteTime": {
     "end_time": "2024-05-19T22:49:07.956553Z",
     "start_time": "2024-05-19T22:49:07.951131Z"
    }
   },
   "outputs": [
    {
     "data": {
      "text/plain": [
       "0    55.0\n",
       "1    28.0\n",
       "2    30.0\n",
       "3     NaN\n",
       "4    32.0\n",
       "Name: age, dtype: float64"
      ]
     },
     "execution_count": 34,
     "metadata": {},
     "output_type": "execute_result"
    }
   ],
   "source": [
    "df.age.replace(\"-\", np.nan)"
   ]
  },
  {
   "cell_type": "code",
   "execution_count": 35,
   "id": "25c3035e",
   "metadata": {
    "ExecuteTime": {
     "end_time": "2024-05-19T22:49:07.963074Z",
     "start_time": "2024-05-19T22:49:07.957566Z"
    }
   },
   "outputs": [
    {
     "data": {
      "text/plain": [
       "0    55.0\n",
       "1    28.0\n",
       "2    30.0\n",
       "3     NaN\n",
       "4    32.0\n",
       "Name: age, dtype: float64"
      ]
     },
     "execution_count": 35,
     "metadata": {},
     "output_type": "execute_result"
    }
   ],
   "source": [
    "df.age= df.age.replace(\"-\", np.nan)\n",
    "df.age"
   ]
  },
  {
   "cell_type": "code",
   "execution_count": 36,
   "id": "1e9f8c48",
   "metadata": {
    "ExecuteTime": {
     "end_time": "2024-05-19T22:49:07.972729Z",
     "start_time": "2024-05-19T22:49:07.964092Z"
    }
   },
   "outputs": [
    {
     "data": {
      "text/html": [
       "<div>\n",
       "<style scoped>\n",
       "    .dataframe tbody tr th:only-of-type {\n",
       "        vertical-align: middle;\n",
       "    }\n",
       "\n",
       "    .dataframe tbody tr th {\n",
       "        vertical-align: top;\n",
       "    }\n",
       "\n",
       "    .dataframe thead th {\n",
       "        text-align: right;\n",
       "    }\n",
       "</style>\n",
       "<table border=\"1\" class=\"dataframe\">\n",
       "  <thead>\n",
       "    <tr style=\"text-align: right;\">\n",
       "      <th></th>\n",
       "      <th>name</th>\n",
       "      <th>dept</th>\n",
       "      <th>job</th>\n",
       "      <th>salary</th>\n",
       "      <th>age</th>\n",
       "    </tr>\n",
       "  </thead>\n",
       "  <tbody>\n",
       "    <tr>\n",
       "      <th>0</th>\n",
       "      <td>Tyler DURDEN</td>\n",
       "      <td>HR</td>\n",
       "      <td>manager</td>\n",
       "      <td>180000.0</td>\n",
       "      <td>55.0</td>\n",
       "    </tr>\n",
       "    <tr>\n",
       "      <th>1</th>\n",
       "      <td>MARIA puder</td>\n",
       "      <td>IT</td>\n",
       "      <td>data analyst</td>\n",
       "      <td>150000.0</td>\n",
       "      <td>28.0</td>\n",
       "    </tr>\n",
       "    <tr>\n",
       "      <th>2</th>\n",
       "      <td>dorothy gale</td>\n",
       "      <td>HR</td>\n",
       "      <td>recruiter</td>\n",
       "      <td>120000.0</td>\n",
       "      <td>30.0</td>\n",
       "    </tr>\n",
       "    <tr>\n",
       "      <th>3</th>\n",
       "      <td>Edmond Dantes</td>\n",
       "      <td>IT</td>\n",
       "      <td>data scientist</td>\n",
       "      <td>170000.0</td>\n",
       "      <td>NaN</td>\n",
       "    </tr>\n",
       "    <tr>\n",
       "      <th>4</th>\n",
       "      <td>Gregor SAMSA</td>\n",
       "      <td>IT</td>\n",
       "      <td>frontend developer</td>\n",
       "      <td>120000.0</td>\n",
       "      <td>32.0</td>\n",
       "    </tr>\n",
       "  </tbody>\n",
       "</table>\n",
       "</div>"
      ],
      "text/plain": [
       "            name dept                 job    salary   age\n",
       "0   Tyler DURDEN   HR             manager  180000.0  55.0\n",
       "1    MARIA puder   IT        data analyst  150000.0  28.0\n",
       "2   dorothy gale   HR           recruiter  120000.0  30.0\n",
       "3  Edmond Dantes   IT      data scientist  170000.0   NaN\n",
       "4   Gregor SAMSA   IT  frontend developer  120000.0  32.0"
      ]
     },
     "execution_count": 36,
     "metadata": {},
     "output_type": "execute_result"
    }
   ],
   "source": [
    "df"
   ]
  },
  {
   "cell_type": "code",
   "execution_count": null,
   "id": "dfed7b36",
   "metadata": {},
   "outputs": [],
   "source": []
  }
 ],
 "metadata": {
  "kernelspec": {
   "display_name": "Python 3 (ipykernel)",
   "language": "python",
   "name": "python3"
  },
  "language_info": {
   "codemirror_mode": {
    "name": "ipython",
    "version": 3
   },
   "file_extension": ".py",
   "mimetype": "text/x-python",
   "name": "python",
   "nbconvert_exporter": "python",
   "pygments_lexer": "ipython3",
   "version": "3.11.5"
  }
 },
 "nbformat": 4,
 "nbformat_minor": 5
}
