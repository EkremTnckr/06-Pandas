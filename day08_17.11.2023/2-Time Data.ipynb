{
 "cells": [
  {
   "cell_type": "markdown",
   "id": "63f35f96",
   "metadata": {},
   "source": [
    "# <font color='green'> <b>Time Data</b><font color='black'>"
   ]
  },
  {
   "cell_type": "code",
   "execution_count": 1,
   "id": "36e4bd53",
   "metadata": {
    "ExecuteTime": {
     "end_time": "2024-05-20T08:28:29.892803Z",
     "start_time": "2024-05-20T08:28:29.541023Z"
    }
   },
   "outputs": [],
   "source": [
    "import numpy as np\n",
    "import pandas as pd "
   ]
  },
  {
   "cell_type": "code",
   "execution_count": 2,
   "id": "96e17bb7",
   "metadata": {
    "ExecuteTime": {
     "end_time": "2024-05-20T08:28:40.361080Z",
     "start_time": "2024-05-20T08:28:40.353165Z"
    }
   },
   "outputs": [],
   "source": [
    "df = pd.read_csv(\"time_exercise.csv\")"
   ]
  },
  {
   "cell_type": "code",
   "execution_count": 3,
   "id": "958f8c54",
   "metadata": {
    "ExecuteTime": {
     "end_time": "2024-05-20T08:28:51.169484Z",
     "start_time": "2024-05-20T08:28:51.157632Z"
    }
   },
   "outputs": [
    {
     "data": {
      "text/html": [
       "<div>\n",
       "<style scoped>\n",
       "    .dataframe tbody tr th:only-of-type {\n",
       "        vertical-align: middle;\n",
       "    }\n",
       "\n",
       "    .dataframe tbody tr th {\n",
       "        vertical-align: top;\n",
       "    }\n",
       "\n",
       "    .dataframe thead th {\n",
       "        text-align: right;\n",
       "    }\n",
       "</style>\n",
       "<table border=\"1\" class=\"dataframe\">\n",
       "  <thead>\n",
       "    <tr style=\"text-align: right;\">\n",
       "      <th></th>\n",
       "      <th>id_product</th>\n",
       "      <th>order_date</th>\n",
       "      <th>product_quantity</th>\n",
       "      <th>product_price</th>\n",
       "      <th>entry_date</th>\n",
       "    </tr>\n",
       "  </thead>\n",
       "  <tbody>\n",
       "    <tr>\n",
       "      <th>0</th>\n",
       "      <td>401</td>\n",
       "      <td>2021-01-23</td>\n",
       "      <td>1.0</td>\n",
       "      <td>541.487603</td>\n",
       "      <td>2018-12-04</td>\n",
       "    </tr>\n",
       "    <tr>\n",
       "      <th>1</th>\n",
       "      <td>416</td>\n",
       "      <td>2020-04-02</td>\n",
       "      <td>1.0</td>\n",
       "      <td>131.181818</td>\n",
       "      <td>2018-12-04</td>\n",
       "    </tr>\n",
       "    <tr>\n",
       "      <th>2</th>\n",
       "      <td>717</td>\n",
       "      <td>2019-03-10</td>\n",
       "      <td>1.0</td>\n",
       "      <td>2035.488500</td>\n",
       "      <td>2018-12-04</td>\n",
       "    </tr>\n",
       "    <tr>\n",
       "      <th>3</th>\n",
       "      <td>778</td>\n",
       "      <td>2019-12-27</td>\n",
       "      <td>1.0</td>\n",
       "      <td>335.988000</td>\n",
       "      <td>2018-12-04</td>\n",
       "    </tr>\n",
       "    <tr>\n",
       "      <th>4</th>\n",
       "      <td>826</td>\n",
       "      <td>2020-02-19</td>\n",
       "      <td>1.0</td>\n",
       "      <td>342.292302</td>\n",
       "      <td>2018-12-04</td>\n",
       "    </tr>\n",
       "  </tbody>\n",
       "</table>\n",
       "</div>"
      ],
      "text/plain": [
       "   id_product  order_date  product_quantity  product_price  entry_date\n",
       "0         401  2021-01-23               1.0     541.487603  2018-12-04\n",
       "1         416  2020-04-02               1.0     131.181818  2018-12-04\n",
       "2         717  2019-03-10               1.0    2035.488500  2018-12-04\n",
       "3         778  2019-12-27               1.0     335.988000  2018-12-04\n",
       "4         826  2020-02-19               1.0     342.292302  2018-12-04"
      ]
     },
     "execution_count": 3,
     "metadata": {},
     "output_type": "execute_result"
    }
   ],
   "source": [
    "df.head()"
   ]
  },
  {
   "cell_type": "code",
   "execution_count": 4,
   "id": "342443e4",
   "metadata": {
    "ExecuteTime": {
     "end_time": "2024-05-20T08:29:13.809447Z",
     "start_time": "2024-05-20T08:29:13.801126Z"
    }
   },
   "outputs": [
    {
     "name": "stdout",
     "output_type": "stream",
     "text": [
      "<class 'pandas.core.frame.DataFrame'>\n",
      "RangeIndex: 911 entries, 0 to 910\n",
      "Data columns (total 5 columns):\n",
      " #   Column            Non-Null Count  Dtype  \n",
      "---  ------            --------------  -----  \n",
      " 0   id_product        911 non-null    int64  \n",
      " 1   order_date        911 non-null    object \n",
      " 2   product_quantity  911 non-null    float64\n",
      " 3   product_price     911 non-null    float64\n",
      " 4   entry_date        911 non-null    object \n",
      "dtypes: float64(2), int64(1), object(2)\n",
      "memory usage: 35.7+ KB\n"
     ]
    }
   ],
   "source": [
    "df.info()"
   ]
  },
  {
   "cell_type": "code",
   "execution_count": 5,
   "id": "06ae32d1",
   "metadata": {
    "ExecuteTime": {
     "end_time": "2024-05-20T08:29:37.949103Z",
     "start_time": "2024-05-20T08:29:37.932714Z"
    }
   },
   "outputs": [
    {
     "data": {
      "text/plain": [
       "0     2021-01-23\n",
       "1     2020-04-02\n",
       "2     2019-03-10\n",
       "3     2019-12-27\n",
       "4     2020-02-19\n",
       "         ...    \n",
       "906   2020-11-24\n",
       "907   2020-11-24\n",
       "908   2020-11-22\n",
       "909   2021-01-26\n",
       "910   2020-12-06\n",
       "Name: order_date, Length: 911, dtype: datetime64[ns]"
      ]
     },
     "execution_count": 5,
     "metadata": {},
     "output_type": "execute_result"
    }
   ],
   "source": [
    "pd.to_datetime(df[\"order_date\"]) # "
   ]
  },
  {
   "cell_type": "code",
   "execution_count": 6,
   "id": "6babf162",
   "metadata": {
    "ExecuteTime": {
     "end_time": "2024-05-20T08:29:49.962447Z",
     "start_time": "2024-05-20T08:29:49.955155Z"
    }
   },
   "outputs": [
    {
     "name": "stdout",
     "output_type": "stream",
     "text": [
      "<class 'pandas.core.frame.DataFrame'>\n",
      "RangeIndex: 911 entries, 0 to 910\n",
      "Data columns (total 5 columns):\n",
      " #   Column            Non-Null Count  Dtype  \n",
      "---  ------            --------------  -----  \n",
      " 0   id_product        911 non-null    int64  \n",
      " 1   order_date        911 non-null    object \n",
      " 2   product_quantity  911 non-null    float64\n",
      " 3   product_price     911 non-null    float64\n",
      " 4   entry_date        911 non-null    object \n",
      "dtypes: float64(2), int64(1), object(2)\n",
      "memory usage: 35.7+ KB\n"
     ]
    }
   ],
   "source": [
    "df.info()"
   ]
  },
  {
   "cell_type": "code",
   "execution_count": 7,
   "id": "fc48c924",
   "metadata": {
    "ExecuteTime": {
     "end_time": "2024-05-20T08:30:01.447070Z",
     "start_time": "2024-05-20T08:30:01.441750Z"
    }
   },
   "outputs": [],
   "source": [
    "df[\"order_date\"] = pd.to_datetime(df[\"order_date\"])"
   ]
  },
  {
   "cell_type": "code",
   "execution_count": 8,
   "id": "74b33bed",
   "metadata": {
    "ExecuteTime": {
     "end_time": "2024-05-20T08:30:12.979388Z",
     "start_time": "2024-05-20T08:30:12.967810Z"
    }
   },
   "outputs": [],
   "source": [
    "df[\"entry_date\"] = pd.to_datetime(df[\"entry_date\"])"
   ]
  },
  {
   "cell_type": "code",
   "execution_count": 9,
   "id": "8d23225f",
   "metadata": {
    "ExecuteTime": {
     "end_time": "2024-05-20T08:30:25.116260Z",
     "start_time": "2024-05-20T08:30:25.109530Z"
    }
   },
   "outputs": [
    {
     "name": "stdout",
     "output_type": "stream",
     "text": [
      "<class 'pandas.core.frame.DataFrame'>\n",
      "RangeIndex: 911 entries, 0 to 910\n",
      "Data columns (total 5 columns):\n",
      " #   Column            Non-Null Count  Dtype         \n",
      "---  ------            --------------  -----         \n",
      " 0   id_product        911 non-null    int64         \n",
      " 1   order_date        911 non-null    datetime64[ns]\n",
      " 2   product_quantity  911 non-null    float64       \n",
      " 3   product_price     911 non-null    float64       \n",
      " 4   entry_date        911 non-null    datetime64[ns]\n",
      "dtypes: datetime64[ns](2), float64(2), int64(1)\n",
      "memory usage: 35.7 KB\n"
     ]
    }
   ],
   "source": [
    "df.info()"
   ]
  },
  {
   "cell_type": "code",
   "execution_count": 10,
   "id": "92eb095f",
   "metadata": {
    "ExecuteTime": {
     "end_time": "2024-05-20T08:30:35.103575Z",
     "start_time": "2024-05-20T08:30:35.098565Z"
    }
   },
   "outputs": [
    {
     "data": {
      "text/plain": [
       "Timestamp('2018-12-04 00:00:00')"
      ]
     },
     "execution_count": 10,
     "metadata": {},
     "output_type": "execute_result"
    }
   ],
   "source": [
    "df[\"entry_date\"].min()   # entry_date sutununda min tarihini gormek icin"
   ]
  },
  {
   "cell_type": "code",
   "execution_count": 11,
   "id": "d6f9b974",
   "metadata": {
    "ExecuteTime": {
     "end_time": "2024-05-20T08:30:46.268511Z",
     "start_time": "2024-05-20T08:30:46.263816Z"
    }
   },
   "outputs": [
    {
     "data": {
      "text/plain": [
       "Timestamp('2020-11-26 00:00:00')"
      ]
     },
     "execution_count": 11,
     "metadata": {},
     "output_type": "execute_result"
    }
   ],
   "source": [
    "df[\"entry_date\"].max()    # # entry_date sutununda max tarihini gormek icin"
   ]
  },
  {
   "cell_type": "code",
   "execution_count": 12,
   "id": "6867e56a",
   "metadata": {
    "ExecuteTime": {
     "end_time": "2024-05-20T08:30:55.714422Z",
     "start_time": "2024-05-20T08:30:55.708602Z"
    }
   },
   "outputs": [
    {
     "data": {
      "text/plain": [
       "Timedelta('723 days 00:00:00')"
      ]
     },
     "execution_count": 12,
     "metadata": {},
     "output_type": "execute_result"
    }
   ],
   "source": [
    "df[\"entry_date\"].max() - df[\"entry_date\"].min() # max ile min tarih arasindaki farki gormek icin"
   ]
  },
  {
   "cell_type": "code",
   "execution_count": 13,
   "id": "06a9214a",
   "metadata": {
    "ExecuteTime": {
     "end_time": "2024-05-20T08:31:05.319526Z",
     "start_time": "2024-05-20T08:31:05.313458Z"
    }
   },
   "outputs": [
    {
     "data": {
      "text/plain": [
       "0      2018\n",
       "1      2018\n",
       "2      2018\n",
       "3      2018\n",
       "4      2018\n",
       "       ... \n",
       "906    2020\n",
       "907    2020\n",
       "908    2020\n",
       "909    2020\n",
       "910    2020\n",
       "Name: entry_date, Length: 911, dtype: int32"
      ]
     },
     "execution_count": 13,
     "metadata": {},
     "output_type": "execute_result"
    }
   ],
   "source": [
    "df[\"entry_date\"].dt.year # dt metodu ile datetime sutunlarda islem yapmaya yarar."
   ]
  },
  {
   "cell_type": "code",
   "execution_count": 14,
   "id": "0a546cbd",
   "metadata": {
    "ExecuteTime": {
     "end_time": "2024-05-20T08:31:15.253196Z",
     "start_time": "2024-05-20T08:31:15.246830Z"
    }
   },
   "outputs": [
    {
     "data": {
      "text/plain": [
       "0      49\n",
       "1      49\n",
       "2      49\n",
       "3      49\n",
       "4      49\n",
       "       ..\n",
       "906    41\n",
       "907    41\n",
       "908    46\n",
       "909    48\n",
       "910    48\n",
       "Name: week, Length: 911, dtype: UInt32"
      ]
     },
     "execution_count": 14,
     "metadata": {},
     "output_type": "execute_result"
    }
   ],
   "source": [
    "df[\"entry_date\"].dt.isocalendar().week # hafta bilgilerini alabiliriz"
   ]
  },
  {
   "cell_type": "code",
   "execution_count": 15,
   "id": "f6559c53",
   "metadata": {
    "ExecuteTime": {
     "end_time": "2024-05-20T08:31:25.677409Z",
     "start_time": "2024-05-20T08:31:25.674956Z"
    }
   },
   "outputs": [],
   "source": [
    "from datetime import datetime   # datetime modulunu import ettik"
   ]
  },
  {
   "cell_type": "code",
   "execution_count": 16,
   "id": "6fefed8a",
   "metadata": {
    "ExecuteTime": {
     "end_time": "2024-05-20T08:31:35.924119Z",
     "start_time": "2024-05-20T08:31:35.920618Z"
    }
   },
   "outputs": [
    {
     "name": "stdout",
     "output_type": "stream",
     "text": [
      "2024-05-20 11:31:35.921617\n"
     ]
    }
   ],
   "source": [
    "print(datetime.now()) # icinde bulunan  saati gosterir"
   ]
  },
  {
   "cell_type": "code",
   "execution_count": 18,
   "id": "bd9ff963",
   "metadata": {
    "ExecuteTime": {
     "end_time": "2024-05-20T08:31:52.244254Z",
     "start_time": "2024-05-20T08:31:52.241183Z"
    }
   },
   "outputs": [
    {
     "name": "stdout",
     "output_type": "stream",
     "text": [
      "2024-05-20 11:31:52.242178\n"
     ]
    }
   ],
   "source": [
    "print(datetime.today())"
   ]
  },
  {
   "cell_type": "code",
   "execution_count": 19,
   "id": "70cb720e",
   "metadata": {
    "ExecuteTime": {
     "end_time": "2024-05-20T08:32:01.335567Z",
     "start_time": "2024-05-20T08:32:01.332249Z"
    }
   },
   "outputs": [],
   "source": [
    "current_datetime =datetime.now()"
   ]
  },
  {
   "cell_type": "code",
   "execution_count": 20,
   "id": "0fe9dfd9",
   "metadata": {
    "ExecuteTime": {
     "end_time": "2024-05-20T08:32:13.382161Z",
     "start_time": "2024-05-20T08:32:13.378438Z"
    }
   },
   "outputs": [
    {
     "name": "stdout",
     "output_type": "stream",
     "text": [
      "2024-05-20 11:32:01.334248\n"
     ]
    }
   ],
   "source": [
    "print(current_datetime)"
   ]
  },
  {
   "cell_type": "code",
   "execution_count": 21,
   "id": "fc7edac6",
   "metadata": {
    "ExecuteTime": {
     "end_time": "2024-05-20T08:32:24.227745Z",
     "start_time": "2024-05-20T08:32:24.223910Z"
    }
   },
   "outputs": [
    {
     "data": {
      "text/plain": [
       "datetime.date(2024, 5, 20)"
      ]
     },
     "execution_count": 21,
     "metadata": {},
     "output_type": "execute_result"
    }
   ],
   "source": [
    "current_datetime.date()"
   ]
  },
  {
   "cell_type": "code",
   "execution_count": 22,
   "id": "3927b67f",
   "metadata": {
    "ExecuteTime": {
     "end_time": "2024-05-20T08:32:34.441800Z",
     "start_time": "2024-05-20T08:32:34.437743Z"
    }
   },
   "outputs": [
    {
     "data": {
      "text/plain": [
       "32"
      ]
     },
     "execution_count": 22,
     "metadata": {},
     "output_type": "execute_result"
    }
   ],
   "source": [
    "current_datetime.minute"
   ]
  },
  {
   "cell_type": "code",
   "execution_count": 25,
   "id": "8016f689",
   "metadata": {
    "ExecuteTime": {
     "end_time": "2024-05-20T08:33:00.965867Z",
     "start_time": "2024-05-20T08:33:00.962669Z"
    }
   },
   "outputs": [],
   "source": [
    "from datetime import timedelta   # timedelta modulu  iki farkli zaman arasindaki farki verir"
   ]
  },
  {
   "cell_type": "code",
   "execution_count": 35,
   "id": "4c0884c5",
   "metadata": {
    "ExecuteTime": {
     "end_time": "2024-05-20T08:51:27.945729Z",
     "start_time": "2024-05-20T08:51:27.941986Z"
    }
   },
   "outputs": [
    {
     "name": "stdout",
     "output_type": "stream",
     "text": [
      "5 days, 0:00:00\n"
     ]
    }
   ],
   "source": [
    "print(timedelta(days=5))"
   ]
  },
  {
   "cell_type": "code",
   "execution_count": 36,
   "id": "4f306625",
   "metadata": {
    "ExecuteTime": {
     "end_time": "2024-05-20T08:53:03.695610Z",
     "start_time": "2024-05-20T08:53:03.692367Z"
    }
   },
   "outputs": [],
   "source": [
    "time_before = current_datetime - timedelta(weeks=52, days=4, hours=7, minutes=1)"
   ]
  },
  {
   "cell_type": "code",
   "execution_count": 29,
   "id": "4f0bf51c",
   "metadata": {
    "ExecuteTime": {
     "end_time": "2024-05-20T08:33:33.965870Z",
     "start_time": "2024-05-20T08:33:33.962005Z"
    }
   },
   "outputs": [
    {
     "name": "stdout",
     "output_type": "stream",
     "text": [
      "2023-05-18 04:31:01.334248\n"
     ]
    }
   ],
   "source": [
    "print(time_before)"
   ]
  },
  {
   "cell_type": "code",
   "execution_count": 30,
   "id": "3a18f218",
   "metadata": {
    "ExecuteTime": {
     "end_time": "2024-05-20T08:33:37.878305Z",
     "start_time": "2024-05-20T08:33:37.868037Z"
    }
   },
   "outputs": [
    {
     "data": {
      "text/html": [
       "<div>\n",
       "<style scoped>\n",
       "    .dataframe tbody tr th:only-of-type {\n",
       "        vertical-align: middle;\n",
       "    }\n",
       "\n",
       "    .dataframe tbody tr th {\n",
       "        vertical-align: top;\n",
       "    }\n",
       "\n",
       "    .dataframe thead th {\n",
       "        text-align: right;\n",
       "    }\n",
       "</style>\n",
       "<table border=\"1\" class=\"dataframe\">\n",
       "  <thead>\n",
       "    <tr style=\"text-align: right;\">\n",
       "      <th></th>\n",
       "      <th>id_product</th>\n",
       "      <th>order_date</th>\n",
       "      <th>product_quantity</th>\n",
       "      <th>product_price</th>\n",
       "      <th>entry_date</th>\n",
       "    </tr>\n",
       "  </thead>\n",
       "  <tbody>\n",
       "    <tr>\n",
       "      <th>0</th>\n",
       "      <td>401</td>\n",
       "      <td>2021-01-23</td>\n",
       "      <td>1.0</td>\n",
       "      <td>541.487603</td>\n",
       "      <td>2018-12-04</td>\n",
       "    </tr>\n",
       "    <tr>\n",
       "      <th>1</th>\n",
       "      <td>416</td>\n",
       "      <td>2020-04-02</td>\n",
       "      <td>1.0</td>\n",
       "      <td>131.181818</td>\n",
       "      <td>2018-12-04</td>\n",
       "    </tr>\n",
       "    <tr>\n",
       "      <th>2</th>\n",
       "      <td>717</td>\n",
       "      <td>2019-03-10</td>\n",
       "      <td>1.0</td>\n",
       "      <td>2035.488500</td>\n",
       "      <td>2018-12-04</td>\n",
       "    </tr>\n",
       "    <tr>\n",
       "      <th>3</th>\n",
       "      <td>778</td>\n",
       "      <td>2019-12-27</td>\n",
       "      <td>1.0</td>\n",
       "      <td>335.988000</td>\n",
       "      <td>2018-12-04</td>\n",
       "    </tr>\n",
       "    <tr>\n",
       "      <th>4</th>\n",
       "      <td>826</td>\n",
       "      <td>2020-02-19</td>\n",
       "      <td>1.0</td>\n",
       "      <td>342.292302</td>\n",
       "      <td>2018-12-04</td>\n",
       "    </tr>\n",
       "    <tr>\n",
       "      <th>...</th>\n",
       "      <td>...</td>\n",
       "      <td>...</td>\n",
       "      <td>...</td>\n",
       "      <td>...</td>\n",
       "      <td>...</td>\n",
       "    </tr>\n",
       "    <tr>\n",
       "      <th>906</th>\n",
       "      <td>1536842</td>\n",
       "      <td>2020-11-24</td>\n",
       "      <td>1.0</td>\n",
       "      <td>1186.776860</td>\n",
       "      <td>2020-10-07</td>\n",
       "    </tr>\n",
       "    <tr>\n",
       "      <th>907</th>\n",
       "      <td>1536842</td>\n",
       "      <td>2020-11-24</td>\n",
       "      <td>1.0</td>\n",
       "      <td>1186.776860</td>\n",
       "      <td>2020-10-07</td>\n",
       "    </tr>\n",
       "    <tr>\n",
       "      <th>908</th>\n",
       "      <td>1536887</td>\n",
       "      <td>2020-11-22</td>\n",
       "      <td>1.0</td>\n",
       "      <td>0.000000</td>\n",
       "      <td>2020-11-13</td>\n",
       "    </tr>\n",
       "    <tr>\n",
       "      <th>909</th>\n",
       "      <td>1536952</td>\n",
       "      <td>2021-01-26</td>\n",
       "      <td>1.0</td>\n",
       "      <td>988.429752</td>\n",
       "      <td>2020-11-24</td>\n",
       "    </tr>\n",
       "    <tr>\n",
       "      <th>910</th>\n",
       "      <td>1536974</td>\n",
       "      <td>2020-12-06</td>\n",
       "      <td>1.0</td>\n",
       "      <td>0.000000</td>\n",
       "      <td>2020-11-26</td>\n",
       "    </tr>\n",
       "  </tbody>\n",
       "</table>\n",
       "<p>911 rows × 5 columns</p>\n",
       "</div>"
      ],
      "text/plain": [
       "     id_product order_date  product_quantity  product_price entry_date\n",
       "0           401 2021-01-23               1.0     541.487603 2018-12-04\n",
       "1           416 2020-04-02               1.0     131.181818 2018-12-04\n",
       "2           717 2019-03-10               1.0    2035.488500 2018-12-04\n",
       "3           778 2019-12-27               1.0     335.988000 2018-12-04\n",
       "4           826 2020-02-19               1.0     342.292302 2018-12-04\n",
       "..          ...        ...               ...            ...        ...\n",
       "906     1536842 2020-11-24               1.0    1186.776860 2020-10-07\n",
       "907     1536842 2020-11-24               1.0    1186.776860 2020-10-07\n",
       "908     1536887 2020-11-22               1.0       0.000000 2020-11-13\n",
       "909     1536952 2021-01-26               1.0     988.429752 2020-11-24\n",
       "910     1536974 2020-12-06               1.0       0.000000 2020-11-26\n",
       "\n",
       "[911 rows x 5 columns]"
      ]
     },
     "execution_count": 30,
     "metadata": {},
     "output_type": "execute_result"
    }
   ],
   "source": [
    "df"
   ]
  },
  {
   "cell_type": "code",
   "execution_count": 31,
   "id": "55ec8593",
   "metadata": {
    "ExecuteTime": {
     "end_time": "2024-05-20T08:33:49.143043Z",
     "start_time": "2024-05-20T08:33:49.138834Z"
    }
   },
   "outputs": [],
   "source": [
    "df[\"time_delta\"] = df[\"order_date\"] - df[\"entry_date\"] # siparis zamani ile giris zamani arasindaki farki bulabiliriz"
   ]
  },
  {
   "cell_type": "code",
   "execution_count": 32,
   "id": "4ffc3bcc",
   "metadata": {
    "ExecuteTime": {
     "end_time": "2024-05-20T08:34:01.265877Z",
     "start_time": "2024-05-20T08:34:01.257203Z"
    }
   },
   "outputs": [
    {
     "data": {
      "text/html": [
       "<div>\n",
       "<style scoped>\n",
       "    .dataframe tbody tr th:only-of-type {\n",
       "        vertical-align: middle;\n",
       "    }\n",
       "\n",
       "    .dataframe tbody tr th {\n",
       "        vertical-align: top;\n",
       "    }\n",
       "\n",
       "    .dataframe thead th {\n",
       "        text-align: right;\n",
       "    }\n",
       "</style>\n",
       "<table border=\"1\" class=\"dataframe\">\n",
       "  <thead>\n",
       "    <tr style=\"text-align: right;\">\n",
       "      <th></th>\n",
       "      <th>id_product</th>\n",
       "      <th>order_date</th>\n",
       "      <th>product_quantity</th>\n",
       "      <th>product_price</th>\n",
       "      <th>entry_date</th>\n",
       "      <th>time_delta</th>\n",
       "    </tr>\n",
       "  </thead>\n",
       "  <tbody>\n",
       "    <tr>\n",
       "      <th>0</th>\n",
       "      <td>401</td>\n",
       "      <td>2021-01-23</td>\n",
       "      <td>1.0</td>\n",
       "      <td>541.487603</td>\n",
       "      <td>2018-12-04</td>\n",
       "      <td>781 days</td>\n",
       "    </tr>\n",
       "    <tr>\n",
       "      <th>1</th>\n",
       "      <td>416</td>\n",
       "      <td>2020-04-02</td>\n",
       "      <td>1.0</td>\n",
       "      <td>131.181818</td>\n",
       "      <td>2018-12-04</td>\n",
       "      <td>485 days</td>\n",
       "    </tr>\n",
       "    <tr>\n",
       "      <th>2</th>\n",
       "      <td>717</td>\n",
       "      <td>2019-03-10</td>\n",
       "      <td>1.0</td>\n",
       "      <td>2035.488500</td>\n",
       "      <td>2018-12-04</td>\n",
       "      <td>96 days</td>\n",
       "    </tr>\n",
       "    <tr>\n",
       "      <th>3</th>\n",
       "      <td>778</td>\n",
       "      <td>2019-12-27</td>\n",
       "      <td>1.0</td>\n",
       "      <td>335.988000</td>\n",
       "      <td>2018-12-04</td>\n",
       "      <td>388 days</td>\n",
       "    </tr>\n",
       "    <tr>\n",
       "      <th>4</th>\n",
       "      <td>826</td>\n",
       "      <td>2020-02-19</td>\n",
       "      <td>1.0</td>\n",
       "      <td>342.292302</td>\n",
       "      <td>2018-12-04</td>\n",
       "      <td>442 days</td>\n",
       "    </tr>\n",
       "  </tbody>\n",
       "</table>\n",
       "</div>"
      ],
      "text/plain": [
       "   id_product order_date  product_quantity  product_price entry_date  \\\n",
       "0         401 2021-01-23               1.0     541.487603 2018-12-04   \n",
       "1         416 2020-04-02               1.0     131.181818 2018-12-04   \n",
       "2         717 2019-03-10               1.0    2035.488500 2018-12-04   \n",
       "3         778 2019-12-27               1.0     335.988000 2018-12-04   \n",
       "4         826 2020-02-19               1.0     342.292302 2018-12-04   \n",
       "\n",
       "  time_delta  \n",
       "0   781 days  \n",
       "1   485 days  \n",
       "2    96 days  \n",
       "3   388 days  \n",
       "4   442 days  "
      ]
     },
     "execution_count": 32,
     "metadata": {},
     "output_type": "execute_result"
    }
   ],
   "source": [
    "df.head()"
   ]
  },
  {
   "cell_type": "code",
   "execution_count": 33,
   "id": "05a98895",
   "metadata": {
    "ExecuteTime": {
     "end_time": "2024-05-20T08:34:12.357398Z",
     "start_time": "2024-05-20T08:34:12.342356Z"
    }
   },
   "outputs": [],
   "source": [
    "df[\"time_delta\"] = df[\"time_delta\"].astype(\"str\").str.split(\" \").str[0].astype(int) # timedelta sutununu int. olarak getirdik"
   ]
  },
  {
   "cell_type": "code",
   "execution_count": 34,
   "id": "e8d17e6c",
   "metadata": {
    "ExecuteTime": {
     "end_time": "2024-05-20T08:34:16.123290Z",
     "start_time": "2024-05-20T08:34:16.112126Z"
    }
   },
   "outputs": [
    {
     "data": {
      "text/html": [
       "<div>\n",
       "<style scoped>\n",
       "    .dataframe tbody tr th:only-of-type {\n",
       "        vertical-align: middle;\n",
       "    }\n",
       "\n",
       "    .dataframe tbody tr th {\n",
       "        vertical-align: top;\n",
       "    }\n",
       "\n",
       "    .dataframe thead th {\n",
       "        text-align: right;\n",
       "    }\n",
       "</style>\n",
       "<table border=\"1\" class=\"dataframe\">\n",
       "  <thead>\n",
       "    <tr style=\"text-align: right;\">\n",
       "      <th></th>\n",
       "      <th>id_product</th>\n",
       "      <th>order_date</th>\n",
       "      <th>product_quantity</th>\n",
       "      <th>product_price</th>\n",
       "      <th>entry_date</th>\n",
       "      <th>time_delta</th>\n",
       "    </tr>\n",
       "  </thead>\n",
       "  <tbody>\n",
       "    <tr>\n",
       "      <th>0</th>\n",
       "      <td>401</td>\n",
       "      <td>2021-01-23</td>\n",
       "      <td>1.0</td>\n",
       "      <td>541.487603</td>\n",
       "      <td>2018-12-04</td>\n",
       "      <td>781</td>\n",
       "    </tr>\n",
       "    <tr>\n",
       "      <th>1</th>\n",
       "      <td>416</td>\n",
       "      <td>2020-04-02</td>\n",
       "      <td>1.0</td>\n",
       "      <td>131.181818</td>\n",
       "      <td>2018-12-04</td>\n",
       "      <td>485</td>\n",
       "    </tr>\n",
       "    <tr>\n",
       "      <th>2</th>\n",
       "      <td>717</td>\n",
       "      <td>2019-03-10</td>\n",
       "      <td>1.0</td>\n",
       "      <td>2035.488500</td>\n",
       "      <td>2018-12-04</td>\n",
       "      <td>96</td>\n",
       "    </tr>\n",
       "    <tr>\n",
       "      <th>3</th>\n",
       "      <td>778</td>\n",
       "      <td>2019-12-27</td>\n",
       "      <td>1.0</td>\n",
       "      <td>335.988000</td>\n",
       "      <td>2018-12-04</td>\n",
       "      <td>388</td>\n",
       "    </tr>\n",
       "    <tr>\n",
       "      <th>4</th>\n",
       "      <td>826</td>\n",
       "      <td>2020-02-19</td>\n",
       "      <td>1.0</td>\n",
       "      <td>342.292302</td>\n",
       "      <td>2018-12-04</td>\n",
       "      <td>442</td>\n",
       "    </tr>\n",
       "    <tr>\n",
       "      <th>...</th>\n",
       "      <td>...</td>\n",
       "      <td>...</td>\n",
       "      <td>...</td>\n",
       "      <td>...</td>\n",
       "      <td>...</td>\n",
       "      <td>...</td>\n",
       "    </tr>\n",
       "    <tr>\n",
       "      <th>906</th>\n",
       "      <td>1536842</td>\n",
       "      <td>2020-11-24</td>\n",
       "      <td>1.0</td>\n",
       "      <td>1186.776860</td>\n",
       "      <td>2020-10-07</td>\n",
       "      <td>48</td>\n",
       "    </tr>\n",
       "    <tr>\n",
       "      <th>907</th>\n",
       "      <td>1536842</td>\n",
       "      <td>2020-11-24</td>\n",
       "      <td>1.0</td>\n",
       "      <td>1186.776860</td>\n",
       "      <td>2020-10-07</td>\n",
       "      <td>48</td>\n",
       "    </tr>\n",
       "    <tr>\n",
       "      <th>908</th>\n",
       "      <td>1536887</td>\n",
       "      <td>2020-11-22</td>\n",
       "      <td>1.0</td>\n",
       "      <td>0.000000</td>\n",
       "      <td>2020-11-13</td>\n",
       "      <td>9</td>\n",
       "    </tr>\n",
       "    <tr>\n",
       "      <th>909</th>\n",
       "      <td>1536952</td>\n",
       "      <td>2021-01-26</td>\n",
       "      <td>1.0</td>\n",
       "      <td>988.429752</td>\n",
       "      <td>2020-11-24</td>\n",
       "      <td>63</td>\n",
       "    </tr>\n",
       "    <tr>\n",
       "      <th>910</th>\n",
       "      <td>1536974</td>\n",
       "      <td>2020-12-06</td>\n",
       "      <td>1.0</td>\n",
       "      <td>0.000000</td>\n",
       "      <td>2020-11-26</td>\n",
       "      <td>10</td>\n",
       "    </tr>\n",
       "  </tbody>\n",
       "</table>\n",
       "<p>911 rows × 6 columns</p>\n",
       "</div>"
      ],
      "text/plain": [
       "     id_product order_date  product_quantity  product_price entry_date  \\\n",
       "0           401 2021-01-23               1.0     541.487603 2018-12-04   \n",
       "1           416 2020-04-02               1.0     131.181818 2018-12-04   \n",
       "2           717 2019-03-10               1.0    2035.488500 2018-12-04   \n",
       "3           778 2019-12-27               1.0     335.988000 2018-12-04   \n",
       "4           826 2020-02-19               1.0     342.292302 2018-12-04   \n",
       "..          ...        ...               ...            ...        ...   \n",
       "906     1536842 2020-11-24               1.0    1186.776860 2020-10-07   \n",
       "907     1536842 2020-11-24               1.0    1186.776860 2020-10-07   \n",
       "908     1536887 2020-11-22               1.0       0.000000 2020-11-13   \n",
       "909     1536952 2021-01-26               1.0     988.429752 2020-11-24   \n",
       "910     1536974 2020-12-06               1.0       0.000000 2020-11-26   \n",
       "\n",
       "     time_delta  \n",
       "0           781  \n",
       "1           485  \n",
       "2            96  \n",
       "3           388  \n",
       "4           442  \n",
       "..          ...  \n",
       "906          48  \n",
       "907          48  \n",
       "908           9  \n",
       "909          63  \n",
       "910          10  \n",
       "\n",
       "[911 rows x 6 columns]"
      ]
     },
     "execution_count": 34,
     "metadata": {},
     "output_type": "execute_result"
    }
   ],
   "source": [
    "df"
   ]
  },
  {
   "cell_type": "code",
   "execution_count": null,
   "id": "9ca7d9e1",
   "metadata": {},
   "outputs": [],
   "source": []
  }
 ],
 "metadata": {
  "kernelspec": {
   "display_name": "Python 3 (ipykernel)",
   "language": "python",
   "name": "python3"
  },
  "language_info": {
   "codemirror_mode": {
    "name": "ipython",
    "version": 3
   },
   "file_extension": ".py",
   "mimetype": "text/x-python",
   "name": "python",
   "nbconvert_exporter": "python",
   "pygments_lexer": "ipython3",
   "version": "3.11.5"
  }
 },
 "nbformat": 4,
 "nbformat_minor": 5
}
