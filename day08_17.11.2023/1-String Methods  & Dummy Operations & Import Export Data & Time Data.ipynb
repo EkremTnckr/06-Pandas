{
 "cells": [
  {
   "cell_type": "markdown",
   "id": "a230d5f9",
   "metadata": {},
   "source": [
    "# <font color='green'> <b>Importing Libraries </b><font color='black'>"
   ]
  },
  {
   "cell_type": "code",
   "execution_count": 1,
   "id": "9d91b5b3",
   "metadata": {
    "ExecuteTime": {
     "end_time": "2024-05-20T06:11:18.606993Z",
     "start_time": "2024-05-20T06:11:18.237990Z"
    }
   },
   "outputs": [],
   "source": [
    "import numpy as np\n",
    "import pandas as pd"
   ]
  },
  {
   "cell_type": "code",
   "execution_count": 2,
   "id": "172794d7",
   "metadata": {
    "ExecuteTime": {
     "end_time": "2024-05-20T06:11:42.246724Z",
     "start_time": "2024-05-20T06:11:42.240079Z"
    }
   },
   "outputs": [],
   "source": [
    "df = pd.DataFrame(data=[['Tyler DURDEN', 'HR', \"manager\", \"$180,000\", 55],\n",
    "                        ['MARIA puder', \"IT\", \"data analyst\", \"150000dolar\", 28],\n",
    "                        ['dorothy gale', \"HR\", \"recruiter\", \"$120,000\", 30],\n",
    "                        ['Edmond Dantes', \"IT\", \"data scientist\", \"$170,000\",\"-\"], \n",
    "                        ['Gregor SAMSA',\"IT\", \"frontend developer\", \"120000dolar\",32]],\n",
    "                  columns=[\"name\",\"dept\", \"job\", \"salary\", \"age\"])"
   ]
  },
  {
   "cell_type": "code",
   "execution_count": 3,
   "id": "5809b292",
   "metadata": {
    "ExecuteTime": {
     "end_time": "2024-05-20T06:11:45.880526Z",
     "start_time": "2024-05-20T06:11:45.855983Z"
    }
   },
   "outputs": [
    {
     "data": {
      "text/html": [
       "<div>\n",
       "<style scoped>\n",
       "    .dataframe tbody tr th:only-of-type {\n",
       "        vertical-align: middle;\n",
       "    }\n",
       "\n",
       "    .dataframe tbody tr th {\n",
       "        vertical-align: top;\n",
       "    }\n",
       "\n",
       "    .dataframe thead th {\n",
       "        text-align: right;\n",
       "    }\n",
       "</style>\n",
       "<table border=\"1\" class=\"dataframe\">\n",
       "  <thead>\n",
       "    <tr style=\"text-align: right;\">\n",
       "      <th></th>\n",
       "      <th>name</th>\n",
       "      <th>dept</th>\n",
       "      <th>job</th>\n",
       "      <th>salary</th>\n",
       "      <th>age</th>\n",
       "    </tr>\n",
       "  </thead>\n",
       "  <tbody>\n",
       "    <tr>\n",
       "      <th>0</th>\n",
       "      <td>Tyler DURDEN</td>\n",
       "      <td>HR</td>\n",
       "      <td>manager</td>\n",
       "      <td>$180,000</td>\n",
       "      <td>55</td>\n",
       "    </tr>\n",
       "    <tr>\n",
       "      <th>1</th>\n",
       "      <td>MARIA puder</td>\n",
       "      <td>IT</td>\n",
       "      <td>data analyst</td>\n",
       "      <td>150000dolar</td>\n",
       "      <td>28</td>\n",
       "    </tr>\n",
       "    <tr>\n",
       "      <th>2</th>\n",
       "      <td>dorothy gale</td>\n",
       "      <td>HR</td>\n",
       "      <td>recruiter</td>\n",
       "      <td>$120,000</td>\n",
       "      <td>30</td>\n",
       "    </tr>\n",
       "    <tr>\n",
       "      <th>3</th>\n",
       "      <td>Edmond Dantes</td>\n",
       "      <td>IT</td>\n",
       "      <td>data scientist</td>\n",
       "      <td>$170,000</td>\n",
       "      <td>-</td>\n",
       "    </tr>\n",
       "    <tr>\n",
       "      <th>4</th>\n",
       "      <td>Gregor SAMSA</td>\n",
       "      <td>IT</td>\n",
       "      <td>frontend developer</td>\n",
       "      <td>120000dolar</td>\n",
       "      <td>32</td>\n",
       "    </tr>\n",
       "  </tbody>\n",
       "</table>\n",
       "</div>"
      ],
      "text/plain": [
       "            name dept                 job       salary age\n",
       "0   Tyler DURDEN   HR             manager     $180,000  55\n",
       "1    MARIA puder   IT        data analyst  150000dolar  28\n",
       "2   dorothy gale   HR           recruiter     $120,000  30\n",
       "3  Edmond Dantes   IT      data scientist     $170,000   -\n",
       "4   Gregor SAMSA   IT  frontend developer  120000dolar  32"
      ]
     },
     "execution_count": 3,
     "metadata": {},
     "output_type": "execute_result"
    }
   ],
   "source": [
    "df"
   ]
  },
  {
   "cell_type": "code",
   "execution_count": 4,
   "id": "3fb06f96",
   "metadata": {
    "ExecuteTime": {
     "end_time": "2024-05-20T06:12:43.136424Z",
     "start_time": "2024-05-20T06:12:43.130723Z"
    }
   },
   "outputs": [
    {
     "data": {
      "text/plain": [
       "0     Tyler Durden\n",
       "1      Maria Puder\n",
       "2     Dorothy Gale\n",
       "3    Edmond Dantes\n",
       "4     Gregor Samsa\n",
       "Name: name, dtype: object"
      ]
     },
     "execution_count": 4,
     "metadata": {},
     "output_type": "execute_result"
    }
   ],
   "source": [
    "df.name.str.title() # title-->her kelimenin ilk harfini buyuk yapar"
   ]
  },
  {
   "cell_type": "code",
   "execution_count": 6,
   "id": "36dd03cc",
   "metadata": {
    "ExecuteTime": {
     "end_time": "2024-05-20T06:14:34.626328Z",
     "start_time": "2024-05-20T06:14:34.620502Z"
    }
   },
   "outputs": [
    {
     "data": {
      "text/plain": [
       "0     [Tyler, Durden]\n",
       "1      [Maria, Puder]\n",
       "2     [Dorothy, Gale]\n",
       "3    [Edmond, Dantes]\n",
       "4     [Gregor, Samsa]\n",
       "Name: name, dtype: object"
      ]
     },
     "execution_count": 6,
     "metadata": {},
     "output_type": "execute_result"
    }
   ],
   "source": [
    "df.name.str.title().str.split()"
   ]
  },
  {
   "cell_type": "code",
   "execution_count": 7,
   "id": "6248bf5d",
   "metadata": {
    "ExecuteTime": {
     "end_time": "2024-05-20T06:17:11.975442Z",
     "start_time": "2024-05-20T06:17:11.969810Z"
    }
   },
   "outputs": [
    {
     "data": {
      "text/plain": [
       "0      Tyler\n",
       "1      Maria\n",
       "2    Dorothy\n",
       "3     Edmond\n",
       "4     Gregor\n",
       "Name: name, dtype: object"
      ]
     },
     "execution_count": 7,
     "metadata": {},
     "output_type": "execute_result"
    }
   ],
   "source": [
    "df.name.str.title().str.split().str[0] # tum satirlarda first name indexleme yapalim.Tum satirlara gitti ve ilk indexi aldi"
   ]
  },
  {
   "cell_type": "code",
   "execution_count": 8,
   "id": "cc1ba266",
   "metadata": {
    "ExecuteTime": {
     "end_time": "2024-05-20T06:18:05.914722Z",
     "start_time": "2024-05-20T06:18:05.909515Z"
    }
   },
   "outputs": [
    {
     "data": {
      "text/plain": [
       "0    Durden\n",
       "1     Puder\n",
       "2      Gale\n",
       "3    Dantes\n",
       "4     Samsa\n",
       "Name: name, dtype: object"
      ]
     },
     "execution_count": 8,
     "metadata": {},
     "output_type": "execute_result"
    }
   ],
   "source": [
    "df.name.str.title().str.split().str[1]  # last name getirir"
   ]
  },
  {
   "cell_type": "code",
   "execution_count": 10,
   "id": "126971a9",
   "metadata": {
    "ExecuteTime": {
     "end_time": "2024-05-20T06:19:49.972592Z",
     "start_time": "2024-05-20T06:19:49.967984Z"
    }
   },
   "outputs": [],
   "source": [
    "df[\"firt_name\"] =df.name.str.title().str.split().str[0] # first name sutunu ekledik\n"
   ]
  },
  {
   "cell_type": "code",
   "execution_count": 11,
   "id": "c582e02b",
   "metadata": {
    "ExecuteTime": {
     "end_time": "2024-05-20T06:19:50.844735Z",
     "start_time": "2024-05-20T06:19:50.840393Z"
    }
   },
   "outputs": [],
   "source": [
    "df[\"last_name\"] =df.name.str.title().str.split().str[1] # last name sutunu ekledik\n"
   ]
  },
  {
   "cell_type": "code",
   "execution_count": 12,
   "id": "01534996",
   "metadata": {
    "ExecuteTime": {
     "end_time": "2024-05-20T06:20:04.591874Z",
     "start_time": "2024-05-20T06:20:04.583275Z"
    }
   },
   "outputs": [
    {
     "data": {
      "text/html": [
       "<div>\n",
       "<style scoped>\n",
       "    .dataframe tbody tr th:only-of-type {\n",
       "        vertical-align: middle;\n",
       "    }\n",
       "\n",
       "    .dataframe tbody tr th {\n",
       "        vertical-align: top;\n",
       "    }\n",
       "\n",
       "    .dataframe thead th {\n",
       "        text-align: right;\n",
       "    }\n",
       "</style>\n",
       "<table border=\"1\" class=\"dataframe\">\n",
       "  <thead>\n",
       "    <tr style=\"text-align: right;\">\n",
       "      <th></th>\n",
       "      <th>name</th>\n",
       "      <th>dept</th>\n",
       "      <th>job</th>\n",
       "      <th>salary</th>\n",
       "      <th>age</th>\n",
       "      <th>firt_name</th>\n",
       "      <th>last_name</th>\n",
       "    </tr>\n",
       "  </thead>\n",
       "  <tbody>\n",
       "    <tr>\n",
       "      <th>0</th>\n",
       "      <td>Tyler DURDEN</td>\n",
       "      <td>HR</td>\n",
       "      <td>manager</td>\n",
       "      <td>$180,000</td>\n",
       "      <td>55</td>\n",
       "      <td>Tyler</td>\n",
       "      <td>Durden</td>\n",
       "    </tr>\n",
       "    <tr>\n",
       "      <th>1</th>\n",
       "      <td>MARIA puder</td>\n",
       "      <td>IT</td>\n",
       "      <td>data analyst</td>\n",
       "      <td>150000dolar</td>\n",
       "      <td>28</td>\n",
       "      <td>Maria</td>\n",
       "      <td>Puder</td>\n",
       "    </tr>\n",
       "    <tr>\n",
       "      <th>2</th>\n",
       "      <td>dorothy gale</td>\n",
       "      <td>HR</td>\n",
       "      <td>recruiter</td>\n",
       "      <td>$120,000</td>\n",
       "      <td>30</td>\n",
       "      <td>Dorothy</td>\n",
       "      <td>Gale</td>\n",
       "    </tr>\n",
       "    <tr>\n",
       "      <th>3</th>\n",
       "      <td>Edmond Dantes</td>\n",
       "      <td>IT</td>\n",
       "      <td>data scientist</td>\n",
       "      <td>$170,000</td>\n",
       "      <td>-</td>\n",
       "      <td>Edmond</td>\n",
       "      <td>Dantes</td>\n",
       "    </tr>\n",
       "    <tr>\n",
       "      <th>4</th>\n",
       "      <td>Gregor SAMSA</td>\n",
       "      <td>IT</td>\n",
       "      <td>frontend developer</td>\n",
       "      <td>120000dolar</td>\n",
       "      <td>32</td>\n",
       "      <td>Gregor</td>\n",
       "      <td>Samsa</td>\n",
       "    </tr>\n",
       "  </tbody>\n",
       "</table>\n",
       "</div>"
      ],
      "text/plain": [
       "            name dept                 job       salary age firt_name last_name\n",
       "0   Tyler DURDEN   HR             manager     $180,000  55     Tyler    Durden\n",
       "1    MARIA puder   IT        data analyst  150000dolar  28     Maria     Puder\n",
       "2   dorothy gale   HR           recruiter     $120,000  30   Dorothy      Gale\n",
       "3  Edmond Dantes   IT      data scientist     $170,000   -    Edmond    Dantes\n",
       "4   Gregor SAMSA   IT  frontend developer  120000dolar  32    Gregor     Samsa"
      ]
     },
     "execution_count": 12,
     "metadata": {},
     "output_type": "execute_result"
    }
   ],
   "source": [
    "df"
   ]
  },
  {
   "cell_type": "code",
   "execution_count": 13,
   "id": "b7a793b4",
   "metadata": {
    "ExecuteTime": {
     "end_time": "2024-05-20T06:22:46.186623Z",
     "start_time": "2024-05-20T06:22:46.174546Z"
    }
   },
   "outputs": [],
   "source": [
    "# tabloda name sutununu kalici bir sekilde  dusurebiliriz \n",
    "\n",
    "df.drop(\"name\", axis=1 ,inplace=True) "
   ]
  },
  {
   "cell_type": "code",
   "execution_count": 14,
   "id": "d3f569e3",
   "metadata": {
    "ExecuteTime": {
     "end_time": "2024-05-20T06:22:55.668375Z",
     "start_time": "2024-05-20T06:22:55.660556Z"
    }
   },
   "outputs": [
    {
     "data": {
      "text/html": [
       "<div>\n",
       "<style scoped>\n",
       "    .dataframe tbody tr th:only-of-type {\n",
       "        vertical-align: middle;\n",
       "    }\n",
       "\n",
       "    .dataframe tbody tr th {\n",
       "        vertical-align: top;\n",
       "    }\n",
       "\n",
       "    .dataframe thead th {\n",
       "        text-align: right;\n",
       "    }\n",
       "</style>\n",
       "<table border=\"1\" class=\"dataframe\">\n",
       "  <thead>\n",
       "    <tr style=\"text-align: right;\">\n",
       "      <th></th>\n",
       "      <th>dept</th>\n",
       "      <th>job</th>\n",
       "      <th>salary</th>\n",
       "      <th>age</th>\n",
       "      <th>firt_name</th>\n",
       "      <th>last_name</th>\n",
       "    </tr>\n",
       "  </thead>\n",
       "  <tbody>\n",
       "    <tr>\n",
       "      <th>0</th>\n",
       "      <td>HR</td>\n",
       "      <td>manager</td>\n",
       "      <td>$180,000</td>\n",
       "      <td>55</td>\n",
       "      <td>Tyler</td>\n",
       "      <td>Durden</td>\n",
       "    </tr>\n",
       "    <tr>\n",
       "      <th>1</th>\n",
       "      <td>IT</td>\n",
       "      <td>data analyst</td>\n",
       "      <td>150000dolar</td>\n",
       "      <td>28</td>\n",
       "      <td>Maria</td>\n",
       "      <td>Puder</td>\n",
       "    </tr>\n",
       "    <tr>\n",
       "      <th>2</th>\n",
       "      <td>HR</td>\n",
       "      <td>recruiter</td>\n",
       "      <td>$120,000</td>\n",
       "      <td>30</td>\n",
       "      <td>Dorothy</td>\n",
       "      <td>Gale</td>\n",
       "    </tr>\n",
       "    <tr>\n",
       "      <th>3</th>\n",
       "      <td>IT</td>\n",
       "      <td>data scientist</td>\n",
       "      <td>$170,000</td>\n",
       "      <td>-</td>\n",
       "      <td>Edmond</td>\n",
       "      <td>Dantes</td>\n",
       "    </tr>\n",
       "    <tr>\n",
       "      <th>4</th>\n",
       "      <td>IT</td>\n",
       "      <td>frontend developer</td>\n",
       "      <td>120000dolar</td>\n",
       "      <td>32</td>\n",
       "      <td>Gregor</td>\n",
       "      <td>Samsa</td>\n",
       "    </tr>\n",
       "  </tbody>\n",
       "</table>\n",
       "</div>"
      ],
      "text/plain": [
       "  dept                 job       salary age firt_name last_name\n",
       "0   HR             manager     $180,000  55     Tyler    Durden\n",
       "1   IT        data analyst  150000dolar  28     Maria     Puder\n",
       "2   HR           recruiter     $120,000  30   Dorothy      Gale\n",
       "3   IT      data scientist     $170,000   -    Edmond    Dantes\n",
       "4   IT  frontend developer  120000dolar  32    Gregor     Samsa"
      ]
     },
     "execution_count": 14,
     "metadata": {},
     "output_type": "execute_result"
    }
   ],
   "source": [
    "df"
   ]
  },
  {
   "cell_type": "code",
   "execution_count": 15,
   "id": "0bf4f8d0",
   "metadata": {
    "ExecuteTime": {
     "end_time": "2024-05-20T06:23:23.964568Z",
     "start_time": "2024-05-20T06:23:23.959474Z"
    }
   },
   "outputs": [
    {
     "data": {
      "text/plain": [
       "0               manager\n",
       "1          data analyst\n",
       "2             recruiter\n",
       "3        data scientist\n",
       "4    frontend developer\n",
       "Name: job, dtype: object"
      ]
     },
     "execution_count": 15,
     "metadata": {},
     "output_type": "execute_result"
    }
   ],
   "source": [
    "df.job"
   ]
  },
  {
   "cell_type": "code",
   "execution_count": 16,
   "id": "50544c88",
   "metadata": {
    "ExecuteTime": {
     "end_time": "2024-05-20T06:24:36.786659Z",
     "start_time": "2024-05-20T06:24:36.781680Z"
    }
   },
   "outputs": [
    {
     "data": {
      "text/plain": [
       "0   -1\n",
       "1   -1\n",
       "2   -1\n",
       "3   -1\n",
       "4    9\n",
       "Name: job, dtype: int64"
      ]
     },
     "execution_count": 16,
     "metadata": {},
     "output_type": "execute_result"
    }
   ],
   "source": [
    "# find metodu  \n",
    "\n",
    "df.job.str.find(\"developer\")"
   ]
  },
  {
   "cell_type": "code",
   "execution_count": 18,
   "id": "8876a83b",
   "metadata": {
    "ExecuteTime": {
     "end_time": "2024-05-20T06:27:47.191221Z",
     "start_time": "2024-05-20T06:27:47.185631Z"
    }
   },
   "outputs": [
    {
     "data": {
      "text/plain": [
       "0        []\n",
       "1       [d]\n",
       "2        []\n",
       "3       [d]\n",
       "4    [d, d]\n",
       "Name: job, dtype: object"
      ]
     },
     "execution_count": 18,
     "metadata": {},
     "output_type": "execute_result"
    }
   ],
   "source": [
    "df.job.str.findall(\"d\") # "
   ]
  },
  {
   "cell_type": "code",
   "execution_count": 19,
   "id": "7aa508e0",
   "metadata": {
    "ExecuteTime": {
     "end_time": "2024-05-20T06:29:09.800437Z",
     "start_time": "2024-05-20T06:29:09.795341Z"
    }
   },
   "outputs": [
    {
     "data": {
      "text/plain": [
       "0    0\n",
       "1    1\n",
       "2    0\n",
       "3    1\n",
       "4    2\n",
       "Name: job, dtype: int64"
      ]
     },
     "execution_count": 19,
     "metadata": {},
     "output_type": "execute_result"
    }
   ],
   "source": [
    "df.job.str.findall(\"d\").str.len()# d harfi kac tane gectigini "
   ]
  },
  {
   "cell_type": "code",
   "execution_count": 20,
   "id": "db7d212b",
   "metadata": {
    "ExecuteTime": {
     "end_time": "2024-05-20T06:30:44.627706Z",
     "start_time": "2024-05-20T06:30:44.621231Z"
    }
   },
   "outputs": [
    {
     "data": {
      "text/plain": [
       "0    0\n",
       "1    1\n",
       "2    0\n",
       "3    1\n",
       "4    2\n",
       "Name: job, dtype: int64"
      ]
     },
     "execution_count": 20,
     "metadata": {},
     "output_type": "execute_result"
    }
   ],
   "source": [
    "df.job.str.findall(\"d\").transform(len)"
   ]
  },
  {
   "cell_type": "code",
   "execution_count": 21,
   "id": "2684053e",
   "metadata": {
    "ExecuteTime": {
     "end_time": "2024-05-20T06:32:35.284747Z",
     "start_time": "2024-05-20T06:32:35.273659Z"
    }
   },
   "outputs": [
    {
     "data": {
      "text/html": [
       "<div>\n",
       "<style scoped>\n",
       "    .dataframe tbody tr th:only-of-type {\n",
       "        vertical-align: middle;\n",
       "    }\n",
       "\n",
       "    .dataframe tbody tr th {\n",
       "        vertical-align: top;\n",
       "    }\n",
       "\n",
       "    .dataframe thead th {\n",
       "        text-align: right;\n",
       "    }\n",
       "</style>\n",
       "<table border=\"1\" class=\"dataframe\">\n",
       "  <thead>\n",
       "    <tr style=\"text-align: right;\">\n",
       "      <th></th>\n",
       "      <th>dept</th>\n",
       "      <th>job</th>\n",
       "      <th>salary</th>\n",
       "      <th>age</th>\n",
       "      <th>firt_name</th>\n",
       "      <th>last_name</th>\n",
       "      <th>skills</th>\n",
       "      <th>skills2</th>\n",
       "    </tr>\n",
       "  </thead>\n",
       "  <tbody>\n",
       "    <tr>\n",
       "      <th>0</th>\n",
       "      <td>HR</td>\n",
       "      <td>manager</td>\n",
       "      <td>$180,000</td>\n",
       "      <td>55</td>\n",
       "      <td>Tyler</td>\n",
       "      <td>Durden</td>\n",
       "      <td>[]</td>\n",
       "      <td>[]</td>\n",
       "    </tr>\n",
       "    <tr>\n",
       "      <th>1</th>\n",
       "      <td>IT</td>\n",
       "      <td>data analyst</td>\n",
       "      <td>150000dolar</td>\n",
       "      <td>28</td>\n",
       "      <td>Maria</td>\n",
       "      <td>Puder</td>\n",
       "      <td>[Python, Tableau, SQL]</td>\n",
       "      <td>Python, Tableau, SQL</td>\n",
       "    </tr>\n",
       "    <tr>\n",
       "      <th>2</th>\n",
       "      <td>HR</td>\n",
       "      <td>recruiter</td>\n",
       "      <td>$120,000</td>\n",
       "      <td>30</td>\n",
       "      <td>Dorothy</td>\n",
       "      <td>Gale</td>\n",
       "      <td>[]</td>\n",
       "      <td>[]</td>\n",
       "    </tr>\n",
       "    <tr>\n",
       "      <th>3</th>\n",
       "      <td>IT</td>\n",
       "      <td>data scientist</td>\n",
       "      <td>$170,000</td>\n",
       "      <td>-</td>\n",
       "      <td>Edmond</td>\n",
       "      <td>Dantes</td>\n",
       "      <td>[ML, DL, NLP]</td>\n",
       "      <td>[ML, DL, NLP]</td>\n",
       "    </tr>\n",
       "    <tr>\n",
       "      <th>4</th>\n",
       "      <td>IT</td>\n",
       "      <td>frontend developer</td>\n",
       "      <td>120000dolar</td>\n",
       "      <td>32</td>\n",
       "      <td>Gregor</td>\n",
       "      <td>Samsa</td>\n",
       "      <td>[React, Django]</td>\n",
       "      <td>[React, Django]</td>\n",
       "    </tr>\n",
       "  </tbody>\n",
       "</table>\n",
       "</div>"
      ],
      "text/plain": [
       "  dept                 job       salary age firt_name last_name  \\\n",
       "0   HR             manager     $180,000  55     Tyler    Durden   \n",
       "1   IT        data analyst  150000dolar  28     Maria     Puder   \n",
       "2   HR           recruiter     $120,000  30   Dorothy      Gale   \n",
       "3   IT      data scientist     $170,000   -    Edmond    Dantes   \n",
       "4   IT  frontend developer  120000dolar  32    Gregor     Samsa   \n",
       "\n",
       "                   skills               skills2  \n",
       "0                      []                    []  \n",
       "1  [Python, Tableau, SQL]  Python, Tableau, SQL  \n",
       "2                      []                    []  \n",
       "3           [ML, DL, NLP]         [ML, DL, NLP]  \n",
       "4         [React, Django]       [React, Django]  "
      ]
     },
     "execution_count": 21,
     "metadata": {},
     "output_type": "execute_result"
    }
   ],
   "source": [
    "df[\"skills\"] = [[], [\"Python\", \"Tableau\", \"SQL\"], [], [\"ML\", \"DL\", \"NLP\"], [\"React\", \"Django\"]]\n",
    "df[\"skills2\"] = [[], \"Python, Tableau, SQL\", [], [\"ML\", \"DL\", \"NLP\"], [\"React\", \"Django\"]]\n",
    "\n",
    "df"
   ]
  },
  {
   "cell_type": "code",
   "execution_count": 22,
   "id": "d1d162f7",
   "metadata": {
    "ExecuteTime": {
     "end_time": "2024-05-20T06:32:56.752768Z",
     "start_time": "2024-05-20T06:32:56.749180Z"
    }
   },
   "outputs": [
    {
     "data": {
      "text/plain": [
       "'A,h,m,e,t'"
      ]
     },
     "execution_count": 22,
     "metadata": {},
     "output_type": "execute_result"
    }
   ],
   "source": [
    "\",\".join(\"Ahmet\") # join method-->Ahmet ismin al harflaerin aralarina virgul koy"
   ]
  },
  {
   "cell_type": "code",
   "execution_count": 23,
   "id": "c309738f",
   "metadata": {
    "ExecuteTime": {
     "end_time": "2024-05-20T06:33:10.120070Z",
     "start_time": "2024-05-20T06:33:10.114587Z"
    }
   },
   "outputs": [
    {
     "data": {
      "text/plain": [
       "0                      \n",
       "1    Python,Tableau,SQL\n",
       "2                      \n",
       "3             ML,DL,NLP\n",
       "4          React,Django\n",
       "Name: skills, dtype: object"
      ]
     },
     "execution_count": 23,
     "metadata": {},
     "output_type": "execute_result"
    }
   ],
   "source": [
    "df.skills.str.join(\",\") # skills  al  arasina ayir ve aralara virgul koy ve ayir "
   ]
  },
  {
   "cell_type": "code",
   "execution_count": 24,
   "id": "4c94c798",
   "metadata": {
    "ExecuteTime": {
     "end_time": "2024-05-20T06:33:25.103939Z",
     "start_time": "2024-05-20T06:33:25.098282Z"
    }
   },
   "outputs": [
    {
     "data": {
      "text/plain": [
       "0                                           \n",
       "1    P,y,t,h,o,n,,, ,T,a,b,l,e,a,u,,, ,S,Q,L\n",
       "2                                           \n",
       "3                                  ML,DL,NLP\n",
       "4                               React,Django\n",
       "Name: skills2, dtype: object"
      ]
     },
     "execution_count": 24,
     "metadata": {},
     "output_type": "execute_result"
    }
   ],
   "source": [
    "df.skills2.str.join(\",\")  # skills2 al aralrina virgul koy ve ayir "
   ]
  },
  {
   "cell_type": "code",
   "execution_count": 25,
   "id": "635d844a",
   "metadata": {
    "ExecuteTime": {
     "end_time": "2024-05-20T06:33:40.607789Z",
     "start_time": "2024-05-20T06:33:40.602536Z"
    }
   },
   "outputs": [
    {
     "data": {
      "text/plain": [
       "0                        \n",
       "1    Python, Tableau, SQL\n",
       "2                        \n",
       "3               ML,DL,NLP\n",
       "4            React,Django\n",
       "Name: skills2, dtype: object"
      ]
     },
     "execution_count": 25,
     "metadata": {},
     "output_type": "execute_result"
    }
   ],
   "source": [
    "df.skills2.apply(lambda item: \",\".join(item) if type(item) == list else item)"
   ]
  },
  {
   "cell_type": "code",
   "execution_count": 26,
   "id": "3a3f5cb7",
   "metadata": {
    "ExecuteTime": {
     "end_time": "2024-05-20T06:36:37.406227Z",
     "start_time": "2024-05-20T06:36:37.401416Z"
    }
   },
   "outputs": [
    {
     "data": {
      "text/plain": [
       "0                        \n",
       "1    Python, Tableau, SQL\n",
       "2                        \n",
       "3               ML,DL,NLP\n",
       "4            React,Django\n",
       "Name: skills2, dtype: object"
      ]
     },
     "execution_count": 26,
     "metadata": {},
     "output_type": "execute_result"
    }
   ],
   "source": [
    "df.skills2 = df.skills2.apply(lambda item: \",\".join(item) if type(item) == list else item)\n",
    "df.skills2"
   ]
  },
  {
   "cell_type": "code",
   "execution_count": 32,
   "id": "f3635430",
   "metadata": {
    "ExecuteTime": {
     "end_time": "2024-05-20T06:44:41.002175Z",
     "start_time": "2024-05-20T06:44:40.997410Z"
    }
   },
   "outputs": [
    {
     "data": {
      "text/plain": [
       "0                        \n",
       "1    Python, Tableau, SQL\n",
       "2                        \n",
       "3               ML,DL,NLP\n",
       "4            React,Django\n",
       "Name: skills2, dtype: object"
      ]
     },
     "execution_count": 32,
     "metadata": {},
     "output_type": "execute_result"
    }
   ],
   "source": [
    "df.skills2"
   ]
  },
  {
   "cell_type": "code",
   "execution_count": 27,
   "id": "1a0ff79c",
   "metadata": {
    "ExecuteTime": {
     "end_time": "2024-05-20T06:36:43.571970Z",
     "start_time": "2024-05-20T06:36:43.563197Z"
    }
   },
   "outputs": [
    {
     "data": {
      "text/html": [
       "<div>\n",
       "<style scoped>\n",
       "    .dataframe tbody tr th:only-of-type {\n",
       "        vertical-align: middle;\n",
       "    }\n",
       "\n",
       "    .dataframe tbody tr th {\n",
       "        vertical-align: top;\n",
       "    }\n",
       "\n",
       "    .dataframe thead th {\n",
       "        text-align: right;\n",
       "    }\n",
       "</style>\n",
       "<table border=\"1\" class=\"dataframe\">\n",
       "  <thead>\n",
       "    <tr style=\"text-align: right;\">\n",
       "      <th></th>\n",
       "      <th>dept</th>\n",
       "      <th>job</th>\n",
       "      <th>salary</th>\n",
       "      <th>age</th>\n",
       "      <th>firt_name</th>\n",
       "      <th>last_name</th>\n",
       "      <th>skills</th>\n",
       "      <th>skills2</th>\n",
       "    </tr>\n",
       "  </thead>\n",
       "  <tbody>\n",
       "    <tr>\n",
       "      <th>0</th>\n",
       "      <td>HR</td>\n",
       "      <td>manager</td>\n",
       "      <td>$180,000</td>\n",
       "      <td>55</td>\n",
       "      <td>Tyler</td>\n",
       "      <td>Durden</td>\n",
       "      <td>[]</td>\n",
       "      <td></td>\n",
       "    </tr>\n",
       "    <tr>\n",
       "      <th>1</th>\n",
       "      <td>IT</td>\n",
       "      <td>data analyst</td>\n",
       "      <td>150000dolar</td>\n",
       "      <td>28</td>\n",
       "      <td>Maria</td>\n",
       "      <td>Puder</td>\n",
       "      <td>[Python, Tableau, SQL]</td>\n",
       "      <td>Python, Tableau, SQL</td>\n",
       "    </tr>\n",
       "    <tr>\n",
       "      <th>2</th>\n",
       "      <td>HR</td>\n",
       "      <td>recruiter</td>\n",
       "      <td>$120,000</td>\n",
       "      <td>30</td>\n",
       "      <td>Dorothy</td>\n",
       "      <td>Gale</td>\n",
       "      <td>[]</td>\n",
       "      <td></td>\n",
       "    </tr>\n",
       "    <tr>\n",
       "      <th>3</th>\n",
       "      <td>IT</td>\n",
       "      <td>data scientist</td>\n",
       "      <td>$170,000</td>\n",
       "      <td>-</td>\n",
       "      <td>Edmond</td>\n",
       "      <td>Dantes</td>\n",
       "      <td>[ML, DL, NLP]</td>\n",
       "      <td>ML,DL,NLP</td>\n",
       "    </tr>\n",
       "    <tr>\n",
       "      <th>4</th>\n",
       "      <td>IT</td>\n",
       "      <td>frontend developer</td>\n",
       "      <td>120000dolar</td>\n",
       "      <td>32</td>\n",
       "      <td>Gregor</td>\n",
       "      <td>Samsa</td>\n",
       "      <td>[React, Django]</td>\n",
       "      <td>React,Django</td>\n",
       "    </tr>\n",
       "  </tbody>\n",
       "</table>\n",
       "</div>"
      ],
      "text/plain": [
       "  dept                 job       salary age firt_name last_name  \\\n",
       "0   HR             manager     $180,000  55     Tyler    Durden   \n",
       "1   IT        data analyst  150000dolar  28     Maria     Puder   \n",
       "2   HR           recruiter     $120,000  30   Dorothy      Gale   \n",
       "3   IT      data scientist     $170,000   -    Edmond    Dantes   \n",
       "4   IT  frontend developer  120000dolar  32    Gregor     Samsa   \n",
       "\n",
       "                   skills               skills2  \n",
       "0                      []                        \n",
       "1  [Python, Tableau, SQL]  Python, Tableau, SQL  \n",
       "2                      []                        \n",
       "3           [ML, DL, NLP]             ML,DL,NLP  \n",
       "4         [React, Django]          React,Django  "
      ]
     },
     "execution_count": 27,
     "metadata": {},
     "output_type": "execute_result"
    }
   ],
   "source": [
    "df"
   ]
  },
  {
   "cell_type": "markdown",
   "id": "c9b14ff5",
   "metadata": {},
   "source": [
    "# <font color='green'> <b>Dummy Operations</b><font color='black'>\n",
    "    \n",
    "**get_dummies()**, makine öğrenimi ve veri analizinde yaygın olarak kullanılan bir işlevdir. \n",
    "\n",
    "Genellikle kategorik değişkenleri veya text datalarını, makine öğrenimi algoritmaları tarafından kolayca işlenebilen sayısal veya binary dönüştürmek için kullanılır.\n",
    "\n",
    "[SOURCE01](https://www.sharpsightlabs.com/blog/pandas-get-dummies/),\n",
    "[SOURCE02](https://dataindependent.com/pandas/pandas-get-dummies-pd-get_dummies/),\n",
    "[SOURCE03](https://www.educative.io/answers/what-is-the-getdummies-function-in-pandas),\n",
    "[SOURCE04](https://www.w3resource.com/pandas/get_dummies.php)"
   ]
  },
  {
   "attachments": {
    "img5.png": {
     "image/png": "[encoded data removed]"
    }
   },
   "cell_type": "markdown",
   "id": "355c90c4",
   "metadata": {},
   "source": [
    "![img5.png](attachment:img5.png) \n"
   ]
  },
  {
   "attachments": {
    "img6.png": {
     "image/png": "[encoded data removed]"
    }
   },
   "cell_type": "markdown",
   "id": "331b0db5",
   "metadata": {},
   "source": [
    "![img6.png](attachment:img6.png)"
   ]
  },
  {
   "attachments": {
    "img7.png": {
     "image/png": "[encoded data removed]"
    }
   },
   "cell_type": "markdown",
   "id": "20d4ba1c",
   "metadata": {},
   "source": [
    "![img7.png](attachment:img7.png)"
   ]
  },
  {
   "attachments": {
    "img8.png": {
     "image/png": "[encoded data removed]"
    }
   },
   "cell_type": "markdown",
   "id": "82d23b7b",
   "metadata": {},
   "source": [
    "![img8.png](attachment:img8.png)"
   ]
  },
  {
   "cell_type": "code",
   "execution_count": 72,
   "id": "daa24cb5",
   "metadata": {
    "ExecuteTime": {
     "end_time": "2024-05-20T07:55:21.118991Z",
     "start_time": "2024-05-20T07:55:21.109754Z"
    }
   },
   "outputs": [
    {
     "data": {
      "text/html": [
       "<div>\n",
       "<style scoped>\n",
       "    .dataframe tbody tr th:only-of-type {\n",
       "        vertical-align: middle;\n",
       "    }\n",
       "\n",
       "    .dataframe tbody tr th {\n",
       "        vertical-align: top;\n",
       "    }\n",
       "\n",
       "    .dataframe thead th {\n",
       "        text-align: right;\n",
       "    }\n",
       "</style>\n",
       "<table border=\"1\" class=\"dataframe\">\n",
       "  <thead>\n",
       "    <tr style=\"text-align: right;\">\n",
       "      <th></th>\n",
       "      <th>dept</th>\n",
       "      <th>job</th>\n",
       "      <th>salary</th>\n",
       "      <th>age</th>\n",
       "      <th>firt_name</th>\n",
       "      <th>last_name</th>\n",
       "      <th>skills</th>\n",
       "      <th>skills2</th>\n",
       "    </tr>\n",
       "  </thead>\n",
       "  <tbody>\n",
       "    <tr>\n",
       "      <th>0</th>\n",
       "      <td>HR</td>\n",
       "      <td>manager</td>\n",
       "      <td>$180,000</td>\n",
       "      <td>55</td>\n",
       "      <td>Tyler</td>\n",
       "      <td>Durden</td>\n",
       "      <td>[]</td>\n",
       "      <td></td>\n",
       "    </tr>\n",
       "    <tr>\n",
       "      <th>1</th>\n",
       "      <td>IT</td>\n",
       "      <td>data analyst</td>\n",
       "      <td>150000dolar</td>\n",
       "      <td>28</td>\n",
       "      <td>Maria</td>\n",
       "      <td>Puder</td>\n",
       "      <td>[Python, Tableau, SQL]</td>\n",
       "      <td>Python, Tableau, SQL</td>\n",
       "    </tr>\n",
       "    <tr>\n",
       "      <th>2</th>\n",
       "      <td>HR</td>\n",
       "      <td>recruiter</td>\n",
       "      <td>$120,000</td>\n",
       "      <td>30</td>\n",
       "      <td>Dorothy</td>\n",
       "      <td>Gale</td>\n",
       "      <td>[]</td>\n",
       "      <td></td>\n",
       "    </tr>\n",
       "    <tr>\n",
       "      <th>3</th>\n",
       "      <td>IT</td>\n",
       "      <td>data scientist</td>\n",
       "      <td>$170,000</td>\n",
       "      <td>-</td>\n",
       "      <td>Edmond</td>\n",
       "      <td>Dantes</td>\n",
       "      <td>[ML, DL, NLP]</td>\n",
       "      <td>ML,DL,NLP</td>\n",
       "    </tr>\n",
       "    <tr>\n",
       "      <th>4</th>\n",
       "      <td>IT</td>\n",
       "      <td>frontend developer</td>\n",
       "      <td>120000dolar</td>\n",
       "      <td>32</td>\n",
       "      <td>Gregor</td>\n",
       "      <td>Samsa</td>\n",
       "      <td>[React, Django]</td>\n",
       "      <td>React,Django</td>\n",
       "    </tr>\n",
       "  </tbody>\n",
       "</table>\n",
       "</div>"
      ],
      "text/plain": [
       "  dept                 job       salary age firt_name last_name  \\\n",
       "0   HR             manager     $180,000  55     Tyler    Durden   \n",
       "1   IT        data analyst  150000dolar  28     Maria     Puder   \n",
       "2   HR           recruiter     $120,000  30   Dorothy      Gale   \n",
       "3   IT      data scientist     $170,000   -    Edmond    Dantes   \n",
       "4   IT  frontend developer  120000dolar  32    Gregor     Samsa   \n",
       "\n",
       "                   skills               skills2  \n",
       "0                      []                        \n",
       "1  [Python, Tableau, SQL]  Python, Tableau, SQL  \n",
       "2                      []                        \n",
       "3           [ML, DL, NLP]             ML,DL,NLP  \n",
       "4         [React, Django]          React,Django  "
      ]
     },
     "execution_count": 72,
     "metadata": {},
     "output_type": "execute_result"
    }
   ],
   "source": [
    "df"
   ]
  },
  {
   "cell_type": "code",
   "execution_count": 73,
   "id": "159a17c8",
   "metadata": {
    "ExecuteTime": {
     "end_time": "2024-05-20T07:55:22.453039Z",
     "start_time": "2024-05-20T07:55:22.447915Z"
    }
   },
   "outputs": [
    {
     "data": {
      "text/plain": [
       "0    HR\n",
       "1    IT\n",
       "2    HR\n",
       "3    IT\n",
       "4    IT\n",
       "Name: dept, dtype: object"
      ]
     },
     "execution_count": 73,
     "metadata": {},
     "output_type": "execute_result"
    }
   ],
   "source": [
    "df.dept"
   ]
  },
  {
   "cell_type": "code",
   "execution_count": 74,
   "id": "b7636415",
   "metadata": {
    "ExecuteTime": {
     "end_time": "2024-05-20T07:55:26.343912Z",
     "start_time": "2024-05-20T07:55:26.337594Z"
    }
   },
   "outputs": [
    {
     "data": {
      "text/html": [
       "<div>\n",
       "<style scoped>\n",
       "    .dataframe tbody tr th:only-of-type {\n",
       "        vertical-align: middle;\n",
       "    }\n",
       "\n",
       "    .dataframe tbody tr th {\n",
       "        vertical-align: top;\n",
       "    }\n",
       "\n",
       "    .dataframe thead th {\n",
       "        text-align: right;\n",
       "    }\n",
       "</style>\n",
       "<table border=\"1\" class=\"dataframe\">\n",
       "  <thead>\n",
       "    <tr style=\"text-align: right;\">\n",
       "      <th></th>\n",
       "      <th>HR</th>\n",
       "      <th>IT</th>\n",
       "    </tr>\n",
       "  </thead>\n",
       "  <tbody>\n",
       "    <tr>\n",
       "      <th>0</th>\n",
       "      <td>True</td>\n",
       "      <td>False</td>\n",
       "    </tr>\n",
       "    <tr>\n",
       "      <th>1</th>\n",
       "      <td>False</td>\n",
       "      <td>True</td>\n",
       "    </tr>\n",
       "    <tr>\n",
       "      <th>2</th>\n",
       "      <td>True</td>\n",
       "      <td>False</td>\n",
       "    </tr>\n",
       "    <tr>\n",
       "      <th>3</th>\n",
       "      <td>False</td>\n",
       "      <td>True</td>\n",
       "    </tr>\n",
       "    <tr>\n",
       "      <th>4</th>\n",
       "      <td>False</td>\n",
       "      <td>True</td>\n",
       "    </tr>\n",
       "  </tbody>\n",
       "</table>\n",
       "</div>"
      ],
      "text/plain": [
       "      HR     IT\n",
       "0   True  False\n",
       "1  False   True\n",
       "2   True  False\n",
       "3  False   True\n",
       "4  False   True"
      ]
     },
     "execution_count": 74,
     "metadata": {},
     "output_type": "execute_result"
    }
   ],
   "source": [
    "pd.get_dummies(df.dept)   # dtype=int"
   ]
  },
  {
   "cell_type": "code",
   "execution_count": 75,
   "id": "7c600ad7",
   "metadata": {
    "ExecuteTime": {
     "end_time": "2024-05-20T07:55:38.918796Z",
     "start_time": "2024-05-20T07:55:38.912634Z"
    }
   },
   "outputs": [
    {
     "data": {
      "text/html": [
       "<div>\n",
       "<style scoped>\n",
       "    .dataframe tbody tr th:only-of-type {\n",
       "        vertical-align: middle;\n",
       "    }\n",
       "\n",
       "    .dataframe tbody tr th {\n",
       "        vertical-align: top;\n",
       "    }\n",
       "\n",
       "    .dataframe thead th {\n",
       "        text-align: right;\n",
       "    }\n",
       "</style>\n",
       "<table border=\"1\" class=\"dataframe\">\n",
       "  <thead>\n",
       "    <tr style=\"text-align: right;\">\n",
       "      <th></th>\n",
       "      <th>IT</th>\n",
       "    </tr>\n",
       "  </thead>\n",
       "  <tbody>\n",
       "    <tr>\n",
       "      <th>0</th>\n",
       "      <td>False</td>\n",
       "    </tr>\n",
       "    <tr>\n",
       "      <th>1</th>\n",
       "      <td>True</td>\n",
       "    </tr>\n",
       "    <tr>\n",
       "      <th>2</th>\n",
       "      <td>False</td>\n",
       "    </tr>\n",
       "    <tr>\n",
       "      <th>3</th>\n",
       "      <td>True</td>\n",
       "    </tr>\n",
       "    <tr>\n",
       "      <th>4</th>\n",
       "      <td>True</td>\n",
       "    </tr>\n",
       "  </tbody>\n",
       "</table>\n",
       "</div>"
      ],
      "text/plain": [
       "      IT\n",
       "0  False\n",
       "1   True\n",
       "2  False\n",
       "3   True\n",
       "4   True"
      ]
     },
     "execution_count": 75,
     "metadata": {},
     "output_type": "execute_result"
    }
   ],
   "source": [
    "pd.get_dummies(df.dept, drop_first=True)  # dummy object veya kategorik sutunlarda kullanilir.\n",
    "                                          # 0 yok , 1 var demektir."
   ]
  },
  {
   "cell_type": "code",
   "execution_count": 77,
   "id": "068b116d",
   "metadata": {
    "ExecuteTime": {
     "end_time": "2024-05-20T07:56:10.673922Z",
     "start_time": "2024-05-20T07:56:10.669627Z"
    }
   },
   "outputs": [
    {
     "data": {
      "text/plain": [
       "0                        \n",
       "1    Python, Tableau, SQL\n",
       "2                        \n",
       "3               ML,DL,NLP\n",
       "4            React,Django\n",
       "Name: skills2, dtype: object"
      ]
     },
     "execution_count": 77,
     "metadata": {},
     "output_type": "execute_result"
    }
   ],
   "source": [
    "df.skills2"
   ]
  },
  {
   "cell_type": "code",
   "execution_count": 78,
   "id": "44deedc6",
   "metadata": {
    "ExecuteTime": {
     "end_time": "2024-05-20T07:56:18.786356Z",
     "start_time": "2024-05-20T07:56:18.779050Z"
    }
   },
   "outputs": [
    {
     "data": {
      "text/html": [
       "<div>\n",
       "<style scoped>\n",
       "    .dataframe tbody tr th:only-of-type {\n",
       "        vertical-align: middle;\n",
       "    }\n",
       "\n",
       "    .dataframe tbody tr th {\n",
       "        vertical-align: top;\n",
       "    }\n",
       "\n",
       "    .dataframe thead th {\n",
       "        text-align: right;\n",
       "    }\n",
       "</style>\n",
       "<table border=\"1\" class=\"dataframe\">\n",
       "  <thead>\n",
       "    <tr style=\"text-align: right;\">\n",
       "      <th></th>\n",
       "      <th></th>\n",
       "      <th>ML,DL,NLP</th>\n",
       "      <th>Python, Tableau, SQL</th>\n",
       "      <th>React,Django</th>\n",
       "    </tr>\n",
       "  </thead>\n",
       "  <tbody>\n",
       "    <tr>\n",
       "      <th>0</th>\n",
       "      <td>True</td>\n",
       "      <td>False</td>\n",
       "      <td>False</td>\n",
       "      <td>False</td>\n",
       "    </tr>\n",
       "    <tr>\n",
       "      <th>1</th>\n",
       "      <td>False</td>\n",
       "      <td>False</td>\n",
       "      <td>True</td>\n",
       "      <td>False</td>\n",
       "    </tr>\n",
       "    <tr>\n",
       "      <th>2</th>\n",
       "      <td>True</td>\n",
       "      <td>False</td>\n",
       "      <td>False</td>\n",
       "      <td>False</td>\n",
       "    </tr>\n",
       "    <tr>\n",
       "      <th>3</th>\n",
       "      <td>False</td>\n",
       "      <td>True</td>\n",
       "      <td>False</td>\n",
       "      <td>False</td>\n",
       "    </tr>\n",
       "    <tr>\n",
       "      <th>4</th>\n",
       "      <td>False</td>\n",
       "      <td>False</td>\n",
       "      <td>False</td>\n",
       "      <td>True</td>\n",
       "    </tr>\n",
       "  </tbody>\n",
       "</table>\n",
       "</div>"
      ],
      "text/plain": [
       "          ML,DL,NLP  Python, Tableau, SQL  React,Django\n",
       "0   True      False                 False         False\n",
       "1  False      False                  True         False\n",
       "2   True      False                 False         False\n",
       "3  False       True                 False         False\n",
       "4  False      False                 False          True"
      ]
     },
     "execution_count": 78,
     "metadata": {},
     "output_type": "execute_result"
    }
   ],
   "source": [
    "pd.get_dummies(df.skills2)"
   ]
  },
  {
   "cell_type": "code",
   "execution_count": 79,
   "id": "4e17fb57",
   "metadata": {
    "ExecuteTime": {
     "end_time": "2024-05-20T07:57:02.458149Z",
     "start_time": "2024-05-20T07:57:02.449194Z"
    }
   },
   "outputs": [
    {
     "data": {
      "text/html": [
       "<div>\n",
       "<style scoped>\n",
       "    .dataframe tbody tr th:only-of-type {\n",
       "        vertical-align: middle;\n",
       "    }\n",
       "\n",
       "    .dataframe tbody tr th {\n",
       "        vertical-align: top;\n",
       "    }\n",
       "\n",
       "    .dataframe thead th {\n",
       "        text-align: right;\n",
       "    }\n",
       "</style>\n",
       "<table border=\"1\" class=\"dataframe\">\n",
       "  <thead>\n",
       "    <tr style=\"text-align: right;\">\n",
       "      <th></th>\n",
       "      <th>SQL</th>\n",
       "      <th>Tableau</th>\n",
       "      <th>DL</th>\n",
       "      <th>Django</th>\n",
       "      <th>ML</th>\n",
       "      <th>NLP</th>\n",
       "      <th>Python</th>\n",
       "      <th>React</th>\n",
       "    </tr>\n",
       "  </thead>\n",
       "  <tbody>\n",
       "    <tr>\n",
       "      <th>0</th>\n",
       "      <td>0</td>\n",
       "      <td>0</td>\n",
       "      <td>0</td>\n",
       "      <td>0</td>\n",
       "      <td>0</td>\n",
       "      <td>0</td>\n",
       "      <td>0</td>\n",
       "      <td>0</td>\n",
       "    </tr>\n",
       "    <tr>\n",
       "      <th>1</th>\n",
       "      <td>1</td>\n",
       "      <td>1</td>\n",
       "      <td>0</td>\n",
       "      <td>0</td>\n",
       "      <td>0</td>\n",
       "      <td>0</td>\n",
       "      <td>1</td>\n",
       "      <td>0</td>\n",
       "    </tr>\n",
       "    <tr>\n",
       "      <th>2</th>\n",
       "      <td>0</td>\n",
       "      <td>0</td>\n",
       "      <td>0</td>\n",
       "      <td>0</td>\n",
       "      <td>0</td>\n",
       "      <td>0</td>\n",
       "      <td>0</td>\n",
       "      <td>0</td>\n",
       "    </tr>\n",
       "    <tr>\n",
       "      <th>3</th>\n",
       "      <td>0</td>\n",
       "      <td>0</td>\n",
       "      <td>1</td>\n",
       "      <td>0</td>\n",
       "      <td>1</td>\n",
       "      <td>1</td>\n",
       "      <td>0</td>\n",
       "      <td>0</td>\n",
       "    </tr>\n",
       "    <tr>\n",
       "      <th>4</th>\n",
       "      <td>0</td>\n",
       "      <td>0</td>\n",
       "      <td>0</td>\n",
       "      <td>1</td>\n",
       "      <td>0</td>\n",
       "      <td>0</td>\n",
       "      <td>0</td>\n",
       "      <td>1</td>\n",
       "    </tr>\n",
       "  </tbody>\n",
       "</table>\n",
       "</div>"
      ],
      "text/plain": [
       "    SQL   Tableau  DL  Django  ML  NLP  Python  React\n",
       "0     0         0   0       0   0    0       0      0\n",
       "1     1         1   0       0   0    0       1      0\n",
       "2     0         0   0       0   0    0       0      0\n",
       "3     0         0   1       0   1    1       0      0\n",
       "4     0         0   0       1   0    0       0      1"
      ]
     },
     "execution_count": 79,
     "metadata": {},
     "output_type": "execute_result"
    }
   ],
   "source": [
    "df.skills2.str.get_dummies(sep=\",\")"
   ]
  },
  {
   "cell_type": "code",
   "execution_count": 80,
   "id": "513cb4a9",
   "metadata": {
    "ExecuteTime": {
     "end_time": "2024-05-20T07:57:07.339502Z",
     "start_time": "2024-05-20T07:57:07.331007Z"
    }
   },
   "outputs": [
    {
     "data": {
      "text/html": [
       "<div>\n",
       "<style scoped>\n",
       "    .dataframe tbody tr th:only-of-type {\n",
       "        vertical-align: middle;\n",
       "    }\n",
       "\n",
       "    .dataframe tbody tr th {\n",
       "        vertical-align: top;\n",
       "    }\n",
       "\n",
       "    .dataframe thead th {\n",
       "        text-align: right;\n",
       "    }\n",
       "</style>\n",
       "<table border=\"1\" class=\"dataframe\">\n",
       "  <thead>\n",
       "    <tr style=\"text-align: right;\">\n",
       "      <th></th>\n",
       "      <th>skills_ SQL</th>\n",
       "      <th>skills_ Tableau</th>\n",
       "      <th>skills_DL</th>\n",
       "      <th>skills_Django</th>\n",
       "      <th>skills_ML</th>\n",
       "      <th>skills_NLP</th>\n",
       "      <th>skills_Python</th>\n",
       "      <th>skills_React</th>\n",
       "    </tr>\n",
       "  </thead>\n",
       "  <tbody>\n",
       "    <tr>\n",
       "      <th>0</th>\n",
       "      <td>0</td>\n",
       "      <td>0</td>\n",
       "      <td>0</td>\n",
       "      <td>0</td>\n",
       "      <td>0</td>\n",
       "      <td>0</td>\n",
       "      <td>0</td>\n",
       "      <td>0</td>\n",
       "    </tr>\n",
       "    <tr>\n",
       "      <th>1</th>\n",
       "      <td>1</td>\n",
       "      <td>1</td>\n",
       "      <td>0</td>\n",
       "      <td>0</td>\n",
       "      <td>0</td>\n",
       "      <td>0</td>\n",
       "      <td>1</td>\n",
       "      <td>0</td>\n",
       "    </tr>\n",
       "    <tr>\n",
       "      <th>2</th>\n",
       "      <td>0</td>\n",
       "      <td>0</td>\n",
       "      <td>0</td>\n",
       "      <td>0</td>\n",
       "      <td>0</td>\n",
       "      <td>0</td>\n",
       "      <td>0</td>\n",
       "      <td>0</td>\n",
       "    </tr>\n",
       "    <tr>\n",
       "      <th>3</th>\n",
       "      <td>0</td>\n",
       "      <td>0</td>\n",
       "      <td>1</td>\n",
       "      <td>0</td>\n",
       "      <td>1</td>\n",
       "      <td>1</td>\n",
       "      <td>0</td>\n",
       "      <td>0</td>\n",
       "    </tr>\n",
       "    <tr>\n",
       "      <th>4</th>\n",
       "      <td>0</td>\n",
       "      <td>0</td>\n",
       "      <td>0</td>\n",
       "      <td>1</td>\n",
       "      <td>0</td>\n",
       "      <td>0</td>\n",
       "      <td>0</td>\n",
       "      <td>1</td>\n",
       "    </tr>\n",
       "  </tbody>\n",
       "</table>\n",
       "</div>"
      ],
      "text/plain": [
       "   skills_ SQL  skills_ Tableau  skills_DL  skills_Django  skills_ML  \\\n",
       "0            0                0          0              0          0   \n",
       "1            1                1          0              0          0   \n",
       "2            0                0          0              0          0   \n",
       "3            0                0          1              0          1   \n",
       "4            0                0          0              1          0   \n",
       "\n",
       "   skills_NLP  skills_Python  skills_React  \n",
       "0           0              0             0  \n",
       "1           0              1             0  \n",
       "2           0              0             0  \n",
       "3           1              0             0  \n",
       "4           0              0             1  "
      ]
     },
     "execution_count": 80,
     "metadata": {},
     "output_type": "execute_result"
    }
   ],
   "source": [
    "df.skills2.str.get_dummies(sep=\",\").add_prefix(\"skills_\")"
   ]
  },
  {
   "cell_type": "code",
   "execution_count": 81,
   "id": "b978aa2d",
   "metadata": {
    "ExecuteTime": {
     "end_time": "2024-05-20T07:57:36.131032Z",
     "start_time": "2024-05-20T07:57:36.123686Z"
    }
   },
   "outputs": [
    {
     "data": {
      "text/html": [
       "<div>\n",
       "<style scoped>\n",
       "    .dataframe tbody tr th:only-of-type {\n",
       "        vertical-align: middle;\n",
       "    }\n",
       "\n",
       "    .dataframe tbody tr th {\n",
       "        vertical-align: top;\n",
       "    }\n",
       "\n",
       "    .dataframe thead th {\n",
       "        text-align: right;\n",
       "    }\n",
       "</style>\n",
       "<table border=\"1\" class=\"dataframe\">\n",
       "  <thead>\n",
       "    <tr style=\"text-align: right;\">\n",
       "      <th></th>\n",
       "      <th>dept</th>\n",
       "      <th>job</th>\n",
       "      <th>salary</th>\n",
       "      <th>skills2</th>\n",
       "    </tr>\n",
       "  </thead>\n",
       "  <tbody>\n",
       "    <tr>\n",
       "      <th>0</th>\n",
       "      <td>HR</td>\n",
       "      <td>manager</td>\n",
       "      <td>$180,000</td>\n",
       "      <td></td>\n",
       "    </tr>\n",
       "    <tr>\n",
       "      <th>1</th>\n",
       "      <td>IT</td>\n",
       "      <td>data analyst</td>\n",
       "      <td>150000dolar</td>\n",
       "      <td>Python, Tableau, SQL</td>\n",
       "    </tr>\n",
       "    <tr>\n",
       "      <th>2</th>\n",
       "      <td>HR</td>\n",
       "      <td>recruiter</td>\n",
       "      <td>$120,000</td>\n",
       "      <td></td>\n",
       "    </tr>\n",
       "    <tr>\n",
       "      <th>3</th>\n",
       "      <td>IT</td>\n",
       "      <td>data scientist</td>\n",
       "      <td>$170,000</td>\n",
       "      <td>ML,DL,NLP</td>\n",
       "    </tr>\n",
       "    <tr>\n",
       "      <th>4</th>\n",
       "      <td>IT</td>\n",
       "      <td>frontend developer</td>\n",
       "      <td>120000dolar</td>\n",
       "      <td>React,Django</td>\n",
       "    </tr>\n",
       "  </tbody>\n",
       "</table>\n",
       "</div>"
      ],
      "text/plain": [
       "  dept                 job       salary               skills2\n",
       "0   HR             manager     $180,000                      \n",
       "1   IT        data analyst  150000dolar  Python, Tableau, SQL\n",
       "2   HR           recruiter     $120,000                      \n",
       "3   IT      data scientist     $170,000             ML,DL,NLP\n",
       "4   IT  frontend developer  120000dolar          React,Django"
      ]
     },
     "execution_count": 81,
     "metadata": {},
     "output_type": "execute_result"
    }
   ],
   "source": [
    "df_final = df[[\"dept\", \"job\", \"salary\", \"skills2\"]]\n",
    "df_final"
   ]
  },
  {
   "cell_type": "code",
   "execution_count": 82,
   "id": "eb8a9c48",
   "metadata": {
    "ExecuteTime": {
     "end_time": "2024-05-20T07:57:46.451162Z",
     "start_time": "2024-05-20T07:57:46.446642Z"
    }
   },
   "outputs": [],
   "source": [
    "skills_dummy = df.skills2.str.get_dummies(sep=\",\").add_prefix(\"skills_\")"
   ]
  },
  {
   "cell_type": "code",
   "execution_count": 83,
   "id": "2d116b34",
   "metadata": {
    "ExecuteTime": {
     "end_time": "2024-05-20T07:57:55.466475Z",
     "start_time": "2024-05-20T07:57:55.458661Z"
    }
   },
   "outputs": [
    {
     "data": {
      "text/html": [
       "<div>\n",
       "<style scoped>\n",
       "    .dataframe tbody tr th:only-of-type {\n",
       "        vertical-align: middle;\n",
       "    }\n",
       "\n",
       "    .dataframe tbody tr th {\n",
       "        vertical-align: top;\n",
       "    }\n",
       "\n",
       "    .dataframe thead th {\n",
       "        text-align: right;\n",
       "    }\n",
       "</style>\n",
       "<table border=\"1\" class=\"dataframe\">\n",
       "  <thead>\n",
       "    <tr style=\"text-align: right;\">\n",
       "      <th></th>\n",
       "      <th>skills_ SQL</th>\n",
       "      <th>skills_ Tableau</th>\n",
       "      <th>skills_DL</th>\n",
       "      <th>skills_Django</th>\n",
       "      <th>skills_ML</th>\n",
       "      <th>skills_NLP</th>\n",
       "      <th>skills_Python</th>\n",
       "      <th>skills_React</th>\n",
       "    </tr>\n",
       "  </thead>\n",
       "  <tbody>\n",
       "    <tr>\n",
       "      <th>0</th>\n",
       "      <td>0</td>\n",
       "      <td>0</td>\n",
       "      <td>0</td>\n",
       "      <td>0</td>\n",
       "      <td>0</td>\n",
       "      <td>0</td>\n",
       "      <td>0</td>\n",
       "      <td>0</td>\n",
       "    </tr>\n",
       "    <tr>\n",
       "      <th>1</th>\n",
       "      <td>1</td>\n",
       "      <td>1</td>\n",
       "      <td>0</td>\n",
       "      <td>0</td>\n",
       "      <td>0</td>\n",
       "      <td>0</td>\n",
       "      <td>1</td>\n",
       "      <td>0</td>\n",
       "    </tr>\n",
       "    <tr>\n",
       "      <th>2</th>\n",
       "      <td>0</td>\n",
       "      <td>0</td>\n",
       "      <td>0</td>\n",
       "      <td>0</td>\n",
       "      <td>0</td>\n",
       "      <td>0</td>\n",
       "      <td>0</td>\n",
       "      <td>0</td>\n",
       "    </tr>\n",
       "    <tr>\n",
       "      <th>3</th>\n",
       "      <td>0</td>\n",
       "      <td>0</td>\n",
       "      <td>1</td>\n",
       "      <td>0</td>\n",
       "      <td>1</td>\n",
       "      <td>1</td>\n",
       "      <td>0</td>\n",
       "      <td>0</td>\n",
       "    </tr>\n",
       "    <tr>\n",
       "      <th>4</th>\n",
       "      <td>0</td>\n",
       "      <td>0</td>\n",
       "      <td>0</td>\n",
       "      <td>1</td>\n",
       "      <td>0</td>\n",
       "      <td>0</td>\n",
       "      <td>0</td>\n",
       "      <td>1</td>\n",
       "    </tr>\n",
       "  </tbody>\n",
       "</table>\n",
       "</div>"
      ],
      "text/plain": [
       "   skills_ SQL  skills_ Tableau  skills_DL  skills_Django  skills_ML  \\\n",
       "0            0                0          0              0          0   \n",
       "1            1                1          0              0          0   \n",
       "2            0                0          0              0          0   \n",
       "3            0                0          1              0          1   \n",
       "4            0                0          0              1          0   \n",
       "\n",
       "   skills_NLP  skills_Python  skills_React  \n",
       "0           0              0             0  \n",
       "1           0              1             0  \n",
       "2           0              0             0  \n",
       "3           1              0             0  \n",
       "4           0              0             1  "
      ]
     },
     "execution_count": 83,
     "metadata": {},
     "output_type": "execute_result"
    }
   ],
   "source": [
    "skills_dummy"
   ]
  },
  {
   "cell_type": "code",
   "execution_count": 84,
   "id": "ed962008",
   "metadata": {
    "ExecuteTime": {
     "end_time": "2024-05-20T07:58:02.472744Z",
     "start_time": "2024-05-20T07:58:02.463238Z"
    }
   },
   "outputs": [
    {
     "data": {
      "text/html": [
       "<div>\n",
       "<style scoped>\n",
       "    .dataframe tbody tr th:only-of-type {\n",
       "        vertical-align: middle;\n",
       "    }\n",
       "\n",
       "    .dataframe tbody tr th {\n",
       "        vertical-align: top;\n",
       "    }\n",
       "\n",
       "    .dataframe thead th {\n",
       "        text-align: right;\n",
       "    }\n",
       "</style>\n",
       "<table border=\"1\" class=\"dataframe\">\n",
       "  <thead>\n",
       "    <tr style=\"text-align: right;\">\n",
       "      <th></th>\n",
       "      <th>dept</th>\n",
       "      <th>job</th>\n",
       "      <th>salary</th>\n",
       "      <th>skills2</th>\n",
       "      <th>skills_ SQL</th>\n",
       "      <th>skills_ Tableau</th>\n",
       "      <th>skills_DL</th>\n",
       "      <th>skills_Django</th>\n",
       "      <th>skills_ML</th>\n",
       "      <th>skills_NLP</th>\n",
       "      <th>skills_Python</th>\n",
       "      <th>skills_React</th>\n",
       "    </tr>\n",
       "  </thead>\n",
       "  <tbody>\n",
       "    <tr>\n",
       "      <th>0</th>\n",
       "      <td>HR</td>\n",
       "      <td>manager</td>\n",
       "      <td>$180,000</td>\n",
       "      <td></td>\n",
       "      <td>0</td>\n",
       "      <td>0</td>\n",
       "      <td>0</td>\n",
       "      <td>0</td>\n",
       "      <td>0</td>\n",
       "      <td>0</td>\n",
       "      <td>0</td>\n",
       "      <td>0</td>\n",
       "    </tr>\n",
       "    <tr>\n",
       "      <th>1</th>\n",
       "      <td>IT</td>\n",
       "      <td>data analyst</td>\n",
       "      <td>150000dolar</td>\n",
       "      <td>Python, Tableau, SQL</td>\n",
       "      <td>1</td>\n",
       "      <td>1</td>\n",
       "      <td>0</td>\n",
       "      <td>0</td>\n",
       "      <td>0</td>\n",
       "      <td>0</td>\n",
       "      <td>1</td>\n",
       "      <td>0</td>\n",
       "    </tr>\n",
       "    <tr>\n",
       "      <th>2</th>\n",
       "      <td>HR</td>\n",
       "      <td>recruiter</td>\n",
       "      <td>$120,000</td>\n",
       "      <td></td>\n",
       "      <td>0</td>\n",
       "      <td>0</td>\n",
       "      <td>0</td>\n",
       "      <td>0</td>\n",
       "      <td>0</td>\n",
       "      <td>0</td>\n",
       "      <td>0</td>\n",
       "      <td>0</td>\n",
       "    </tr>\n",
       "    <tr>\n",
       "      <th>3</th>\n",
       "      <td>IT</td>\n",
       "      <td>data scientist</td>\n",
       "      <td>$170,000</td>\n",
       "      <td>ML,DL,NLP</td>\n",
       "      <td>0</td>\n",
       "      <td>0</td>\n",
       "      <td>1</td>\n",
       "      <td>0</td>\n",
       "      <td>1</td>\n",
       "      <td>1</td>\n",
       "      <td>0</td>\n",
       "      <td>0</td>\n",
       "    </tr>\n",
       "    <tr>\n",
       "      <th>4</th>\n",
       "      <td>IT</td>\n",
       "      <td>frontend developer</td>\n",
       "      <td>120000dolar</td>\n",
       "      <td>React,Django</td>\n",
       "      <td>0</td>\n",
       "      <td>0</td>\n",
       "      <td>0</td>\n",
       "      <td>1</td>\n",
       "      <td>0</td>\n",
       "      <td>0</td>\n",
       "      <td>0</td>\n",
       "      <td>1</td>\n",
       "    </tr>\n",
       "  </tbody>\n",
       "</table>\n",
       "</div>"
      ],
      "text/plain": [
       "  dept                 job       salary               skills2  skills_ SQL  \\\n",
       "0   HR             manager     $180,000                                  0   \n",
       "1   IT        data analyst  150000dolar  Python, Tableau, SQL            1   \n",
       "2   HR           recruiter     $120,000                                  0   \n",
       "3   IT      data scientist     $170,000             ML,DL,NLP            0   \n",
       "4   IT  frontend developer  120000dolar          React,Django            0   \n",
       "\n",
       "   skills_ Tableau  skills_DL  skills_Django  skills_ML  skills_NLP  \\\n",
       "0                0          0              0          0           0   \n",
       "1                1          0              0          0           0   \n",
       "2                0          0              0          0           0   \n",
       "3                0          1              0          1           1   \n",
       "4                0          0              1          0           0   \n",
       "\n",
       "   skills_Python  skills_React  \n",
       "0              0             0  \n",
       "1              1             0  \n",
       "2              0             0  \n",
       "3              0             0  \n",
       "4              0             1  "
      ]
     },
     "execution_count": 84,
     "metadata": {},
     "output_type": "execute_result"
    }
   ],
   "source": [
    "df_final.join(skills_dummy)   # df_final = "
   ]
  },
  {
   "cell_type": "code",
   "execution_count": 85,
   "id": "9b3a5bde",
   "metadata": {
    "ExecuteTime": {
     "end_time": "2024-05-20T07:58:11.847173Z",
     "start_time": "2024-05-20T07:58:11.842126Z"
    }
   },
   "outputs": [
    {
     "name": "stderr",
     "output_type": "stream",
     "text": [
      "C:\\Users\\ekrem\\AppData\\Local\\Temp\\ipykernel_14632\\105673382.py:1: SettingWithCopyWarning: \n",
      "A value is trying to be set on a copy of a slice from a DataFrame\n",
      "\n",
      "See the caveats in the documentation: https://pandas.pydata.org/pandas-docs/stable/user_guide/indexing.html#returning-a-view-versus-a-copy\n",
      "  df_final.drop(\"skills2\", axis=1, inplace=True)\n"
     ]
    }
   ],
   "source": [
    "df_final.drop(\"skills2\", axis=1, inplace=True)"
   ]
  },
  {
   "cell_type": "code",
   "execution_count": 86,
   "id": "4bdac7dc",
   "metadata": {
    "ExecuteTime": {
     "end_time": "2024-05-20T07:58:15.348327Z",
     "start_time": "2024-05-20T07:58:15.341540Z"
    }
   },
   "outputs": [
    {
     "data": {
      "text/html": [
       "<div>\n",
       "<style scoped>\n",
       "    .dataframe tbody tr th:only-of-type {\n",
       "        vertical-align: middle;\n",
       "    }\n",
       "\n",
       "    .dataframe tbody tr th {\n",
       "        vertical-align: top;\n",
       "    }\n",
       "\n",
       "    .dataframe thead th {\n",
       "        text-align: right;\n",
       "    }\n",
       "</style>\n",
       "<table border=\"1\" class=\"dataframe\">\n",
       "  <thead>\n",
       "    <tr style=\"text-align: right;\">\n",
       "      <th></th>\n",
       "      <th>dept</th>\n",
       "      <th>job</th>\n",
       "      <th>salary</th>\n",
       "    </tr>\n",
       "  </thead>\n",
       "  <tbody>\n",
       "    <tr>\n",
       "      <th>0</th>\n",
       "      <td>HR</td>\n",
       "      <td>manager</td>\n",
       "      <td>$180,000</td>\n",
       "    </tr>\n",
       "    <tr>\n",
       "      <th>1</th>\n",
       "      <td>IT</td>\n",
       "      <td>data analyst</td>\n",
       "      <td>150000dolar</td>\n",
       "    </tr>\n",
       "    <tr>\n",
       "      <th>2</th>\n",
       "      <td>HR</td>\n",
       "      <td>recruiter</td>\n",
       "      <td>$120,000</td>\n",
       "    </tr>\n",
       "    <tr>\n",
       "      <th>3</th>\n",
       "      <td>IT</td>\n",
       "      <td>data scientist</td>\n",
       "      <td>$170,000</td>\n",
       "    </tr>\n",
       "    <tr>\n",
       "      <th>4</th>\n",
       "      <td>IT</td>\n",
       "      <td>frontend developer</td>\n",
       "      <td>120000dolar</td>\n",
       "    </tr>\n",
       "  </tbody>\n",
       "</table>\n",
       "</div>"
      ],
      "text/plain": [
       "  dept                 job       salary\n",
       "0   HR             manager     $180,000\n",
       "1   IT        data analyst  150000dolar\n",
       "2   HR           recruiter     $120,000\n",
       "3   IT      data scientist     $170,000\n",
       "4   IT  frontend developer  120000dolar"
      ]
     },
     "execution_count": 86,
     "metadata": {},
     "output_type": "execute_result"
    }
   ],
   "source": [
    "df_final"
   ]
  },
  {
   "cell_type": "code",
   "execution_count": 68,
   "id": "d45f5324",
   "metadata": {
    "ExecuteTime": {
     "end_time": "2024-05-20T07:51:48.226348Z",
     "start_time": "2024-05-20T07:51:48.221636Z"
    }
   },
   "outputs": [],
   "source": [
    "df_final = df_final.join(skills_dummy) # df_final = seklinde yapmamiz gerekir"
   ]
  },
  {
   "cell_type": "code",
   "execution_count": 70,
   "id": "7eaf431f",
   "metadata": {
    "ExecuteTime": {
     "end_time": "2024-05-20T07:53:27.751662Z",
     "start_time": "2024-05-20T07:53:27.743930Z"
    }
   },
   "outputs": [
    {
     "data": {
      "text/html": [
       "<div>\n",
       "<style scoped>\n",
       "    .dataframe tbody tr th:only-of-type {\n",
       "        vertical-align: middle;\n",
       "    }\n",
       "\n",
       "    .dataframe tbody tr th {\n",
       "        vertical-align: top;\n",
       "    }\n",
       "\n",
       "    .dataframe thead th {\n",
       "        text-align: right;\n",
       "    }\n",
       "</style>\n",
       "<table border=\"1\" class=\"dataframe\">\n",
       "  <thead>\n",
       "    <tr style=\"text-align: right;\">\n",
       "      <th></th>\n",
       "      <th>dept</th>\n",
       "      <th>job</th>\n",
       "      <th>salary</th>\n",
       "      <th>skills_ SQL</th>\n",
       "      <th>skills_ Tableau</th>\n",
       "      <th>skills_DL</th>\n",
       "      <th>skills_Django</th>\n",
       "      <th>skills_ML</th>\n",
       "      <th>skills_NLP</th>\n",
       "      <th>skills_Python</th>\n",
       "      <th>skills_React</th>\n",
       "    </tr>\n",
       "  </thead>\n",
       "  <tbody>\n",
       "    <tr>\n",
       "      <th>0</th>\n",
       "      <td>HR</td>\n",
       "      <td>manager</td>\n",
       "      <td>$180,000</td>\n",
       "      <td>0</td>\n",
       "      <td>0</td>\n",
       "      <td>0</td>\n",
       "      <td>0</td>\n",
       "      <td>0</td>\n",
       "      <td>0</td>\n",
       "      <td>0</td>\n",
       "      <td>0</td>\n",
       "    </tr>\n",
       "    <tr>\n",
       "      <th>1</th>\n",
       "      <td>IT</td>\n",
       "      <td>data analyst</td>\n",
       "      <td>150000dolar</td>\n",
       "      <td>1</td>\n",
       "      <td>1</td>\n",
       "      <td>0</td>\n",
       "      <td>0</td>\n",
       "      <td>0</td>\n",
       "      <td>0</td>\n",
       "      <td>1</td>\n",
       "      <td>0</td>\n",
       "    </tr>\n",
       "    <tr>\n",
       "      <th>2</th>\n",
       "      <td>HR</td>\n",
       "      <td>recruiter</td>\n",
       "      <td>$120,000</td>\n",
       "      <td>0</td>\n",
       "      <td>0</td>\n",
       "      <td>0</td>\n",
       "      <td>0</td>\n",
       "      <td>0</td>\n",
       "      <td>0</td>\n",
       "      <td>0</td>\n",
       "      <td>0</td>\n",
       "    </tr>\n",
       "    <tr>\n",
       "      <th>3</th>\n",
       "      <td>IT</td>\n",
       "      <td>data scientist</td>\n",
       "      <td>$170,000</td>\n",
       "      <td>0</td>\n",
       "      <td>0</td>\n",
       "      <td>1</td>\n",
       "      <td>0</td>\n",
       "      <td>1</td>\n",
       "      <td>1</td>\n",
       "      <td>0</td>\n",
       "      <td>0</td>\n",
       "    </tr>\n",
       "    <tr>\n",
       "      <th>4</th>\n",
       "      <td>IT</td>\n",
       "      <td>frontend developer</td>\n",
       "      <td>120000dolar</td>\n",
       "      <td>0</td>\n",
       "      <td>0</td>\n",
       "      <td>0</td>\n",
       "      <td>1</td>\n",
       "      <td>0</td>\n",
       "      <td>0</td>\n",
       "      <td>0</td>\n",
       "      <td>1</td>\n",
       "    </tr>\n",
       "  </tbody>\n",
       "</table>\n",
       "</div>"
      ],
      "text/plain": [
       "  dept                 job       salary  skills_ SQL  skills_ Tableau  \\\n",
       "0   HR             manager     $180,000            0                0   \n",
       "1   IT        data analyst  150000dolar            1                1   \n",
       "2   HR           recruiter     $120,000            0                0   \n",
       "3   IT      data scientist     $170,000            0                0   \n",
       "4   IT  frontend developer  120000dolar            0                0   \n",
       "\n",
       "   skills_DL  skills_Django  skills_ML  skills_NLP  skills_Python  \\\n",
       "0          0              0          0           0              0   \n",
       "1          0              0          0           0              1   \n",
       "2          0              0          0           0              0   \n",
       "3          1              0          1           1              0   \n",
       "4          0              1          0           0              0   \n",
       "\n",
       "   skills_React  \n",
       "0             0  \n",
       "1             0  \n",
       "2             0  \n",
       "3             0  \n",
       "4             1  "
      ]
     },
     "execution_count": 70,
     "metadata": {},
     "output_type": "execute_result"
    }
   ],
   "source": [
    "df_final"
   ]
  },
  {
   "cell_type": "code",
   "execution_count": 87,
   "id": "fc9c1d78",
   "metadata": {
    "ExecuteTime": {
     "end_time": "2024-05-20T07:58:40.077173Z",
     "start_time": "2024-05-20T07:58:40.073919Z"
    }
   },
   "outputs": [],
   "source": [
    "df_final = df_final.join(skills_dummy)"
   ]
  },
  {
   "cell_type": "code",
   "execution_count": 88,
   "id": "e5a244ce",
   "metadata": {
    "ExecuteTime": {
     "end_time": "2024-05-20T07:58:47.357316Z",
     "start_time": "2024-05-20T07:58:47.348948Z"
    }
   },
   "outputs": [
    {
     "data": {
      "text/html": [
       "<div>\n",
       "<style scoped>\n",
       "    .dataframe tbody tr th:only-of-type {\n",
       "        vertical-align: middle;\n",
       "    }\n",
       "\n",
       "    .dataframe tbody tr th {\n",
       "        vertical-align: top;\n",
       "    }\n",
       "\n",
       "    .dataframe thead th {\n",
       "        text-align: right;\n",
       "    }\n",
       "</style>\n",
       "<table border=\"1\" class=\"dataframe\">\n",
       "  <thead>\n",
       "    <tr style=\"text-align: right;\">\n",
       "      <th></th>\n",
       "      <th>dept</th>\n",
       "      <th>job</th>\n",
       "      <th>salary</th>\n",
       "      <th>skills_ SQL</th>\n",
       "      <th>skills_ Tableau</th>\n",
       "      <th>skills_DL</th>\n",
       "      <th>skills_Django</th>\n",
       "      <th>skills_ML</th>\n",
       "      <th>skills_NLP</th>\n",
       "      <th>skills_Python</th>\n",
       "      <th>skills_React</th>\n",
       "    </tr>\n",
       "  </thead>\n",
       "  <tbody>\n",
       "    <tr>\n",
       "      <th>0</th>\n",
       "      <td>HR</td>\n",
       "      <td>manager</td>\n",
       "      <td>$180,000</td>\n",
       "      <td>0</td>\n",
       "      <td>0</td>\n",
       "      <td>0</td>\n",
       "      <td>0</td>\n",
       "      <td>0</td>\n",
       "      <td>0</td>\n",
       "      <td>0</td>\n",
       "      <td>0</td>\n",
       "    </tr>\n",
       "    <tr>\n",
       "      <th>1</th>\n",
       "      <td>IT</td>\n",
       "      <td>data analyst</td>\n",
       "      <td>150000dolar</td>\n",
       "      <td>1</td>\n",
       "      <td>1</td>\n",
       "      <td>0</td>\n",
       "      <td>0</td>\n",
       "      <td>0</td>\n",
       "      <td>0</td>\n",
       "      <td>1</td>\n",
       "      <td>0</td>\n",
       "    </tr>\n",
       "    <tr>\n",
       "      <th>2</th>\n",
       "      <td>HR</td>\n",
       "      <td>recruiter</td>\n",
       "      <td>$120,000</td>\n",
       "      <td>0</td>\n",
       "      <td>0</td>\n",
       "      <td>0</td>\n",
       "      <td>0</td>\n",
       "      <td>0</td>\n",
       "      <td>0</td>\n",
       "      <td>0</td>\n",
       "      <td>0</td>\n",
       "    </tr>\n",
       "    <tr>\n",
       "      <th>3</th>\n",
       "      <td>IT</td>\n",
       "      <td>data scientist</td>\n",
       "      <td>$170,000</td>\n",
       "      <td>0</td>\n",
       "      <td>0</td>\n",
       "      <td>1</td>\n",
       "      <td>0</td>\n",
       "      <td>1</td>\n",
       "      <td>1</td>\n",
       "      <td>0</td>\n",
       "      <td>0</td>\n",
       "    </tr>\n",
       "    <tr>\n",
       "      <th>4</th>\n",
       "      <td>IT</td>\n",
       "      <td>frontend developer</td>\n",
       "      <td>120000dolar</td>\n",
       "      <td>0</td>\n",
       "      <td>0</td>\n",
       "      <td>0</td>\n",
       "      <td>1</td>\n",
       "      <td>0</td>\n",
       "      <td>0</td>\n",
       "      <td>0</td>\n",
       "      <td>1</td>\n",
       "    </tr>\n",
       "  </tbody>\n",
       "</table>\n",
       "</div>"
      ],
      "text/plain": [
       "  dept                 job       salary  skills_ SQL  skills_ Tableau  \\\n",
       "0   HR             manager     $180,000            0                0   \n",
       "1   IT        data analyst  150000dolar            1                1   \n",
       "2   HR           recruiter     $120,000            0                0   \n",
       "3   IT      data scientist     $170,000            0                0   \n",
       "4   IT  frontend developer  120000dolar            0                0   \n",
       "\n",
       "   skills_DL  skills_Django  skills_ML  skills_NLP  skills_Python  \\\n",
       "0          0              0          0           0              0   \n",
       "1          0              0          0           0              1   \n",
       "2          0              0          0           0              0   \n",
       "3          1              0          1           1              0   \n",
       "4          0              1          0           0              0   \n",
       "\n",
       "   skills_React  \n",
       "0             0  \n",
       "1             0  \n",
       "2             0  \n",
       "3             0  \n",
       "4             1  "
      ]
     },
     "execution_count": 88,
     "metadata": {},
     "output_type": "execute_result"
    }
   ],
   "source": [
    "df_final"
   ]
  },
  {
   "cell_type": "code",
   "execution_count": 89,
   "id": "1c107ed4",
   "metadata": {
    "ExecuteTime": {
     "end_time": "2024-05-20T07:58:56.997937Z",
     "start_time": "2024-05-20T07:58:56.985163Z"
    }
   },
   "outputs": [
    {
     "data": {
      "text/html": [
       "<div>\n",
       "<style scoped>\n",
       "    .dataframe tbody tr th:only-of-type {\n",
       "        vertical-align: middle;\n",
       "    }\n",
       "\n",
       "    .dataframe tbody tr th {\n",
       "        vertical-align: top;\n",
       "    }\n",
       "\n",
       "    .dataframe thead th {\n",
       "        text-align: right;\n",
       "    }\n",
       "</style>\n",
       "<table border=\"1\" class=\"dataframe\">\n",
       "  <thead>\n",
       "    <tr style=\"text-align: right;\">\n",
       "      <th></th>\n",
       "      <th>skills_ SQL</th>\n",
       "      <th>skills_ Tableau</th>\n",
       "      <th>skills_DL</th>\n",
       "      <th>skills_Django</th>\n",
       "      <th>skills_ML</th>\n",
       "      <th>skills_NLP</th>\n",
       "      <th>skills_Python</th>\n",
       "      <th>skills_React</th>\n",
       "      <th>dept_IT</th>\n",
       "      <th>job_data scientist</th>\n",
       "      <th>job_frontend developer</th>\n",
       "      <th>job_manager</th>\n",
       "      <th>job_recruiter</th>\n",
       "      <th>salary_$170,000</th>\n",
       "      <th>salary_$180,000</th>\n",
       "      <th>salary_120000dolar</th>\n",
       "      <th>salary_150000dolar</th>\n",
       "    </tr>\n",
       "  </thead>\n",
       "  <tbody>\n",
       "    <tr>\n",
       "      <th>0</th>\n",
       "      <td>0</td>\n",
       "      <td>0</td>\n",
       "      <td>0</td>\n",
       "      <td>0</td>\n",
       "      <td>0</td>\n",
       "      <td>0</td>\n",
       "      <td>0</td>\n",
       "      <td>0</td>\n",
       "      <td>False</td>\n",
       "      <td>False</td>\n",
       "      <td>False</td>\n",
       "      <td>True</td>\n",
       "      <td>False</td>\n",
       "      <td>False</td>\n",
       "      <td>True</td>\n",
       "      <td>False</td>\n",
       "      <td>False</td>\n",
       "    </tr>\n",
       "    <tr>\n",
       "      <th>1</th>\n",
       "      <td>1</td>\n",
       "      <td>1</td>\n",
       "      <td>0</td>\n",
       "      <td>0</td>\n",
       "      <td>0</td>\n",
       "      <td>0</td>\n",
       "      <td>1</td>\n",
       "      <td>0</td>\n",
       "      <td>True</td>\n",
       "      <td>False</td>\n",
       "      <td>False</td>\n",
       "      <td>False</td>\n",
       "      <td>False</td>\n",
       "      <td>False</td>\n",
       "      <td>False</td>\n",
       "      <td>False</td>\n",
       "      <td>True</td>\n",
       "    </tr>\n",
       "    <tr>\n",
       "      <th>2</th>\n",
       "      <td>0</td>\n",
       "      <td>0</td>\n",
       "      <td>0</td>\n",
       "      <td>0</td>\n",
       "      <td>0</td>\n",
       "      <td>0</td>\n",
       "      <td>0</td>\n",
       "      <td>0</td>\n",
       "      <td>False</td>\n",
       "      <td>False</td>\n",
       "      <td>False</td>\n",
       "      <td>False</td>\n",
       "      <td>True</td>\n",
       "      <td>False</td>\n",
       "      <td>False</td>\n",
       "      <td>False</td>\n",
       "      <td>False</td>\n",
       "    </tr>\n",
       "    <tr>\n",
       "      <th>3</th>\n",
       "      <td>0</td>\n",
       "      <td>0</td>\n",
       "      <td>1</td>\n",
       "      <td>0</td>\n",
       "      <td>1</td>\n",
       "      <td>1</td>\n",
       "      <td>0</td>\n",
       "      <td>0</td>\n",
       "      <td>True</td>\n",
       "      <td>True</td>\n",
       "      <td>False</td>\n",
       "      <td>False</td>\n",
       "      <td>False</td>\n",
       "      <td>True</td>\n",
       "      <td>False</td>\n",
       "      <td>False</td>\n",
       "      <td>False</td>\n",
       "    </tr>\n",
       "    <tr>\n",
       "      <th>4</th>\n",
       "      <td>0</td>\n",
       "      <td>0</td>\n",
       "      <td>0</td>\n",
       "      <td>1</td>\n",
       "      <td>0</td>\n",
       "      <td>0</td>\n",
       "      <td>0</td>\n",
       "      <td>1</td>\n",
       "      <td>True</td>\n",
       "      <td>False</td>\n",
       "      <td>True</td>\n",
       "      <td>False</td>\n",
       "      <td>False</td>\n",
       "      <td>False</td>\n",
       "      <td>False</td>\n",
       "      <td>True</td>\n",
       "      <td>False</td>\n",
       "    </tr>\n",
       "  </tbody>\n",
       "</table>\n",
       "</div>"
      ],
      "text/plain": [
       "   skills_ SQL  skills_ Tableau  skills_DL  skills_Django  skills_ML  \\\n",
       "0            0                0          0              0          0   \n",
       "1            1                1          0              0          0   \n",
       "2            0                0          0              0          0   \n",
       "3            0                0          1              0          1   \n",
       "4            0                0          0              1          0   \n",
       "\n",
       "   skills_NLP  skills_Python  skills_React  dept_IT  job_data scientist  \\\n",
       "0           0              0             0    False               False   \n",
       "1           0              1             0     True               False   \n",
       "2           0              0             0    False               False   \n",
       "3           1              0             0     True                True   \n",
       "4           0              0             1     True               False   \n",
       "\n",
       "   job_frontend developer  job_manager  job_recruiter  salary_$170,000  \\\n",
       "0                   False         True          False            False   \n",
       "1                   False        False          False            False   \n",
       "2                   False        False           True            False   \n",
       "3                   False        False          False             True   \n",
       "4                    True        False          False            False   \n",
       "\n",
       "   salary_$180,000  salary_120000dolar  salary_150000dolar  \n",
       "0             True               False               False  \n",
       "1            False               False                True  \n",
       "2            False               False               False  \n",
       "3            False               False               False  \n",
       "4            False                True               False  "
      ]
     },
     "execution_count": 89,
     "metadata": {},
     "output_type": "execute_result"
    }
   ],
   "source": [
    "pd.get_dummies(df_final, drop_first=True) "
   ]
  },
  {
   "cell_type": "code",
   "execution_count": 90,
   "id": "5127e286",
   "metadata": {
    "ExecuteTime": {
     "end_time": "2024-05-20T07:59:06.395531Z",
     "start_time": "2024-05-20T07:59:06.390339Z"
    }
   },
   "outputs": [],
   "source": [
    "df_final = pd.get_dummies(df_final, drop_first=True)"
   ]
  },
  {
   "cell_type": "code",
   "execution_count": 91,
   "id": "05e2917c",
   "metadata": {
    "ExecuteTime": {
     "end_time": "2024-05-20T07:59:11.707081Z",
     "start_time": "2024-05-20T07:59:11.697537Z"
    }
   },
   "outputs": [
    {
     "data": {
      "text/html": [
       "<div>\n",
       "<style scoped>\n",
       "    .dataframe tbody tr th:only-of-type {\n",
       "        vertical-align: middle;\n",
       "    }\n",
       "\n",
       "    .dataframe tbody tr th {\n",
       "        vertical-align: top;\n",
       "    }\n",
       "\n",
       "    .dataframe thead th {\n",
       "        text-align: right;\n",
       "    }\n",
       "</style>\n",
       "<table border=\"1\" class=\"dataframe\">\n",
       "  <thead>\n",
       "    <tr style=\"text-align: right;\">\n",
       "      <th></th>\n",
       "      <th>skills_ SQL</th>\n",
       "      <th>skills_ Tableau</th>\n",
       "      <th>skills_DL</th>\n",
       "      <th>skills_Django</th>\n",
       "      <th>skills_ML</th>\n",
       "      <th>skills_NLP</th>\n",
       "      <th>skills_Python</th>\n",
       "      <th>skills_React</th>\n",
       "      <th>dept_IT</th>\n",
       "      <th>job_data scientist</th>\n",
       "      <th>job_frontend developer</th>\n",
       "      <th>job_manager</th>\n",
       "      <th>job_recruiter</th>\n",
       "      <th>salary_$170,000</th>\n",
       "      <th>salary_$180,000</th>\n",
       "      <th>salary_120000dolar</th>\n",
       "      <th>salary_150000dolar</th>\n",
       "    </tr>\n",
       "  </thead>\n",
       "  <tbody>\n",
       "    <tr>\n",
       "      <th>0</th>\n",
       "      <td>0</td>\n",
       "      <td>0</td>\n",
       "      <td>0</td>\n",
       "      <td>0</td>\n",
       "      <td>0</td>\n",
       "      <td>0</td>\n",
       "      <td>0</td>\n",
       "      <td>0</td>\n",
       "      <td>False</td>\n",
       "      <td>False</td>\n",
       "      <td>False</td>\n",
       "      <td>True</td>\n",
       "      <td>False</td>\n",
       "      <td>False</td>\n",
       "      <td>True</td>\n",
       "      <td>False</td>\n",
       "      <td>False</td>\n",
       "    </tr>\n",
       "    <tr>\n",
       "      <th>1</th>\n",
       "      <td>1</td>\n",
       "      <td>1</td>\n",
       "      <td>0</td>\n",
       "      <td>0</td>\n",
       "      <td>0</td>\n",
       "      <td>0</td>\n",
       "      <td>1</td>\n",
       "      <td>0</td>\n",
       "      <td>True</td>\n",
       "      <td>False</td>\n",
       "      <td>False</td>\n",
       "      <td>False</td>\n",
       "      <td>False</td>\n",
       "      <td>False</td>\n",
       "      <td>False</td>\n",
       "      <td>False</td>\n",
       "      <td>True</td>\n",
       "    </tr>\n",
       "    <tr>\n",
       "      <th>2</th>\n",
       "      <td>0</td>\n",
       "      <td>0</td>\n",
       "      <td>0</td>\n",
       "      <td>0</td>\n",
       "      <td>0</td>\n",
       "      <td>0</td>\n",
       "      <td>0</td>\n",
       "      <td>0</td>\n",
       "      <td>False</td>\n",
       "      <td>False</td>\n",
       "      <td>False</td>\n",
       "      <td>False</td>\n",
       "      <td>True</td>\n",
       "      <td>False</td>\n",
       "      <td>False</td>\n",
       "      <td>False</td>\n",
       "      <td>False</td>\n",
       "    </tr>\n",
       "    <tr>\n",
       "      <th>3</th>\n",
       "      <td>0</td>\n",
       "      <td>0</td>\n",
       "      <td>1</td>\n",
       "      <td>0</td>\n",
       "      <td>1</td>\n",
       "      <td>1</td>\n",
       "      <td>0</td>\n",
       "      <td>0</td>\n",
       "      <td>True</td>\n",
       "      <td>True</td>\n",
       "      <td>False</td>\n",
       "      <td>False</td>\n",
       "      <td>False</td>\n",
       "      <td>True</td>\n",
       "      <td>False</td>\n",
       "      <td>False</td>\n",
       "      <td>False</td>\n",
       "    </tr>\n",
       "    <tr>\n",
       "      <th>4</th>\n",
       "      <td>0</td>\n",
       "      <td>0</td>\n",
       "      <td>0</td>\n",
       "      <td>1</td>\n",
       "      <td>0</td>\n",
       "      <td>0</td>\n",
       "      <td>0</td>\n",
       "      <td>1</td>\n",
       "      <td>True</td>\n",
       "      <td>False</td>\n",
       "      <td>True</td>\n",
       "      <td>False</td>\n",
       "      <td>False</td>\n",
       "      <td>False</td>\n",
       "      <td>False</td>\n",
       "      <td>True</td>\n",
       "      <td>False</td>\n",
       "    </tr>\n",
       "  </tbody>\n",
       "</table>\n",
       "</div>"
      ],
      "text/plain": [
       "   skills_ SQL  skills_ Tableau  skills_DL  skills_Django  skills_ML  \\\n",
       "0            0                0          0              0          0   \n",
       "1            1                1          0              0          0   \n",
       "2            0                0          0              0          0   \n",
       "3            0                0          1              0          1   \n",
       "4            0                0          0              1          0   \n",
       "\n",
       "   skills_NLP  skills_Python  skills_React  dept_IT  job_data scientist  \\\n",
       "0           0              0             0    False               False   \n",
       "1           0              1             0     True               False   \n",
       "2           0              0             0    False               False   \n",
       "3           1              0             0     True                True   \n",
       "4           0              0             1     True               False   \n",
       "\n",
       "   job_frontend developer  job_manager  job_recruiter  salary_$170,000  \\\n",
       "0                   False         True          False            False   \n",
       "1                   False        False          False            False   \n",
       "2                   False        False           True            False   \n",
       "3                   False        False          False             True   \n",
       "4                    True        False          False            False   \n",
       "\n",
       "   salary_$180,000  salary_120000dolar  salary_150000dolar  \n",
       "0             True               False               False  \n",
       "1            False               False                True  \n",
       "2            False               False               False  \n",
       "3            False               False               False  \n",
       "4            False                True               False  "
      ]
     },
     "execution_count": 91,
     "metadata": {},
     "output_type": "execute_result"
    }
   ],
   "source": [
    "df_final"
   ]
  },
  {
   "cell_type": "markdown",
   "id": "899d6c15",
   "metadata": {},
   "source": [
    "# <font color='green'> <b>Import and Export DataFrame</b><font color='black'>"
   ]
  },
  {
   "cell_type": "code",
   "execution_count": 98,
   "id": "5f711a0d",
   "metadata": {
    "ExecuteTime": {
     "end_time": "2024-05-20T08:15:29.837149Z",
     "start_time": "2024-05-20T08:15:29.827823Z"
    }
   },
   "outputs": [
    {
     "data": {
      "text/html": [
       "<div>\n",
       "<style scoped>\n",
       "    .dataframe tbody tr th:only-of-type {\n",
       "        vertical-align: middle;\n",
       "    }\n",
       "\n",
       "    .dataframe tbody tr th {\n",
       "        vertical-align: top;\n",
       "    }\n",
       "\n",
       "    .dataframe thead th {\n",
       "        text-align: right;\n",
       "    }\n",
       "</style>\n",
       "<table border=\"1\" class=\"dataframe\">\n",
       "  <thead>\n",
       "    <tr style=\"text-align: right;\">\n",
       "      <th></th>\n",
       "      <th>skills_ SQL</th>\n",
       "      <th>skills_ Tableau</th>\n",
       "      <th>skills_DL</th>\n",
       "      <th>skills_Django</th>\n",
       "      <th>skills_ML</th>\n",
       "      <th>skills_NLP</th>\n",
       "      <th>skills_Python</th>\n",
       "      <th>skills_React</th>\n",
       "      <th>dept_IT</th>\n",
       "      <th>job_data scientist</th>\n",
       "      <th>job_frontend developer</th>\n",
       "      <th>job_manager</th>\n",
       "      <th>job_recruiter</th>\n",
       "      <th>salary_$170,000</th>\n",
       "      <th>salary_$180,000</th>\n",
       "      <th>salary_120000dolar</th>\n",
       "      <th>salary_150000dolar</th>\n",
       "    </tr>\n",
       "  </thead>\n",
       "  <tbody>\n",
       "    <tr>\n",
       "      <th>0</th>\n",
       "      <td>0</td>\n",
       "      <td>0</td>\n",
       "      <td>0</td>\n",
       "      <td>0</td>\n",
       "      <td>0</td>\n",
       "      <td>0</td>\n",
       "      <td>0</td>\n",
       "      <td>0</td>\n",
       "      <td>False</td>\n",
       "      <td>False</td>\n",
       "      <td>False</td>\n",
       "      <td>True</td>\n",
       "      <td>False</td>\n",
       "      <td>False</td>\n",
       "      <td>True</td>\n",
       "      <td>False</td>\n",
       "      <td>False</td>\n",
       "    </tr>\n",
       "    <tr>\n",
       "      <th>1</th>\n",
       "      <td>1</td>\n",
       "      <td>1</td>\n",
       "      <td>0</td>\n",
       "      <td>0</td>\n",
       "      <td>0</td>\n",
       "      <td>0</td>\n",
       "      <td>1</td>\n",
       "      <td>0</td>\n",
       "      <td>True</td>\n",
       "      <td>False</td>\n",
       "      <td>False</td>\n",
       "      <td>False</td>\n",
       "      <td>False</td>\n",
       "      <td>False</td>\n",
       "      <td>False</td>\n",
       "      <td>False</td>\n",
       "      <td>True</td>\n",
       "    </tr>\n",
       "    <tr>\n",
       "      <th>2</th>\n",
       "      <td>0</td>\n",
       "      <td>0</td>\n",
       "      <td>0</td>\n",
       "      <td>0</td>\n",
       "      <td>0</td>\n",
       "      <td>0</td>\n",
       "      <td>0</td>\n",
       "      <td>0</td>\n",
       "      <td>False</td>\n",
       "      <td>False</td>\n",
       "      <td>False</td>\n",
       "      <td>False</td>\n",
       "      <td>True</td>\n",
       "      <td>False</td>\n",
       "      <td>False</td>\n",
       "      <td>False</td>\n",
       "      <td>False</td>\n",
       "    </tr>\n",
       "    <tr>\n",
       "      <th>3</th>\n",
       "      <td>0</td>\n",
       "      <td>0</td>\n",
       "      <td>1</td>\n",
       "      <td>0</td>\n",
       "      <td>1</td>\n",
       "      <td>1</td>\n",
       "      <td>0</td>\n",
       "      <td>0</td>\n",
       "      <td>True</td>\n",
       "      <td>True</td>\n",
       "      <td>False</td>\n",
       "      <td>False</td>\n",
       "      <td>False</td>\n",
       "      <td>True</td>\n",
       "      <td>False</td>\n",
       "      <td>False</td>\n",
       "      <td>False</td>\n",
       "    </tr>\n",
       "    <tr>\n",
       "      <th>4</th>\n",
       "      <td>0</td>\n",
       "      <td>0</td>\n",
       "      <td>0</td>\n",
       "      <td>1</td>\n",
       "      <td>0</td>\n",
       "      <td>0</td>\n",
       "      <td>0</td>\n",
       "      <td>1</td>\n",
       "      <td>True</td>\n",
       "      <td>False</td>\n",
       "      <td>True</td>\n",
       "      <td>False</td>\n",
       "      <td>False</td>\n",
       "      <td>False</td>\n",
       "      <td>False</td>\n",
       "      <td>True</td>\n",
       "      <td>False</td>\n",
       "    </tr>\n",
       "  </tbody>\n",
       "</table>\n",
       "</div>"
      ],
      "text/plain": [
       "   skills_ SQL  skills_ Tableau  skills_DL  skills_Django  skills_ML  \\\n",
       "0            0                0          0              0          0   \n",
       "1            1                1          0              0          0   \n",
       "2            0                0          0              0          0   \n",
       "3            0                0          1              0          1   \n",
       "4            0                0          0              1          0   \n",
       "\n",
       "   skills_NLP  skills_Python  skills_React  dept_IT  job_data scientist  \\\n",
       "0           0              0             0    False               False   \n",
       "1           0              1             0     True               False   \n",
       "2           0              0             0    False               False   \n",
       "3           1              0             0     True                True   \n",
       "4           0              0             1     True               False   \n",
       "\n",
       "   job_frontend developer  job_manager  job_recruiter  salary_$170,000  \\\n",
       "0                   False         True          False            False   \n",
       "1                   False        False          False            False   \n",
       "2                   False        False           True            False   \n",
       "3                   False        False          False             True   \n",
       "4                    True        False          False            False   \n",
       "\n",
       "   salary_$180,000  salary_120000dolar  salary_150000dolar  \n",
       "0             True               False               False  \n",
       "1            False               False                True  \n",
       "2            False               False               False  \n",
       "3            False               False               False  \n",
       "4            False                True               False  "
      ]
     },
     "execution_count": 98,
     "metadata": {},
     "output_type": "execute_result"
    }
   ],
   "source": [
    "df_final"
   ]
  },
  {
   "cell_type": "code",
   "execution_count": 99,
   "id": "ff8e610b",
   "metadata": {
    "ExecuteTime": {
     "end_time": "2024-05-20T08:15:31.127996Z",
     "start_time": "2024-05-20T08:15:31.123786Z"
    }
   },
   "outputs": [],
   "source": [
    "df_final.to_csv(\"df_final_csv\")  # df_final dosyasini csv seklinde to_csv fonk ile kaydettik"
   ]
  },
  {
   "cell_type": "code",
   "execution_count": 100,
   "id": "adb8d343",
   "metadata": {
    "ExecuteTime": {
     "end_time": "2024-05-20T08:15:32.866072Z",
     "start_time": "2024-05-20T08:15:32.853969Z"
    }
   },
   "outputs": [
    {
     "data": {
      "text/html": [
       "<div>\n",
       "<style scoped>\n",
       "    .dataframe tbody tr th:only-of-type {\n",
       "        vertical-align: middle;\n",
       "    }\n",
       "\n",
       "    .dataframe tbody tr th {\n",
       "        vertical-align: top;\n",
       "    }\n",
       "\n",
       "    .dataframe thead th {\n",
       "        text-align: right;\n",
       "    }\n",
       "</style>\n",
       "<table border=\"1\" class=\"dataframe\">\n",
       "  <thead>\n",
       "    <tr style=\"text-align: right;\">\n",
       "      <th></th>\n",
       "      <th>Unnamed: 0</th>\n",
       "      <th>skills_ SQL</th>\n",
       "      <th>skills_ Tableau</th>\n",
       "      <th>skills_DL</th>\n",
       "      <th>skills_Django</th>\n",
       "      <th>skills_ML</th>\n",
       "      <th>skills_NLP</th>\n",
       "      <th>skills_Python</th>\n",
       "      <th>skills_React</th>\n",
       "      <th>dept_IT</th>\n",
       "      <th>job_data scientist</th>\n",
       "      <th>job_frontend developer</th>\n",
       "      <th>job_manager</th>\n",
       "      <th>job_recruiter</th>\n",
       "      <th>salary_$170,000</th>\n",
       "      <th>salary_$180,000</th>\n",
       "      <th>salary_120000dolar</th>\n",
       "      <th>salary_150000dolar</th>\n",
       "    </tr>\n",
       "  </thead>\n",
       "  <tbody>\n",
       "    <tr>\n",
       "      <th>0</th>\n",
       "      <td>0</td>\n",
       "      <td>0</td>\n",
       "      <td>0</td>\n",
       "      <td>0</td>\n",
       "      <td>0</td>\n",
       "      <td>0</td>\n",
       "      <td>0</td>\n",
       "      <td>0</td>\n",
       "      <td>0</td>\n",
       "      <td>False</td>\n",
       "      <td>False</td>\n",
       "      <td>False</td>\n",
       "      <td>True</td>\n",
       "      <td>False</td>\n",
       "      <td>False</td>\n",
       "      <td>True</td>\n",
       "      <td>False</td>\n",
       "      <td>False</td>\n",
       "    </tr>\n",
       "    <tr>\n",
       "      <th>1</th>\n",
       "      <td>1</td>\n",
       "      <td>1</td>\n",
       "      <td>1</td>\n",
       "      <td>0</td>\n",
       "      <td>0</td>\n",
       "      <td>0</td>\n",
       "      <td>0</td>\n",
       "      <td>1</td>\n",
       "      <td>0</td>\n",
       "      <td>True</td>\n",
       "      <td>False</td>\n",
       "      <td>False</td>\n",
       "      <td>False</td>\n",
       "      <td>False</td>\n",
       "      <td>False</td>\n",
       "      <td>False</td>\n",
       "      <td>False</td>\n",
       "      <td>True</td>\n",
       "    </tr>\n",
       "    <tr>\n",
       "      <th>2</th>\n",
       "      <td>2</td>\n",
       "      <td>0</td>\n",
       "      <td>0</td>\n",
       "      <td>0</td>\n",
       "      <td>0</td>\n",
       "      <td>0</td>\n",
       "      <td>0</td>\n",
       "      <td>0</td>\n",
       "      <td>0</td>\n",
       "      <td>False</td>\n",
       "      <td>False</td>\n",
       "      <td>False</td>\n",
       "      <td>False</td>\n",
       "      <td>True</td>\n",
       "      <td>False</td>\n",
       "      <td>False</td>\n",
       "      <td>False</td>\n",
       "      <td>False</td>\n",
       "    </tr>\n",
       "    <tr>\n",
       "      <th>3</th>\n",
       "      <td>3</td>\n",
       "      <td>0</td>\n",
       "      <td>0</td>\n",
       "      <td>1</td>\n",
       "      <td>0</td>\n",
       "      <td>1</td>\n",
       "      <td>1</td>\n",
       "      <td>0</td>\n",
       "      <td>0</td>\n",
       "      <td>True</td>\n",
       "      <td>True</td>\n",
       "      <td>False</td>\n",
       "      <td>False</td>\n",
       "      <td>False</td>\n",
       "      <td>True</td>\n",
       "      <td>False</td>\n",
       "      <td>False</td>\n",
       "      <td>False</td>\n",
       "    </tr>\n",
       "    <tr>\n",
       "      <th>4</th>\n",
       "      <td>4</td>\n",
       "      <td>0</td>\n",
       "      <td>0</td>\n",
       "      <td>0</td>\n",
       "      <td>1</td>\n",
       "      <td>0</td>\n",
       "      <td>0</td>\n",
       "      <td>0</td>\n",
       "      <td>1</td>\n",
       "      <td>True</td>\n",
       "      <td>False</td>\n",
       "      <td>True</td>\n",
       "      <td>False</td>\n",
       "      <td>False</td>\n",
       "      <td>False</td>\n",
       "      <td>False</td>\n",
       "      <td>True</td>\n",
       "      <td>False</td>\n",
       "    </tr>\n",
       "  </tbody>\n",
       "</table>\n",
       "</div>"
      ],
      "text/plain": [
       "   Unnamed: 0  skills_ SQL  skills_ Tableau  skills_DL  skills_Django  \\\n",
       "0           0            0                0          0              0   \n",
       "1           1            1                1          0              0   \n",
       "2           2            0                0          0              0   \n",
       "3           3            0                0          1              0   \n",
       "4           4            0                0          0              1   \n",
       "\n",
       "   skills_ML  skills_NLP  skills_Python  skills_React  dept_IT  \\\n",
       "0          0           0              0             0    False   \n",
       "1          0           0              1             0     True   \n",
       "2          0           0              0             0    False   \n",
       "3          1           1              0             0     True   \n",
       "4          0           0              0             1     True   \n",
       "\n",
       "   job_data scientist  job_frontend developer  job_manager  job_recruiter  \\\n",
       "0               False                   False         True          False   \n",
       "1               False                   False        False          False   \n",
       "2               False                   False        False           True   \n",
       "3                True                   False        False          False   \n",
       "4               False                    True        False          False   \n",
       "\n",
       "   salary_$170,000  salary_$180,000  salary_120000dolar  salary_150000dolar  \n",
       "0            False             True               False               False  \n",
       "1            False            False               False                True  \n",
       "2            False            False               False               False  \n",
       "3             True            False               False               False  \n",
       "4            False            False                True               False  "
      ]
     },
     "execution_count": 100,
     "metadata": {},
     "output_type": "execute_result"
    }
   ],
   "source": [
    "df_new = pd.read_csv(\"df_final_csv\")  # dosyayi import ettik read_csv fonk.kullandik\n",
    "df_new"
   ]
  },
  {
   "cell_type": "code",
   "execution_count": 101,
   "id": "783427f3",
   "metadata": {
    "ExecuteTime": {
     "end_time": "2024-05-20T08:16:38.574138Z",
     "start_time": "2024-05-20T08:16:38.566737Z"
    }
   },
   "outputs": [],
   "source": [
    "df_new = pd.read_csv(\"df_final_csv\" , index_col= 0)"
   ]
  },
  {
   "cell_type": "code",
   "execution_count": 102,
   "id": "2cc73e51",
   "metadata": {
    "ExecuteTime": {
     "end_time": "2024-05-20T08:16:43.531492Z",
     "start_time": "2024-05-20T08:16:43.520513Z"
    }
   },
   "outputs": [
    {
     "data": {
      "text/html": [
       "<div>\n",
       "<style scoped>\n",
       "    .dataframe tbody tr th:only-of-type {\n",
       "        vertical-align: middle;\n",
       "    }\n",
       "\n",
       "    .dataframe tbody tr th {\n",
       "        vertical-align: top;\n",
       "    }\n",
       "\n",
       "    .dataframe thead th {\n",
       "        text-align: right;\n",
       "    }\n",
       "</style>\n",
       "<table border=\"1\" class=\"dataframe\">\n",
       "  <thead>\n",
       "    <tr style=\"text-align: right;\">\n",
       "      <th></th>\n",
       "      <th>skills_ SQL</th>\n",
       "      <th>skills_ Tableau</th>\n",
       "      <th>skills_DL</th>\n",
       "      <th>skills_Django</th>\n",
       "      <th>skills_ML</th>\n",
       "      <th>skills_NLP</th>\n",
       "      <th>skills_Python</th>\n",
       "      <th>skills_React</th>\n",
       "      <th>dept_IT</th>\n",
       "      <th>job_data scientist</th>\n",
       "      <th>job_frontend developer</th>\n",
       "      <th>job_manager</th>\n",
       "      <th>job_recruiter</th>\n",
       "      <th>salary_$170,000</th>\n",
       "      <th>salary_$180,000</th>\n",
       "      <th>salary_120000dolar</th>\n",
       "      <th>salary_150000dolar</th>\n",
       "    </tr>\n",
       "  </thead>\n",
       "  <tbody>\n",
       "    <tr>\n",
       "      <th>0</th>\n",
       "      <td>0</td>\n",
       "      <td>0</td>\n",
       "      <td>0</td>\n",
       "      <td>0</td>\n",
       "      <td>0</td>\n",
       "      <td>0</td>\n",
       "      <td>0</td>\n",
       "      <td>0</td>\n",
       "      <td>False</td>\n",
       "      <td>False</td>\n",
       "      <td>False</td>\n",
       "      <td>True</td>\n",
       "      <td>False</td>\n",
       "      <td>False</td>\n",
       "      <td>True</td>\n",
       "      <td>False</td>\n",
       "      <td>False</td>\n",
       "    </tr>\n",
       "    <tr>\n",
       "      <th>1</th>\n",
       "      <td>1</td>\n",
       "      <td>1</td>\n",
       "      <td>0</td>\n",
       "      <td>0</td>\n",
       "      <td>0</td>\n",
       "      <td>0</td>\n",
       "      <td>1</td>\n",
       "      <td>0</td>\n",
       "      <td>True</td>\n",
       "      <td>False</td>\n",
       "      <td>False</td>\n",
       "      <td>False</td>\n",
       "      <td>False</td>\n",
       "      <td>False</td>\n",
       "      <td>False</td>\n",
       "      <td>False</td>\n",
       "      <td>True</td>\n",
       "    </tr>\n",
       "    <tr>\n",
       "      <th>2</th>\n",
       "      <td>0</td>\n",
       "      <td>0</td>\n",
       "      <td>0</td>\n",
       "      <td>0</td>\n",
       "      <td>0</td>\n",
       "      <td>0</td>\n",
       "      <td>0</td>\n",
       "      <td>0</td>\n",
       "      <td>False</td>\n",
       "      <td>False</td>\n",
       "      <td>False</td>\n",
       "      <td>False</td>\n",
       "      <td>True</td>\n",
       "      <td>False</td>\n",
       "      <td>False</td>\n",
       "      <td>False</td>\n",
       "      <td>False</td>\n",
       "    </tr>\n",
       "    <tr>\n",
       "      <th>3</th>\n",
       "      <td>0</td>\n",
       "      <td>0</td>\n",
       "      <td>1</td>\n",
       "      <td>0</td>\n",
       "      <td>1</td>\n",
       "      <td>1</td>\n",
       "      <td>0</td>\n",
       "      <td>0</td>\n",
       "      <td>True</td>\n",
       "      <td>True</td>\n",
       "      <td>False</td>\n",
       "      <td>False</td>\n",
       "      <td>False</td>\n",
       "      <td>True</td>\n",
       "      <td>False</td>\n",
       "      <td>False</td>\n",
       "      <td>False</td>\n",
       "    </tr>\n",
       "    <tr>\n",
       "      <th>4</th>\n",
       "      <td>0</td>\n",
       "      <td>0</td>\n",
       "      <td>0</td>\n",
       "      <td>1</td>\n",
       "      <td>0</td>\n",
       "      <td>0</td>\n",
       "      <td>0</td>\n",
       "      <td>1</td>\n",
       "      <td>True</td>\n",
       "      <td>False</td>\n",
       "      <td>True</td>\n",
       "      <td>False</td>\n",
       "      <td>False</td>\n",
       "      <td>False</td>\n",
       "      <td>False</td>\n",
       "      <td>True</td>\n",
       "      <td>False</td>\n",
       "    </tr>\n",
       "  </tbody>\n",
       "</table>\n",
       "</div>"
      ],
      "text/plain": [
       "   skills_ SQL  skills_ Tableau  skills_DL  skills_Django  skills_ML  \\\n",
       "0            0                0          0              0          0   \n",
       "1            1                1          0              0          0   \n",
       "2            0                0          0              0          0   \n",
       "3            0                0          1              0          1   \n",
       "4            0                0          0              1          0   \n",
       "\n",
       "   skills_NLP  skills_Python  skills_React  dept_IT  job_data scientist  \\\n",
       "0           0              0             0    False               False   \n",
       "1           0              1             0     True               False   \n",
       "2           0              0             0    False               False   \n",
       "3           1              0             0     True                True   \n",
       "4           0              0             1     True               False   \n",
       "\n",
       "   job_frontend developer  job_manager  job_recruiter  salary_$170,000  \\\n",
       "0                   False         True          False            False   \n",
       "1                   False        False          False            False   \n",
       "2                   False        False           True            False   \n",
       "3                   False        False          False             True   \n",
       "4                    True        False          False            False   \n",
       "\n",
       "   salary_$180,000  salary_120000dolar  salary_150000dolar  \n",
       "0             True               False               False  \n",
       "1            False               False                True  \n",
       "2            False               False               False  \n",
       "3            False               False               False  \n",
       "4            False                True               False  "
      ]
     },
     "execution_count": 102,
     "metadata": {},
     "output_type": "execute_result"
    }
   ],
   "source": [
    "df_new"
   ]
  },
  {
   "cell_type": "code",
   "execution_count": 104,
   "id": "11d5ee63",
   "metadata": {
    "ExecuteTime": {
     "end_time": "2024-05-20T08:17:48.838183Z",
     "start_time": "2024-05-20T08:17:48.561247Z"
    }
   },
   "outputs": [],
   "source": [
    "df_final.to_excel(\"df_final.xlsx\") # exell formatinda kaydedelim"
   ]
  },
  {
   "cell_type": "code",
   "execution_count": 105,
   "id": "5c93bf45",
   "metadata": {
    "ExecuteTime": {
     "end_time": "2024-05-20T08:17:55.638310Z",
     "start_time": "2024-05-20T08:17:55.627914Z"
    }
   },
   "outputs": [
    {
     "data": {
      "text/html": [
       "<div>\n",
       "<style scoped>\n",
       "    .dataframe tbody tr th:only-of-type {\n",
       "        vertical-align: middle;\n",
       "    }\n",
       "\n",
       "    .dataframe tbody tr th {\n",
       "        vertical-align: top;\n",
       "    }\n",
       "\n",
       "    .dataframe thead th {\n",
       "        text-align: right;\n",
       "    }\n",
       "</style>\n",
       "<table border=\"1\" class=\"dataframe\">\n",
       "  <thead>\n",
       "    <tr style=\"text-align: right;\">\n",
       "      <th></th>\n",
       "      <th>skills_ SQL</th>\n",
       "      <th>skills_ Tableau</th>\n",
       "      <th>skills_DL</th>\n",
       "      <th>skills_Django</th>\n",
       "      <th>skills_ML</th>\n",
       "      <th>skills_NLP</th>\n",
       "      <th>skills_Python</th>\n",
       "      <th>skills_React</th>\n",
       "      <th>dept_IT</th>\n",
       "      <th>job_data scientist</th>\n",
       "      <th>job_frontend developer</th>\n",
       "      <th>job_manager</th>\n",
       "      <th>job_recruiter</th>\n",
       "      <th>salary_$170,000</th>\n",
       "      <th>salary_$180,000</th>\n",
       "      <th>salary_120000dolar</th>\n",
       "      <th>salary_150000dolar</th>\n",
       "    </tr>\n",
       "  </thead>\n",
       "  <tbody>\n",
       "    <tr>\n",
       "      <th>0</th>\n",
       "      <td>0</td>\n",
       "      <td>0</td>\n",
       "      <td>0</td>\n",
       "      <td>0</td>\n",
       "      <td>0</td>\n",
       "      <td>0</td>\n",
       "      <td>0</td>\n",
       "      <td>0</td>\n",
       "      <td>False</td>\n",
       "      <td>False</td>\n",
       "      <td>False</td>\n",
       "      <td>True</td>\n",
       "      <td>False</td>\n",
       "      <td>False</td>\n",
       "      <td>True</td>\n",
       "      <td>False</td>\n",
       "      <td>False</td>\n",
       "    </tr>\n",
       "    <tr>\n",
       "      <th>1</th>\n",
       "      <td>1</td>\n",
       "      <td>1</td>\n",
       "      <td>0</td>\n",
       "      <td>0</td>\n",
       "      <td>0</td>\n",
       "      <td>0</td>\n",
       "      <td>1</td>\n",
       "      <td>0</td>\n",
       "      <td>True</td>\n",
       "      <td>False</td>\n",
       "      <td>False</td>\n",
       "      <td>False</td>\n",
       "      <td>False</td>\n",
       "      <td>False</td>\n",
       "      <td>False</td>\n",
       "      <td>False</td>\n",
       "      <td>True</td>\n",
       "    </tr>\n",
       "    <tr>\n",
       "      <th>2</th>\n",
       "      <td>0</td>\n",
       "      <td>0</td>\n",
       "      <td>0</td>\n",
       "      <td>0</td>\n",
       "      <td>0</td>\n",
       "      <td>0</td>\n",
       "      <td>0</td>\n",
       "      <td>0</td>\n",
       "      <td>False</td>\n",
       "      <td>False</td>\n",
       "      <td>False</td>\n",
       "      <td>False</td>\n",
       "      <td>True</td>\n",
       "      <td>False</td>\n",
       "      <td>False</td>\n",
       "      <td>False</td>\n",
       "      <td>False</td>\n",
       "    </tr>\n",
       "    <tr>\n",
       "      <th>3</th>\n",
       "      <td>0</td>\n",
       "      <td>0</td>\n",
       "      <td>1</td>\n",
       "      <td>0</td>\n",
       "      <td>1</td>\n",
       "      <td>1</td>\n",
       "      <td>0</td>\n",
       "      <td>0</td>\n",
       "      <td>True</td>\n",
       "      <td>True</td>\n",
       "      <td>False</td>\n",
       "      <td>False</td>\n",
       "      <td>False</td>\n",
       "      <td>True</td>\n",
       "      <td>False</td>\n",
       "      <td>False</td>\n",
       "      <td>False</td>\n",
       "    </tr>\n",
       "    <tr>\n",
       "      <th>4</th>\n",
       "      <td>0</td>\n",
       "      <td>0</td>\n",
       "      <td>0</td>\n",
       "      <td>1</td>\n",
       "      <td>0</td>\n",
       "      <td>0</td>\n",
       "      <td>0</td>\n",
       "      <td>1</td>\n",
       "      <td>True</td>\n",
       "      <td>False</td>\n",
       "      <td>True</td>\n",
       "      <td>False</td>\n",
       "      <td>False</td>\n",
       "      <td>False</td>\n",
       "      <td>False</td>\n",
       "      <td>True</td>\n",
       "      <td>False</td>\n",
       "    </tr>\n",
       "  </tbody>\n",
       "</table>\n",
       "</div>"
      ],
      "text/plain": [
       "   skills_ SQL  skills_ Tableau  skills_DL  skills_Django  skills_ML  \\\n",
       "0            0                0          0              0          0   \n",
       "1            1                1          0              0          0   \n",
       "2            0                0          0              0          0   \n",
       "3            0                0          1              0          1   \n",
       "4            0                0          0              1          0   \n",
       "\n",
       "   skills_NLP  skills_Python  skills_React  dept_IT  job_data scientist  \\\n",
       "0           0              0             0    False               False   \n",
       "1           0              1             0     True               False   \n",
       "2           0              0             0    False               False   \n",
       "3           1              0             0     True                True   \n",
       "4           0              0             1     True               False   \n",
       "\n",
       "   job_frontend developer  job_manager  job_recruiter  salary_$170,000  \\\n",
       "0                   False         True          False            False   \n",
       "1                   False        False          False            False   \n",
       "2                   False        False           True            False   \n",
       "3                   False        False          False             True   \n",
       "4                    True        False          False            False   \n",
       "\n",
       "   salary_$180,000  salary_120000dolar  salary_150000dolar  \n",
       "0             True               False               False  \n",
       "1            False               False                True  \n",
       "2            False               False               False  \n",
       "3            False               False               False  \n",
       "4            False                True               False  "
      ]
     },
     "execution_count": 105,
     "metadata": {},
     "output_type": "execute_result"
    }
   ],
   "source": [
    "df_final"
   ]
  },
  {
   "cell_type": "code",
   "execution_count": 106,
   "id": "11ef6a3c",
   "metadata": {
    "ExecuteTime": {
     "end_time": "2024-05-20T08:18:27.641421Z",
     "start_time": "2024-05-20T08:18:27.627995Z"
    }
   },
   "outputs": [],
   "source": [
    "df_final.to_excel(\"df_final.xlsx\")  # engine=\"openpyxl\""
   ]
  },
  {
   "cell_type": "code",
   "execution_count": 107,
   "id": "d4f5b7d5",
   "metadata": {
    "ExecuteTime": {
     "end_time": "2024-05-20T08:18:33.104397Z",
     "start_time": "2024-05-20T08:18:33.093722Z"
    }
   },
   "outputs": [
    {
     "data": {
      "text/html": [
       "<div>\n",
       "<style scoped>\n",
       "    .dataframe tbody tr th:only-of-type {\n",
       "        vertical-align: middle;\n",
       "    }\n",
       "\n",
       "    .dataframe tbody tr th {\n",
       "        vertical-align: top;\n",
       "    }\n",
       "\n",
       "    .dataframe thead th {\n",
       "        text-align: right;\n",
       "    }\n",
       "</style>\n",
       "<table border=\"1\" class=\"dataframe\">\n",
       "  <thead>\n",
       "    <tr style=\"text-align: right;\">\n",
       "      <th></th>\n",
       "      <th>skills_ SQL</th>\n",
       "      <th>skills_ Tableau</th>\n",
       "      <th>skills_DL</th>\n",
       "      <th>skills_Django</th>\n",
       "      <th>skills_ML</th>\n",
       "      <th>skills_NLP</th>\n",
       "      <th>skills_Python</th>\n",
       "      <th>skills_React</th>\n",
       "      <th>dept_IT</th>\n",
       "      <th>job_data scientist</th>\n",
       "      <th>job_frontend developer</th>\n",
       "      <th>job_manager</th>\n",
       "      <th>job_recruiter</th>\n",
       "      <th>salary_$170,000</th>\n",
       "      <th>salary_$180,000</th>\n",
       "      <th>salary_120000dolar</th>\n",
       "      <th>salary_150000dolar</th>\n",
       "    </tr>\n",
       "  </thead>\n",
       "  <tbody>\n",
       "    <tr>\n",
       "      <th>0</th>\n",
       "      <td>0</td>\n",
       "      <td>0</td>\n",
       "      <td>0</td>\n",
       "      <td>0</td>\n",
       "      <td>0</td>\n",
       "      <td>0</td>\n",
       "      <td>0</td>\n",
       "      <td>0</td>\n",
       "      <td>False</td>\n",
       "      <td>False</td>\n",
       "      <td>False</td>\n",
       "      <td>True</td>\n",
       "      <td>False</td>\n",
       "      <td>False</td>\n",
       "      <td>True</td>\n",
       "      <td>False</td>\n",
       "      <td>False</td>\n",
       "    </tr>\n",
       "    <tr>\n",
       "      <th>1</th>\n",
       "      <td>1</td>\n",
       "      <td>1</td>\n",
       "      <td>0</td>\n",
       "      <td>0</td>\n",
       "      <td>0</td>\n",
       "      <td>0</td>\n",
       "      <td>1</td>\n",
       "      <td>0</td>\n",
       "      <td>True</td>\n",
       "      <td>False</td>\n",
       "      <td>False</td>\n",
       "      <td>False</td>\n",
       "      <td>False</td>\n",
       "      <td>False</td>\n",
       "      <td>False</td>\n",
       "      <td>False</td>\n",
       "      <td>True</td>\n",
       "    </tr>\n",
       "    <tr>\n",
       "      <th>2</th>\n",
       "      <td>0</td>\n",
       "      <td>0</td>\n",
       "      <td>0</td>\n",
       "      <td>0</td>\n",
       "      <td>0</td>\n",
       "      <td>0</td>\n",
       "      <td>0</td>\n",
       "      <td>0</td>\n",
       "      <td>False</td>\n",
       "      <td>False</td>\n",
       "      <td>False</td>\n",
       "      <td>False</td>\n",
       "      <td>True</td>\n",
       "      <td>False</td>\n",
       "      <td>False</td>\n",
       "      <td>False</td>\n",
       "      <td>False</td>\n",
       "    </tr>\n",
       "    <tr>\n",
       "      <th>3</th>\n",
       "      <td>0</td>\n",
       "      <td>0</td>\n",
       "      <td>1</td>\n",
       "      <td>0</td>\n",
       "      <td>1</td>\n",
       "      <td>1</td>\n",
       "      <td>0</td>\n",
       "      <td>0</td>\n",
       "      <td>True</td>\n",
       "      <td>True</td>\n",
       "      <td>False</td>\n",
       "      <td>False</td>\n",
       "      <td>False</td>\n",
       "      <td>True</td>\n",
       "      <td>False</td>\n",
       "      <td>False</td>\n",
       "      <td>False</td>\n",
       "    </tr>\n",
       "    <tr>\n",
       "      <th>4</th>\n",
       "      <td>0</td>\n",
       "      <td>0</td>\n",
       "      <td>0</td>\n",
       "      <td>1</td>\n",
       "      <td>0</td>\n",
       "      <td>0</td>\n",
       "      <td>0</td>\n",
       "      <td>1</td>\n",
       "      <td>True</td>\n",
       "      <td>False</td>\n",
       "      <td>True</td>\n",
       "      <td>False</td>\n",
       "      <td>False</td>\n",
       "      <td>False</td>\n",
       "      <td>False</td>\n",
       "      <td>True</td>\n",
       "      <td>False</td>\n",
       "    </tr>\n",
       "  </tbody>\n",
       "</table>\n",
       "</div>"
      ],
      "text/plain": [
       "   skills_ SQL  skills_ Tableau  skills_DL  skills_Django  skills_ML  \\\n",
       "0            0                0          0              0          0   \n",
       "1            1                1          0              0          0   \n",
       "2            0                0          0              0          0   \n",
       "3            0                0          1              0          1   \n",
       "4            0                0          0              1          0   \n",
       "\n",
       "   skills_NLP  skills_Python  skills_React  dept_IT  job_data scientist  \\\n",
       "0           0              0             0    False               False   \n",
       "1           0              1             0     True               False   \n",
       "2           0              0             0    False               False   \n",
       "3           1              0             0     True                True   \n",
       "4           0              0             1     True               False   \n",
       "\n",
       "   job_frontend developer  job_manager  job_recruiter  salary_$170,000  \\\n",
       "0                   False         True          False            False   \n",
       "1                   False        False          False            False   \n",
       "2                   False        False           True            False   \n",
       "3                   False        False          False             True   \n",
       "4                    True        False          False            False   \n",
       "\n",
       "   salary_$180,000  salary_120000dolar  salary_150000dolar  \n",
       "0             True               False               False  \n",
       "1            False               False                True  \n",
       "2            False               False               False  \n",
       "3            False               False               False  \n",
       "4            False                True               False  "
      ]
     },
     "execution_count": 107,
     "metadata": {},
     "output_type": "execute_result"
    }
   ],
   "source": [
    "df_final"
   ]
  },
  {
   "cell_type": "markdown",
   "id": "07a03092",
   "metadata": {},
   "source": [
    "## Bir internet Sitesindeki Tabloyu Nasil Cekebiliriz"
   ]
  },
  {
   "cell_type": "code",
   "execution_count": 108,
   "id": "8306cabe",
   "metadata": {
    "ExecuteTime": {
     "end_time": "2024-05-20T08:18:45.548499Z",
     "start_time": "2024-05-20T08:18:44.756225Z"
    }
   },
   "outputs": [],
   "source": [
    "df_html = pd.read_html(\"https://en.wikipedia.org/wiki/List_of_countries_by_population_(United_Nations)\")"
   ]
  },
  {
   "cell_type": "code",
   "execution_count": 109,
   "id": "6e8acf16",
   "metadata": {
    "ExecuteTime": {
     "end_time": "2024-05-20T08:18:50.390781Z",
     "start_time": "2024-05-20T08:18:50.382576Z"
    }
   },
   "outputs": [
    {
     "data": {
      "text/plain": [
       "[                              Location  Population (1 July 2022)  \\\n",
       " 0                                World                7975105156   \n",
       " 1                                India                1417173173   \n",
       " 2                             China[a]                1425887337   \n",
       " 3                        United States                 338289857   \n",
       " 4                            Indonesia                 275501339   \n",
       " ..                                 ...                       ...   \n",
       " 234  Falkland Islands (United Kingdom)                      3780   \n",
       " 235                               Niue                      1934   \n",
       " 236              Tokelau (New Zealand)                      1871   \n",
       " 237                    Vatican City[x]                       510   \n",
       " 238  Pitcairn Islands (United Kingdom)                        55   \n",
       " \n",
       "      Population (1 July 2023)     Change UN Continental Region[1]  \\\n",
       " 0                  8045311448     +0.88%                      NaN   \n",
       " 1                  1428627663     +0.81%                     Asia   \n",
       " 2                  1425671352     −0.02%                     Asia   \n",
       " 3                   339996564     +0.50%                 Americas   \n",
       " 4                   277534123     +0.74%                     Asia   \n",
       " ..                        ...        ...                      ...   \n",
       " 234                      3791     +0.29%                 Americas   \n",
       " 235                      1935     +0.05%                  Oceania   \n",
       " 236                      1893     +1.18%                  Oceania   \n",
       " 237                       518        NaN                   Europe   \n",
       " 238                        45  -18.1818%                  Oceania   \n",
       " \n",
       "     UN Statistical Subregion[1]  \n",
       " 0                           NaN  \n",
       " 1                 Southern Asia  \n",
       " 2                  Eastern Asia  \n",
       " 3              Northern America  \n",
       " 4            South-eastern Asia  \n",
       " ..                          ...  \n",
       " 234               South America  \n",
       " 235                   Polynesia  \n",
       " 236                   Polynesia  \n",
       " 237             Southern Europe  \n",
       " 238                   Polynesia  \n",
       " \n",
       " [239 rows x 6 columns],\n",
       "    .mw-parser-output .navbar{display:inline;font-size:88%;font-weight:normal}.mw-parser-output .navbar-collapse{float:left;text-align:left}.mw-parser-output .navbar-boxtext{word-spacing:0}.mw-parser-output .navbar ul{display:inline-block;white-space:nowrap;line-height:inherit}.mw-parser-output .navbar-brackets::before{margin-right:-0.125em;content:\"[ \"}.mw-parser-output .navbar-brackets::after{margin-left:-0.125em;content:\" ]\"}.mw-parser-output .navbar li{word-spacing:-0.125em}.mw-parser-output .navbar a>span,.mw-parser-output .navbar a>abbr{text-decoration:inherit}.mw-parser-output .navbar-mini abbr{font-variant:small-caps;border-bottom:none;text-decoration:none;cursor:inherit}.mw-parser-output .navbar-ct-full{font-size:114%;margin:0 7em}.mw-parser-output .navbar-ct-mini{font-size:114%;margin:0 4em}vteLists of countries by population statistics  \\\n",
       " 0                                              Global                                                                                                                                                                                                                                                                                                                                                                                                                                                                                                                                                                                                                                                                                                                                                                                                                                       \n",
       " 1                               Continents/subregions                                                                                                                                                                                                                                                                                                                                                                                                                                                                                                                                                                                                                                                                                                                                                                                                                                       \n",
       " 2                                    Intercontinental                                                                                                                                                                                                                                                                                                                                                                                                                                                                                                                                                                                                                                                                                                                                                                                                                                       \n",
       " 3                                  Cities/urban areas                                                                                                                                                                                                                                                                                                                                                                                                                                                                                                                                                                                                                                                                                                                                                                                                                                       \n",
       " 4                                     Past and future                                                                                                                                                                                                                                                                                                                                                                                                                                                                                                                                                                                                                                                                                                                                                                                                                                       \n",
       " 5                                  Population density                                                                                                                                                                                                                                                                                                                                                                                                                                                                                                                                                                                                                                                                                                                                                                                                                                       \n",
       " 6                                   Growth indicators                                                                                                                                                                                                                                                                                                                                                                                                                                                                                                                                                                                                                                                                                                                                                                                                                                       \n",
       " 7                                     Life expectancy                                                                                                                                                                                                                                                                                                                                                                                                                                                                                                                                                                                                                                                                                                                                                                                                                                       \n",
       " 8                                  Other demographics                                                                                                                                                                                                                                                                                                                                                                                                                                                                                                                                                                                                                                                                                                                                                                                                                                       \n",
       " 9                                              Health                                                                                                                                                                                                                                                                                                                                                                                                                                                                                                                                                                                                                                                                                                                                                                                                                                       \n",
       " 10                           Education and innovation                                                                                                                                                                                                                                                                                                                                                                                                                                                                                                                                                                                                                                                                                                                                                                                                                                       \n",
       " 11                                           Economic                                                                                                                                                                                                                                                                                                                                                                                                                                                                                                                                                                                                                                                                                                                                                                                                                                       \n",
       " 12    List of international rankings Lists by country                                                                                                                                                                                                                                                                                                                                                                                                                                                                                                                                                                                                                                                                                                                                                                                                                                       \n",
       " \n",
       "    .mw-parser-output .navbar{display:inline;font-size:88%;font-weight:normal}.mw-parser-output .navbar-collapse{float:left;text-align:left}.mw-parser-output .navbar-boxtext{word-spacing:0}.mw-parser-output .navbar ul{display:inline-block;white-space:nowrap;line-height:inherit}.mw-parser-output .navbar-brackets::before{margin-right:-0.125em;content:\"[ \"}.mw-parser-output .navbar-brackets::after{margin-left:-0.125em;content:\" ]\"}.mw-parser-output .navbar li{word-spacing:-0.125em}.mw-parser-output .navbar a>span,.mw-parser-output .navbar a>abbr{text-decoration:inherit}.mw-parser-output .navbar-mini abbr{font-variant:small-caps;border-bottom:none;text-decoration:none;cursor:inherit}.mw-parser-output .navbar-ct-full{font-size:114%;margin:0 7em}.mw-parser-output .navbar-ct-mini{font-size:114%;margin:0 4em}vteLists of countries by population statistics.1  \n",
       " 0   Current population United Nations Demographics...                                                                                                                                                                                                                                                                                                                                                                                                                                                                                                                                                                                                                                                                                                                                                                                                                                        \n",
       " 1   Africa Antarctica Asia Europe North America Ca...                                                                                                                                                                                                                                                                                                                                                                                                                                                                                                                                                                                                                                                                                                                                                                                                                                        \n",
       " 2   Americas Arab world Commonwealth of Nations Eu...                                                                                                                                                                                                                                                                                                                                                                                                                                                                                                                                                                                                                                                                                                                                                                                                                                        \n",
       " 3   World cities National capitals Megacities Mega...                                                                                                                                                                                                                                                                                                                                                                                                                                                                                                                                                                                                                                                                                                                                                                                                                                        \n",
       " 4   Past and future population World population es...                                                                                                                                                                                                                                                                                                                                                                                                                                                                                                                                                                                                                                                                                                                                                                                                                                        \n",
       " 5   Current density Past and future population den...                                                                                                                                                                                                                                                                                                                                                                                                                                                                                                                                                                                                                                                                                                                                                                                                                                        \n",
       " 6   Population growth rate Natural increase Net re...                                                                                                                                                                                                                                                                                                                                                                                                                                                                                                                                                                                                                                                                                                                                                                                                                                        \n",
       " 7   world Africa Asia Europe North America Oceania...                                                                                                                                                                                                                                                                                                                                                                                                                                                                                                                                                                                                                                                                                                                                                                                                                                        \n",
       " 8   Age at childbearing Age at first marriage Age ...                                                                                                                                                                                                                                                                                                                                                                                                                                                                                                                                                                                                                                                                                                                                                                                                                                        \n",
       " 9   Antidepressant consumption Antiviral medicatio...                                                                                                                                                                                                                                                                                                                                                                                                                                                                                                                                                                                                                                                                                                                                                                                                                                        \n",
       " 10  Bloomberg Innovation Index Education Index Glo...                                                                                                                                                                                                                                                                                                                                                                                                                                                                                                                                                                                                                                                                                                                                                                                                                                        \n",
       " 11  Access to financial services Development aid d...                                                                                                                                                                                                                                                                                                                                                                                                                                                                                                                                                                                                                                                                                                                                                                                                                                        \n",
       " 12    List of international rankings Lists by country                                                                                                                                                                                                                                                                                                                                                                                                                                                                                                                                                                                                                                                                                                                                                                                                                                        ]"
      ]
     },
     "execution_count": 109,
     "metadata": {},
     "output_type": "execute_result"
    }
   ],
   "source": [
    "df_html  # df_html fonk. ile hangi siteden tablo almak istiyorsak bu fonk.kullanilir.\n",
    "        # df-html kullandik ancak istedigimz sekilde gelmedi"
   ]
  },
  {
   "cell_type": "code",
   "execution_count": 115,
   "id": "6d91640c",
   "metadata": {
    "ExecuteTime": {
     "end_time": "2024-05-20T08:25:22.619045Z",
     "start_time": "2024-05-20T08:25:21.882118Z"
    }
   },
   "outputs": [],
   "source": [
    "tables = pd.read_html(\"https://en.wikipedia.org/wiki/List_of_countries_by_population_(United_Nations)\")"
   ]
  },
  {
   "cell_type": "code",
   "execution_count": 116,
   "id": "52bc402d",
   "metadata": {
    "ExecuteTime": {
     "end_time": "2024-05-20T08:25:23.480742Z",
     "start_time": "2024-05-20T08:25:23.473089Z"
    }
   },
   "outputs": [
    {
     "data": {
      "text/plain": [
       "[                              Location  Population (1 July 2022)  \\\n",
       " 0                                World                7975105156   \n",
       " 1                                India                1417173173   \n",
       " 2                             China[a]                1425887337   \n",
       " 3                        United States                 338289857   \n",
       " 4                            Indonesia                 275501339   \n",
       " ..                                 ...                       ...   \n",
       " 234  Falkland Islands (United Kingdom)                      3780   \n",
       " 235                               Niue                      1934   \n",
       " 236              Tokelau (New Zealand)                      1871   \n",
       " 237                    Vatican City[x]                       510   \n",
       " 238  Pitcairn Islands (United Kingdom)                        55   \n",
       " \n",
       "      Population (1 July 2023)     Change UN Continental Region[1]  \\\n",
       " 0                  8045311448     +0.88%                      NaN   \n",
       " 1                  1428627663     +0.81%                     Asia   \n",
       " 2                  1425671352     −0.02%                     Asia   \n",
       " 3                   339996564     +0.50%                 Americas   \n",
       " 4                   277534123     +0.74%                     Asia   \n",
       " ..                        ...        ...                      ...   \n",
       " 234                      3791     +0.29%                 Americas   \n",
       " 235                      1935     +0.05%                  Oceania   \n",
       " 236                      1893     +1.18%                  Oceania   \n",
       " 237                       518        NaN                   Europe   \n",
       " 238                        45  -18.1818%                  Oceania   \n",
       " \n",
       "     UN Statistical Subregion[1]  \n",
       " 0                           NaN  \n",
       " 1                 Southern Asia  \n",
       " 2                  Eastern Asia  \n",
       " 3              Northern America  \n",
       " 4            South-eastern Asia  \n",
       " ..                          ...  \n",
       " 234               South America  \n",
       " 235                   Polynesia  \n",
       " 236                   Polynesia  \n",
       " 237             Southern Europe  \n",
       " 238                   Polynesia  \n",
       " \n",
       " [239 rows x 6 columns],\n",
       "    .mw-parser-output .navbar{display:inline;font-size:88%;font-weight:normal}.mw-parser-output .navbar-collapse{float:left;text-align:left}.mw-parser-output .navbar-boxtext{word-spacing:0}.mw-parser-output .navbar ul{display:inline-block;white-space:nowrap;line-height:inherit}.mw-parser-output .navbar-brackets::before{margin-right:-0.125em;content:\"[ \"}.mw-parser-output .navbar-brackets::after{margin-left:-0.125em;content:\" ]\"}.mw-parser-output .navbar li{word-spacing:-0.125em}.mw-parser-output .navbar a>span,.mw-parser-output .navbar a>abbr{text-decoration:inherit}.mw-parser-output .navbar-mini abbr{font-variant:small-caps;border-bottom:none;text-decoration:none;cursor:inherit}.mw-parser-output .navbar-ct-full{font-size:114%;margin:0 7em}.mw-parser-output .navbar-ct-mini{font-size:114%;margin:0 4em}vteLists of countries by population statistics  \\\n",
       " 0                                              Global                                                                                                                                                                                                                                                                                                                                                                                                                                                                                                                                                                                                                                                                                                                                                                                                                                       \n",
       " 1                               Continents/subregions                                                                                                                                                                                                                                                                                                                                                                                                                                                                                                                                                                                                                                                                                                                                                                                                                                       \n",
       " 2                                    Intercontinental                                                                                                                                                                                                                                                                                                                                                                                                                                                                                                                                                                                                                                                                                                                                                                                                                                       \n",
       " 3                                  Cities/urban areas                                                                                                                                                                                                                                                                                                                                                                                                                                                                                                                                                                                                                                                                                                                                                                                                                                       \n",
       " 4                                     Past and future                                                                                                                                                                                                                                                                                                                                                                                                                                                                                                                                                                                                                                                                                                                                                                                                                                       \n",
       " 5                                  Population density                                                                                                                                                                                                                                                                                                                                                                                                                                                                                                                                                                                                                                                                                                                                                                                                                                       \n",
       " 6                                   Growth indicators                                                                                                                                                                                                                                                                                                                                                                                                                                                                                                                                                                                                                                                                                                                                                                                                                                       \n",
       " 7                                     Life expectancy                                                                                                                                                                                                                                                                                                                                                                                                                                                                                                                                                                                                                                                                                                                                                                                                                                       \n",
       " 8                                  Other demographics                                                                                                                                                                                                                                                                                                                                                                                                                                                                                                                                                                                                                                                                                                                                                                                                                                       \n",
       " 9                                              Health                                                                                                                                                                                                                                                                                                                                                                                                                                                                                                                                                                                                                                                                                                                                                                                                                                       \n",
       " 10                           Education and innovation                                                                                                                                                                                                                                                                                                                                                                                                                                                                                                                                                                                                                                                                                                                                                                                                                                       \n",
       " 11                                           Economic                                                                                                                                                                                                                                                                                                                                                                                                                                                                                                                                                                                                                                                                                                                                                                                                                                       \n",
       " 12    List of international rankings Lists by country                                                                                                                                                                                                                                                                                                                                                                                                                                                                                                                                                                                                                                                                                                                                                                                                                                       \n",
       " \n",
       "    .mw-parser-output .navbar{display:inline;font-size:88%;font-weight:normal}.mw-parser-output .navbar-collapse{float:left;text-align:left}.mw-parser-output .navbar-boxtext{word-spacing:0}.mw-parser-output .navbar ul{display:inline-block;white-space:nowrap;line-height:inherit}.mw-parser-output .navbar-brackets::before{margin-right:-0.125em;content:\"[ \"}.mw-parser-output .navbar-brackets::after{margin-left:-0.125em;content:\" ]\"}.mw-parser-output .navbar li{word-spacing:-0.125em}.mw-parser-output .navbar a>span,.mw-parser-output .navbar a>abbr{text-decoration:inherit}.mw-parser-output .navbar-mini abbr{font-variant:small-caps;border-bottom:none;text-decoration:none;cursor:inherit}.mw-parser-output .navbar-ct-full{font-size:114%;margin:0 7em}.mw-parser-output .navbar-ct-mini{font-size:114%;margin:0 4em}vteLists of countries by population statistics.1  \n",
       " 0   Current population United Nations Demographics...                                                                                                                                                                                                                                                                                                                                                                                                                                                                                                                                                                                                                                                                                                                                                                                                                                        \n",
       " 1   Africa Antarctica Asia Europe North America Ca...                                                                                                                                                                                                                                                                                                                                                                                                                                                                                                                                                                                                                                                                                                                                                                                                                                        \n",
       " 2   Americas Arab world Commonwealth of Nations Eu...                                                                                                                                                                                                                                                                                                                                                                                                                                                                                                                                                                                                                                                                                                                                                                                                                                        \n",
       " 3   World cities National capitals Megacities Mega...                                                                                                                                                                                                                                                                                                                                                                                                                                                                                                                                                                                                                                                                                                                                                                                                                                        \n",
       " 4   Past and future population World population es...                                                                                                                                                                                                                                                                                                                                                                                                                                                                                                                                                                                                                                                                                                                                                                                                                                        \n",
       " 5   Current density Past and future population den...                                                                                                                                                                                                                                                                                                                                                                                                                                                                                                                                                                                                                                                                                                                                                                                                                                        \n",
       " 6   Population growth rate Natural increase Net re...                                                                                                                                                                                                                                                                                                                                                                                                                                                                                                                                                                                                                                                                                                                                                                                                                                        \n",
       " 7   world Africa Asia Europe North America Oceania...                                                                                                                                                                                                                                                                                                                                                                                                                                                                                                                                                                                                                                                                                                                                                                                                                                        \n",
       " 8   Age at childbearing Age at first marriage Age ...                                                                                                                                                                                                                                                                                                                                                                                                                                                                                                                                                                                                                                                                                                                                                                                                                                        \n",
       " 9   Antidepressant consumption Antiviral medicatio...                                                                                                                                                                                                                                                                                                                                                                                                                                                                                                                                                                                                                                                                                                                                                                                                                                        \n",
       " 10  Bloomberg Innovation Index Education Index Glo...                                                                                                                                                                                                                                                                                                                                                                                                                                                                                                                                                                                                                                                                                                                                                                                                                                        \n",
       " 11  Access to financial services Development aid d...                                                                                                                                                                                                                                                                                                                                                                                                                                                                                                                                                                                                                                                                                                                                                                                                                                        \n",
       " 12    List of international rankings Lists by country                                                                                                                                                                                                                                                                                                                                                                                                                                                                                                                                                                                                                                                                                                                                                                                                                                        ]"
      ]
     },
     "execution_count": 116,
     "metadata": {},
     "output_type": "execute_result"
    }
   ],
   "source": [
    "tables"
   ]
  },
  {
   "cell_type": "code",
   "execution_count": 117,
   "id": "cbe490e6",
   "metadata": {
    "ExecuteTime": {
     "end_time": "2024-05-20T08:25:37.506221Z",
     "start_time": "2024-05-20T08:25:37.503649Z"
    }
   },
   "outputs": [],
   "source": [
    "country_population_df = tables[0]"
   ]
  },
  {
   "cell_type": "code",
   "execution_count": 118,
   "id": "be16bee1",
   "metadata": {
    "ExecuteTime": {
     "end_time": "2024-05-20T08:25:40.298652Z",
     "start_time": "2024-05-20T08:25:40.289913Z"
    }
   },
   "outputs": [
    {
     "data": {
      "text/html": [
       "<div>\n",
       "<style scoped>\n",
       "    .dataframe tbody tr th:only-of-type {\n",
       "        vertical-align: middle;\n",
       "    }\n",
       "\n",
       "    .dataframe tbody tr th {\n",
       "        vertical-align: top;\n",
       "    }\n",
       "\n",
       "    .dataframe thead th {\n",
       "        text-align: right;\n",
       "    }\n",
       "</style>\n",
       "<table border=\"1\" class=\"dataframe\">\n",
       "  <thead>\n",
       "    <tr style=\"text-align: right;\">\n",
       "      <th></th>\n",
       "      <th>Location</th>\n",
       "      <th>Population (1 July 2022)</th>\n",
       "      <th>Population (1 July 2023)</th>\n",
       "      <th>Change</th>\n",
       "      <th>UN Continental Region[1]</th>\n",
       "      <th>UN Statistical Subregion[1]</th>\n",
       "    </tr>\n",
       "  </thead>\n",
       "  <tbody>\n",
       "    <tr>\n",
       "      <th>0</th>\n",
       "      <td>World</td>\n",
       "      <td>7975105156</td>\n",
       "      <td>8045311448</td>\n",
       "      <td>+0.88%</td>\n",
       "      <td>NaN</td>\n",
       "      <td>NaN</td>\n",
       "    </tr>\n",
       "    <tr>\n",
       "      <th>1</th>\n",
       "      <td>India</td>\n",
       "      <td>1417173173</td>\n",
       "      <td>1428627663</td>\n",
       "      <td>+0.81%</td>\n",
       "      <td>Asia</td>\n",
       "      <td>Southern Asia</td>\n",
       "    </tr>\n",
       "    <tr>\n",
       "      <th>2</th>\n",
       "      <td>China[a]</td>\n",
       "      <td>1425887337</td>\n",
       "      <td>1425671352</td>\n",
       "      <td>−0.02%</td>\n",
       "      <td>Asia</td>\n",
       "      <td>Eastern Asia</td>\n",
       "    </tr>\n",
       "    <tr>\n",
       "      <th>3</th>\n",
       "      <td>United States</td>\n",
       "      <td>338289857</td>\n",
       "      <td>339996564</td>\n",
       "      <td>+0.50%</td>\n",
       "      <td>Americas</td>\n",
       "      <td>Northern America</td>\n",
       "    </tr>\n",
       "    <tr>\n",
       "      <th>4</th>\n",
       "      <td>Indonesia</td>\n",
       "      <td>275501339</td>\n",
       "      <td>277534123</td>\n",
       "      <td>+0.74%</td>\n",
       "      <td>Asia</td>\n",
       "      <td>South-eastern Asia</td>\n",
       "    </tr>\n",
       "    <tr>\n",
       "      <th>...</th>\n",
       "      <td>...</td>\n",
       "      <td>...</td>\n",
       "      <td>...</td>\n",
       "      <td>...</td>\n",
       "      <td>...</td>\n",
       "      <td>...</td>\n",
       "    </tr>\n",
       "    <tr>\n",
       "      <th>234</th>\n",
       "      <td>Falkland Islands (United Kingdom)</td>\n",
       "      <td>3780</td>\n",
       "      <td>3791</td>\n",
       "      <td>+0.29%</td>\n",
       "      <td>Americas</td>\n",
       "      <td>South America</td>\n",
       "    </tr>\n",
       "    <tr>\n",
       "      <th>235</th>\n",
       "      <td>Niue</td>\n",
       "      <td>1934</td>\n",
       "      <td>1935</td>\n",
       "      <td>+0.05%</td>\n",
       "      <td>Oceania</td>\n",
       "      <td>Polynesia</td>\n",
       "    </tr>\n",
       "    <tr>\n",
       "      <th>236</th>\n",
       "      <td>Tokelau (New Zealand)</td>\n",
       "      <td>1871</td>\n",
       "      <td>1893</td>\n",
       "      <td>+1.18%</td>\n",
       "      <td>Oceania</td>\n",
       "      <td>Polynesia</td>\n",
       "    </tr>\n",
       "    <tr>\n",
       "      <th>237</th>\n",
       "      <td>Vatican City[x]</td>\n",
       "      <td>510</td>\n",
       "      <td>518</td>\n",
       "      <td>NaN</td>\n",
       "      <td>Europe</td>\n",
       "      <td>Southern Europe</td>\n",
       "    </tr>\n",
       "    <tr>\n",
       "      <th>238</th>\n",
       "      <td>Pitcairn Islands (United Kingdom)</td>\n",
       "      <td>55</td>\n",
       "      <td>45</td>\n",
       "      <td>-18.1818%</td>\n",
       "      <td>Oceania</td>\n",
       "      <td>Polynesia</td>\n",
       "    </tr>\n",
       "  </tbody>\n",
       "</table>\n",
       "<p>239 rows × 6 columns</p>\n",
       "</div>"
      ],
      "text/plain": [
       "                              Location  Population (1 July 2022)  \\\n",
       "0                                World                7975105156   \n",
       "1                                India                1417173173   \n",
       "2                             China[a]                1425887337   \n",
       "3                        United States                 338289857   \n",
       "4                            Indonesia                 275501339   \n",
       "..                                 ...                       ...   \n",
       "234  Falkland Islands (United Kingdom)                      3780   \n",
       "235                               Niue                      1934   \n",
       "236              Tokelau (New Zealand)                      1871   \n",
       "237                    Vatican City[x]                       510   \n",
       "238  Pitcairn Islands (United Kingdom)                        55   \n",
       "\n",
       "     Population (1 July 2023)     Change UN Continental Region[1]  \\\n",
       "0                  8045311448     +0.88%                      NaN   \n",
       "1                  1428627663     +0.81%                     Asia   \n",
       "2                  1425671352     −0.02%                     Asia   \n",
       "3                   339996564     +0.50%                 Americas   \n",
       "4                   277534123     +0.74%                     Asia   \n",
       "..                        ...        ...                      ...   \n",
       "234                      3791     +0.29%                 Americas   \n",
       "235                      1935     +0.05%                  Oceania   \n",
       "236                      1893     +1.18%                  Oceania   \n",
       "237                       518        NaN                   Europe   \n",
       "238                        45  -18.1818%                  Oceania   \n",
       "\n",
       "    UN Statistical Subregion[1]  \n",
       "0                           NaN  \n",
       "1                 Southern Asia  \n",
       "2                  Eastern Asia  \n",
       "3              Northern America  \n",
       "4            South-eastern Asia  \n",
       "..                          ...  \n",
       "234               South America  \n",
       "235                   Polynesia  \n",
       "236                   Polynesia  \n",
       "237             Southern Europe  \n",
       "238                   Polynesia  \n",
       "\n",
       "[239 rows x 6 columns]"
      ]
     },
     "execution_count": 118,
     "metadata": {},
     "output_type": "execute_result"
    }
   ],
   "source": [
    "country_population_df"
   ]
  },
  {
   "cell_type": "code",
   "execution_count": 119,
   "id": "7ad067e4",
   "metadata": {
    "ExecuteTime": {
     "end_time": "2024-05-20T08:25:52.192497Z",
     "start_time": "2024-05-20T08:25:52.183772Z"
    }
   },
   "outputs": [
    {
     "data": {
      "text/html": [
       "<div>\n",
       "<style scoped>\n",
       "    .dataframe tbody tr th:only-of-type {\n",
       "        vertical-align: middle;\n",
       "    }\n",
       "\n",
       "    .dataframe tbody tr th {\n",
       "        vertical-align: top;\n",
       "    }\n",
       "\n",
       "    .dataframe thead th {\n",
       "        text-align: right;\n",
       "    }\n",
       "</style>\n",
       "<table border=\"1\" class=\"dataframe\">\n",
       "  <thead>\n",
       "    <tr style=\"text-align: right;\">\n",
       "      <th></th>\n",
       "      <th>Location</th>\n",
       "      <th>Population (1 July 2022)</th>\n",
       "      <th>Population (1 July 2023)</th>\n",
       "      <th>Change</th>\n",
       "      <th>UN Continental Region[1]</th>\n",
       "      <th>UN Statistical Subregion[1]</th>\n",
       "    </tr>\n",
       "  </thead>\n",
       "  <tbody>\n",
       "    <tr>\n",
       "      <th>0</th>\n",
       "      <td>World</td>\n",
       "      <td>7975105156</td>\n",
       "      <td>8045311448</td>\n",
       "      <td>+0.88%</td>\n",
       "      <td>NaN</td>\n",
       "      <td>NaN</td>\n",
       "    </tr>\n",
       "    <tr>\n",
       "      <th>1</th>\n",
       "      <td>India</td>\n",
       "      <td>1417173173</td>\n",
       "      <td>1428627663</td>\n",
       "      <td>+0.81%</td>\n",
       "      <td>Asia</td>\n",
       "      <td>Southern Asia</td>\n",
       "    </tr>\n",
       "    <tr>\n",
       "      <th>2</th>\n",
       "      <td>China[a]</td>\n",
       "      <td>1425887337</td>\n",
       "      <td>1425671352</td>\n",
       "      <td>−0.02%</td>\n",
       "      <td>Asia</td>\n",
       "      <td>Eastern Asia</td>\n",
       "    </tr>\n",
       "    <tr>\n",
       "      <th>3</th>\n",
       "      <td>United States</td>\n",
       "      <td>338289857</td>\n",
       "      <td>339996564</td>\n",
       "      <td>+0.50%</td>\n",
       "      <td>Americas</td>\n",
       "      <td>Northern America</td>\n",
       "    </tr>\n",
       "    <tr>\n",
       "      <th>4</th>\n",
       "      <td>Indonesia</td>\n",
       "      <td>275501339</td>\n",
       "      <td>277534123</td>\n",
       "      <td>+0.74%</td>\n",
       "      <td>Asia</td>\n",
       "      <td>South-eastern Asia</td>\n",
       "    </tr>\n",
       "    <tr>\n",
       "      <th>...</th>\n",
       "      <td>...</td>\n",
       "      <td>...</td>\n",
       "      <td>...</td>\n",
       "      <td>...</td>\n",
       "      <td>...</td>\n",
       "      <td>...</td>\n",
       "    </tr>\n",
       "    <tr>\n",
       "      <th>234</th>\n",
       "      <td>Falkland Islands (United Kingdom)</td>\n",
       "      <td>3780</td>\n",
       "      <td>3791</td>\n",
       "      <td>+0.29%</td>\n",
       "      <td>Americas</td>\n",
       "      <td>South America</td>\n",
       "    </tr>\n",
       "    <tr>\n",
       "      <th>235</th>\n",
       "      <td>Niue</td>\n",
       "      <td>1934</td>\n",
       "      <td>1935</td>\n",
       "      <td>+0.05%</td>\n",
       "      <td>Oceania</td>\n",
       "      <td>Polynesia</td>\n",
       "    </tr>\n",
       "    <tr>\n",
       "      <th>236</th>\n",
       "      <td>Tokelau (New Zealand)</td>\n",
       "      <td>1871</td>\n",
       "      <td>1893</td>\n",
       "      <td>+1.18%</td>\n",
       "      <td>Oceania</td>\n",
       "      <td>Polynesia</td>\n",
       "    </tr>\n",
       "    <tr>\n",
       "      <th>237</th>\n",
       "      <td>Vatican City[x]</td>\n",
       "      <td>510</td>\n",
       "      <td>518</td>\n",
       "      <td>NaN</td>\n",
       "      <td>Europe</td>\n",
       "      <td>Southern Europe</td>\n",
       "    </tr>\n",
       "    <tr>\n",
       "      <th>238</th>\n",
       "      <td>Pitcairn Islands (United Kingdom)</td>\n",
       "      <td>55</td>\n",
       "      <td>45</td>\n",
       "      <td>-18.1818%</td>\n",
       "      <td>Oceania</td>\n",
       "      <td>Polynesia</td>\n",
       "    </tr>\n",
       "  </tbody>\n",
       "</table>\n",
       "<p>239 rows × 6 columns</p>\n",
       "</div>"
      ],
      "text/plain": [
       "                              Location  Population (1 July 2022)  \\\n",
       "0                                World                7975105156   \n",
       "1                                India                1417173173   \n",
       "2                             China[a]                1425887337   \n",
       "3                        United States                 338289857   \n",
       "4                            Indonesia                 275501339   \n",
       "..                                 ...                       ...   \n",
       "234  Falkland Islands (United Kingdom)                      3780   \n",
       "235                               Niue                      1934   \n",
       "236              Tokelau (New Zealand)                      1871   \n",
       "237                    Vatican City[x]                       510   \n",
       "238  Pitcairn Islands (United Kingdom)                        55   \n",
       "\n",
       "     Population (1 July 2023)     Change UN Continental Region[1]  \\\n",
       "0                  8045311448     +0.88%                      NaN   \n",
       "1                  1428627663     +0.81%                     Asia   \n",
       "2                  1425671352     −0.02%                     Asia   \n",
       "3                   339996564     +0.50%                 Americas   \n",
       "4                   277534123     +0.74%                     Asia   \n",
       "..                        ...        ...                      ...   \n",
       "234                      3791     +0.29%                 Americas   \n",
       "235                      1935     +0.05%                  Oceania   \n",
       "236                      1893     +1.18%                  Oceania   \n",
       "237                       518        NaN                   Europe   \n",
       "238                        45  -18.1818%                  Oceania   \n",
       "\n",
       "    UN Statistical Subregion[1]  \n",
       "0                           NaN  \n",
       "1                 Southern Asia  \n",
       "2                  Eastern Asia  \n",
       "3              Northern America  \n",
       "4            South-eastern Asia  \n",
       "..                          ...  \n",
       "234               South America  \n",
       "235                   Polynesia  \n",
       "236                   Polynesia  \n",
       "237             Southern Europe  \n",
       "238                   Polynesia  \n",
       "\n",
       "[239 rows x 6 columns]"
      ]
     },
     "execution_count": 119,
     "metadata": {},
     "output_type": "execute_result"
    }
   ],
   "source": [
    "df_html[0]"
   ]
  },
  {
   "cell_type": "code",
   "execution_count": null,
   "id": "c0aaf177",
   "metadata": {},
   "outputs": [],
   "source": []
  }
 ],
 "metadata": {
  "kernelspec": {
   "display_name": "Python 3 (ipykernel)",
   "language": "python",
   "name": "python3"
  },
  "language_info": {
   "codemirror_mode": {
    "name": "ipython",
    "version": 3
   },
   "file_extension": ".py",
   "mimetype": "text/x-python",
   "name": "python",
   "nbconvert_exporter": "python",
   "pygments_lexer": "ipython3",
   "version": "3.11.5"
  }
 },
 "nbformat": 4,
 "nbformat_minor": 5
}
