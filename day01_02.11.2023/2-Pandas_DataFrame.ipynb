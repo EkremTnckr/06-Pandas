{
 "cells": [
  {
   "cell_type": "markdown",
   "id": "5081774b",
   "metadata": {},
   "source": [
    "# Importing Libraries"
   ]
  },
  {
   "cell_type": "code",
   "execution_count": 4,
   "id": "9ccda84d",
   "metadata": {
    "ExecuteTime": {
     "end_time": "2024-01-23T11:48:19.644760Z",
     "start_time": "2024-01-23T11:48:19.247272Z"
    }
   },
   "outputs": [],
   "source": [
    "import pandas as pd\n",
    "import numpy as np "
   ]
  },
  {
   "cell_type": "markdown",
   "id": "7c5dbd61",
   "metadata": {},
   "source": [
    "# Numpy - Split"
   ]
  },
  {
   "cell_type": "code",
   "execution_count": 3,
   "id": "4b3430a7",
   "metadata": {
    "ExecuteTime": {
     "end_time": "2024-01-23T11:28:26.831169Z",
     "start_time": "2024-01-23T11:28:26.825578Z"
    }
   },
   "outputs": [
    {
     "data": {
      "text/plain": [
       "array([[ 0,  1,  2,  3],\n",
       "       [ 4,  5,  6,  7],\n",
       "       [ 8,  9, 10, 11],\n",
       "       [12, 13, 14, 15],\n",
       "       [16, 17, 18, 19]])"
      ]
     },
     "execution_count": 3,
     "metadata": {},
     "output_type": "execute_result"
    }
   ],
   "source": [
    "x =np.arange(20).reshape(5,4)\n",
    "x"
   ]
  },
  {
   "cell_type": "code",
   "execution_count": 7,
   "id": "e5e16cc9",
   "metadata": {
    "ExecuteTime": {
     "end_time": "2024-01-23T11:28:39.043830Z",
     "start_time": "2024-01-23T11:28:39.039181Z"
    }
   },
   "outputs": [
    {
     "data": {
      "text/plain": [
       "[array([[0, 1, 2, 3]]),\n",
       " array([[ 4,  5,  6,  7],\n",
       "        [ 8,  9, 10, 11]]),\n",
       " array([[12, 13, 14, 15],\n",
       "        [16, 17, 18, 19]])]"
      ]
     },
     "execution_count": 7,
     "metadata": {},
     "output_type": "execute_result"
    }
   ],
   "source": [
    "np.split(x,[1,3])"
   ]
  },
  {
   "cell_type": "code",
   "execution_count": 8,
   "id": "b94146f8",
   "metadata": {
    "ExecuteTime": {
     "end_time": "2024-01-23T11:28:48.133945Z",
     "start_time": "2024-01-23T11:28:48.131047Z"
    }
   },
   "outputs": [],
   "source": [
    " part1,part2,part3   = np.split(x,[1,3])"
   ]
  },
  {
   "cell_type": "code",
   "execution_count": 9,
   "id": "b4fc5392",
   "metadata": {
    "ExecuteTime": {
     "end_time": "2024-01-23T11:28:50.015887Z",
     "start_time": "2024-01-23T11:28:50.012110Z"
    }
   },
   "outputs": [
    {
     "data": {
      "text/plain": [
       "array([[0, 1, 2, 3]])"
      ]
     },
     "execution_count": 9,
     "metadata": {},
     "output_type": "execute_result"
    }
   ],
   "source": [
    "part1"
   ]
  },
  {
   "cell_type": "code",
   "execution_count": 10,
   "id": "3e5fef68",
   "metadata": {
    "ExecuteTime": {
     "end_time": "2024-01-23T11:28:56.225169Z",
     "start_time": "2024-01-23T11:28:56.221339Z"
    }
   },
   "outputs": [
    {
     "data": {
      "text/plain": [
       "array([[ 4,  5,  6,  7],\n",
       "       [ 8,  9, 10, 11]])"
      ]
     },
     "execution_count": 10,
     "metadata": {},
     "output_type": "execute_result"
    }
   ],
   "source": [
    "part2"
   ]
  },
  {
   "cell_type": "code",
   "execution_count": 11,
   "id": "f0466237",
   "metadata": {
    "ExecuteTime": {
     "end_time": "2024-01-23T11:29:01.436612Z",
     "start_time": "2024-01-23T11:29:01.433404Z"
    }
   },
   "outputs": [
    {
     "data": {
      "text/plain": [
       "array([[12, 13, 14, 15],\n",
       "       [16, 17, 18, 19]])"
      ]
     },
     "execution_count": 11,
     "metadata": {},
     "output_type": "execute_result"
    }
   ],
   "source": [
    "part3"
   ]
  },
  {
   "cell_type": "code",
   "execution_count": 12,
   "id": "2bccdac8",
   "metadata": {
    "ExecuteTime": {
     "end_time": "2024-01-23T11:30:27.191533Z",
     "start_time": "2024-01-23T11:30:27.188556Z"
    }
   },
   "outputs": [],
   "source": [
    "  splitted = np.split(x,[1,3])"
   ]
  },
  {
   "cell_type": "code",
   "execution_count": 13,
   "id": "7ab4989e",
   "metadata": {
    "ExecuteTime": {
     "end_time": "2024-01-23T11:30:40.575427Z",
     "start_time": "2024-01-23T11:30:40.571692Z"
    }
   },
   "outputs": [
    {
     "data": {
      "text/plain": [
       "array([[0, 1, 2, 3]])"
      ]
     },
     "execution_count": 13,
     "metadata": {},
     "output_type": "execute_result"
    }
   ],
   "source": [
    "splitted[0]"
   ]
  },
  {
   "cell_type": "code",
   "execution_count": 14,
   "id": "122aae24",
   "metadata": {
    "ExecuteTime": {
     "end_time": "2024-01-23T11:30:45.803923Z",
     "start_time": "2024-01-23T11:30:45.798883Z"
    }
   },
   "outputs": [
    {
     "data": {
      "text/plain": [
       "array([[ 4,  5,  6,  7],\n",
       "       [ 8,  9, 10, 11]])"
      ]
     },
     "execution_count": 14,
     "metadata": {},
     "output_type": "execute_result"
    }
   ],
   "source": [
    "splitted[1]"
   ]
  },
  {
   "cell_type": "code",
   "execution_count": 16,
   "id": "0eebdd83",
   "metadata": {
    "ExecuteTime": {
     "end_time": "2024-01-23T11:30:59.271903Z",
     "start_time": "2024-01-23T11:30:59.268619Z"
    }
   },
   "outputs": [
    {
     "data": {
      "text/plain": [
       "array([[12, 13, 14, 15],\n",
       "       [16, 17, 18, 19]])"
      ]
     },
     "execution_count": 16,
     "metadata": {},
     "output_type": "execute_result"
    }
   ],
   "source": [
    "splitted[2]"
   ]
  },
  {
   "cell_type": "markdown",
   "id": "7fabfa5e",
   "metadata": {},
   "source": [
    "#  Using List "
   ]
  },
  {
   "cell_type": "code",
   "execution_count": 5,
   "id": "e240c960",
   "metadata": {
    "ExecuteTime": {
     "end_time": "2024-01-23T11:48:25.005496Z",
     "start_time": "2024-01-23T11:48:25.001183Z"
    }
   },
   "outputs": [
    {
     "data": {
      "text/plain": [
       "[1, 2, 3, 4, 5]"
      ]
     },
     "execution_count": 5,
     "metadata": {},
     "output_type": "execute_result"
    }
   ],
   "source": [
    "data =[1,2,3,4,5]\n",
    "data"
   ]
  },
  {
   "cell_type": "code",
   "execution_count": 6,
   "id": "0ff37336",
   "metadata": {
    "ExecuteTime": {
     "end_time": "2024-01-23T11:48:31.353796Z",
     "start_time": "2024-01-23T11:48:31.348380Z"
    }
   },
   "outputs": [
    {
     "data": {
      "text/plain": [
       "0    1\n",
       "1    2\n",
       "2    3\n",
       "3    4\n",
       "4    5\n",
       "dtype: int64"
      ]
     },
     "execution_count": 6,
     "metadata": {},
     "output_type": "execute_result"
    }
   ],
   "source": [
    "seri = pd.Series(data)\n",
    "seri"
   ]
  },
  {
   "cell_type": "code",
   "execution_count": null,
   "id": "eab2ae0f",
   "metadata": {},
   "outputs": [],
   "source": []
  }
 ],
 "metadata": {
  "hide_input": false,
  "kernelspec": {
   "display_name": "Python 3 (ipykernel)",
   "language": "python",
   "name": "python3"
  },
  "language_info": {
   "codemirror_mode": {
    "name": "ipython",
    "version": 3
   },
   "file_extension": ".py",
   "mimetype": "text/x-python",
   "name": "python",
   "nbconvert_exporter": "python",
   "pygments_lexer": "ipython3",
   "version": "3.11.4"
  },
  "nbTranslate": {
   "displayLangs": [
    "*"
   ],
   "hotkey": "alt-t",
   "langInMainMenu": true,
   "sourceLang": "en",
   "targetLang": "fr",
   "useGoogleTranslate": true
  },
  "toc": {
   "base_numbering": 1,
   "nav_menu": {},
   "number_sections": true,
   "sideBar": true,
   "skip_h1_title": false,
   "title_cell": "Table of Contents",
   "title_sidebar": "Contents",
   "toc_cell": false,
   "toc_position": {},
   "toc_section_display": true,
   "toc_window_display": false
  }
 },
 "nbformat": 4,
 "nbformat_minor": 5
}
