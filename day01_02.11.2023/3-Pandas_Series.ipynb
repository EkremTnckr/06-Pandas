{
 "cells": [
  {
   "cell_type": "markdown",
   "id": "4568657c",
   "metadata": {},
   "source": [
    "# Pandas Series\n",
    "### Numpy dizi serilerinin uzerine insa edilmistir,cok benzerdir.\n",
    "### Herhangi bir veri tipinde veri tutabilen tek boyutlu etiketli bir dizidir.\n",
    "### Etiket degerine indeks denir.\n",
    "### Pandasta veri sayi,dize(string ifade),vb..Python objesinden olusabilir.\n",
    "### Seri olusturmak icin  listeler,diziler ya da sozlukler kullanilabilir.\n",
    "### indexler 1 den baslar."
   ]
  },
  {
   "cell_type": "markdown",
   "id": "9c1aff64",
   "metadata": {},
   "source": [
    "# Creating Series"
   ]
  },
  {
   "cell_type": "code",
   "execution_count": 2,
   "id": "c76603d4",
   "metadata": {
    "ExecuteTime": {
     "end_time": "2024-01-22T17:44:11.935456Z",
     "start_time": "2024-01-22T17:44:11.932322Z"
    }
   },
   "outputs": [],
   "source": [
    "import pandas as pd \n",
    "import numpy as np\n"
   ]
  },
  {
   "cell_type": "code",
   "execution_count": 3,
   "id": "3b3fb615",
   "metadata": {
    "ExecuteTime": {
     "end_time": "2024-01-22T17:45:03.441397Z",
     "start_time": "2024-01-22T17:45:03.429760Z"
    }
   },
   "outputs": [
    {
     "data": {
      "text/plain": [
       "0    1\n",
       "1    2\n",
       "2    3\n",
       "3    4\n",
       "dtype: int64"
      ]
     },
     "execution_count": 3,
     "metadata": {},
     "output_type": "execute_result"
    }
   ],
   "source": [
    "s1= pd.Series([1, 2, 3, 4])\n",
    "s1"
   ]
  },
  {
   "cell_type": "code",
   "execution_count": null,
   "id": "551743ee",
   "metadata": {},
   "outputs": [],
   "source": []
  }
 ],
 "metadata": {
  "hide_input": false,
  "kernelspec": {
   "display_name": "Python 3 (ipykernel)",
   "language": "python",
   "name": "python3"
  },
  "language_info": {
   "codemirror_mode": {
    "name": "ipython",
    "version": 3
   },
   "file_extension": ".py",
   "mimetype": "text/x-python",
   "name": "python",
   "nbconvert_exporter": "python",
   "pygments_lexer": "ipython3",
   "version": "3.11.4"
  },
  "nbTranslate": {
   "displayLangs": [
    "*"
   ],
   "hotkey": "alt-t",
   "langInMainMenu": true,
   "sourceLang": "en",
   "targetLang": "fr",
   "useGoogleTranslate": true
  },
  "toc": {
   "base_numbering": 1,
   "nav_menu": {},
   "number_sections": true,
   "sideBar": true,
   "skip_h1_title": false,
   "title_cell": "Table of Contents",
   "title_sidebar": "Contents",
   "toc_cell": false,
   "toc_position": {},
   "toc_section_display": true,
   "toc_window_display": false
  }
 },
 "nbformat": 4,
 "nbformat_minor": 5
}
