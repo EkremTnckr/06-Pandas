{
 "cells": [
  {
   "cell_type": "markdown",
   "id": "c0f07ef5",
   "metadata": {},
   "source": [
    "## PANDAS INTRODUCTION"
   ]
  },
  {
   "cell_type": "markdown",
   "id": "d12e82f7",
   "metadata": {},
   "source": [
    "### Pandas =Panel Data System \n",
    "### Panel Data,ekonomimetri ve istatistiksel  analizde kullanilan bir aractir.\n",
    "### Panel veri, birden fazla birimden(ornek;bireyler,firmalar,ulkeler vb...) ve zaman icersinde toplanan verileri ifade eder.\n",
    "\n",
    "### Pandas ,Python programlama dilinde veri manipulasyonu ve analizi icin kullanilan acik kaynakli bir kutuphanedir.\n",
    "#### Pandas iki temel veri yapisi var.\n",
    "#### 1-Series(Tek boyutlu veriyapisi)\n",
    "#### 2-Data Frame (iki boyutlu veri yapisi)\n",
    "### Pratikte Pandas DataFrame adli yapi ile tablosal veriler uzerinde islem yapmak icin kullanilir."
   ]
  },
  {
   "cell_type": "markdown",
   "id": "455f748c",
   "metadata": {},
   "source": [
    "## Pandasta Ne Yapabiliriz?\n",
    "### Veri Temizleme ve On Isleme\n",
    "    -Eksik verilerin doldurulmasi<br>\n",
    "    -Veri donusturme <br>\n",
    "    -Hatali verilerin cikarilmasi<br> \n",
    "    -Veri formatinin degistirilmesi <br>\n",
    "###   Veri Analizi \n",
    "   -Verilerin analiz edilmesi ve ozetlenmesi<br>\n",
    "    -Istatiksel analizlerin yapilmasi <br>\n",
    "    -Future Engineeering(ozellik muhendisligi) <br>\n",
    "    \n",
    "### Veri Gorsellestirme \n",
    "    -Verilerin anlasilmasini ve yorumlanmasini kolaylastirmak icn Verilerin cesitli grafikllerle gorsellestirilmesi <br>\n",
    "    \n",
    "###  Makine ogrenmesi \n",
    "     -Veri setini makine ogrenmesi algoritmalarina beslemek uzere  veriyi on isleme ve hazirlama konusunda kullanislidir<br>\n",
    "    \n",
    "    \n",
    "    -"
   ]
  },
  {
   "cell_type": "markdown",
   "id": "22547038",
   "metadata": {},
   "source": [
    "# Pandas Series\n",
    "### Numpy dizi serilerinin uzerine insa edilmistir,cok benzerdir.\n",
    "### Herhangi bir veri tipinde veri tutabilen tek boyutlu etiketli bir dizidir.\n",
    "### Etiket degerine indeks denir.\n",
    "### Pandasta veri sayi,dize(string ifade),vb..Python objesinden olusabilir.\n",
    "### Seri olusturmak icin  listeler,diziler ya da sozlukler kullanilabilir.\n",
    "### indexler 1 den baslar."
   ]
  },
  {
   "cell_type": "code",
   "execution_count": null,
   "id": "f0865b59",
   "metadata": {},
   "outputs": [],
   "source": []
  }
 ],
 "metadata": {
  "hide_input": false,
  "kernelspec": {
   "display_name": "Python 3 (ipykernel)",
   "language": "python",
   "name": "python3"
  },
  "language_info": {
   "codemirror_mode": {
    "name": "ipython",
    "version": 3
   },
   "file_extension": ".py",
   "mimetype": "text/x-python",
   "name": "python",
   "nbconvert_exporter": "python",
   "pygments_lexer": "ipython3",
   "version": "3.11.4"
  },
  "nbTranslate": {
   "displayLangs": [
    "*"
   ],
   "hotkey": "alt-t",
   "langInMainMenu": true,
   "sourceLang": "en",
   "targetLang": "fr",
   "useGoogleTranslate": true
  },
  "toc": {
   "base_numbering": 1,
   "nav_menu": {},
   "number_sections": true,
   "sideBar": true,
   "skip_h1_title": false,
   "title_cell": "Table of Contents",
   "title_sidebar": "Contents",
   "toc_cell": false,
   "toc_position": {},
   "toc_section_display": true,
   "toc_window_display": false
  }
 },
 "nbformat": 4,
 "nbformat_minor": 5
}
